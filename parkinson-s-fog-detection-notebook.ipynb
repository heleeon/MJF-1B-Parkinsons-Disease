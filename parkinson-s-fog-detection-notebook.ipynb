{
 "cells": [
  {
   "cell_type": "code",
   "execution_count": 1,
   "id": "3c0d3a67",
   "metadata": {
    "_cell_guid": "b1076dfc-b9ad-4769-8c92-a6c4dae69d19",
    "_uuid": "8f2839f25d086af736a60e9eeb907d3b93b6e0e5",
    "execution": {
     "iopub.execute_input": "2025-09-18T23:36:10.615692Z",
     "iopub.status.busy": "2025-09-18T23:36:10.615248Z",
     "iopub.status.idle": "2025-09-18T23:36:20.110664Z",
     "shell.execute_reply": "2025-09-18T23:36:20.109820Z"
    },
    "papermill": {
     "duration": 9.50579,
     "end_time": "2025-09-18T23:36:20.112427",
     "exception": false,
     "start_time": "2025-09-18T23:36:10.606637",
     "status": "completed"
    },
    "tags": []
   },
   "outputs": [],
   "source": [
    "# This Python 3 environment comes with many helpful analytics libraries installed\n",
    "# It is defined by the kaggle/python Docker image: https://github.com/kaggle/docker-python\n",
    "# For example, here's several helpful packages to load\n",
    "\n",
    "import numpy as np # linear algebra\n",
    "import pandas as pd # data processing, CSV file I/O (e.g. pd.read_csv)\n",
    "import matplotlib.pyplot as plt\n",
    "import seaborn as sns   \n",
    "from scipy.signal import butter, filtfilt\n",
    "# import seglearn as sglearn        # For windowing and sequence modeling\n",
    "import tsfresh     \n",
    "import os\n",
    "from sklearn.preprocessing import StandardScaler\n",
    "\n",
    " \n",
    "# Input data files are available in the read-only \"../input/\" directory\n",
    "# For example, running this (by clicking run or pressing Shift+Enter) will list all files under the input directory\n",
    "\n",
    "# import os\n",
    "# for dirname, _, filenames in os.walk('/kaggle/input'):\n",
    "#     for filename in filenames:\n",
    "#         print(os.path.join(dirname, filename))\n",
    "\n",
    "# You can write up to 20GB to the current directory (/kaggle/working/) that gets preserved as output when you create a version using \"Save & Run All\" \n",
    "# You can also write temporary files to /kaggle/temp/, but they won't be saved outside of the current session"
   ]
  },
  {
   "cell_type": "code",
   "execution_count": 2,
   "id": "d04b825c",
   "metadata": {
    "execution": {
     "iopub.execute_input": "2025-09-18T23:36:20.126406Z",
     "iopub.status.busy": "2025-09-18T23:36:20.125194Z",
     "iopub.status.idle": "2025-09-18T23:36:20.786826Z",
     "shell.execute_reply": "2025-09-18T23:36:20.786122Z"
    },
    "papermill": {
     "duration": 0.669742,
     "end_time": "2025-09-18T23:36:20.788444",
     "exception": false,
     "start_time": "2025-09-18T23:36:20.118702",
     "status": "completed"
    },
    "tags": []
   },
   "outputs": [],
   "source": [
    "import polars as pl\n",
    "import dask.dataframe as dd\n",
    "from pathlib import Path"
   ]
  },
  {
   "cell_type": "markdown",
   "id": "60b0c898",
   "metadata": {
    "papermill": {
     "duration": 0.005134,
     "end_time": "2025-09-18T23:36:20.799244",
     "exception": false,
     "start_time": "2025-09-18T23:36:20.794110",
     "status": "completed"
    },
    "tags": []
   },
   "source": [
    "# Data Exploration"
   ]
  },
  {
   "cell_type": "code",
   "execution_count": 3,
   "id": "da45daea",
   "metadata": {
    "execution": {
     "iopub.execute_input": "2025-09-18T23:36:20.811235Z",
     "iopub.status.busy": "2025-09-18T23:36:20.810917Z",
     "iopub.status.idle": "2025-09-18T23:36:20.815070Z",
     "shell.execute_reply": "2025-09-18T23:36:20.814316Z"
    },
    "papermill": {
     "duration": 0.011729,
     "end_time": "2025-09-18T23:36:20.816419",
     "exception": false,
     "start_time": "2025-09-18T23:36:20.804690",
     "status": "completed"
    },
    "tags": []
   },
   "outputs": [],
   "source": [
    "# File paths for three training datasets\n",
    "defog = Path('/kaggle/input/tlvmc-parkinsons-freezing-gait-prediction/train/defog')\n",
    "notype = Path('/kaggle/input/tlvmc-parkinsons-freezing-gait-prediction/train/notype')\n",
    "tdcsfog = Path('/kaggle/input/tlvmc-parkinsons-freezing-gait-prediction/train/tdcsfog')"
   ]
  },
  {
   "cell_type": "code",
   "execution_count": 4,
   "id": "d5975edc",
   "metadata": {
    "execution": {
     "iopub.execute_input": "2025-09-18T23:36:20.828939Z",
     "iopub.status.busy": "2025-09-18T23:36:20.828382Z",
     "iopub.status.idle": "2025-09-18T23:36:32.714278Z",
     "shell.execute_reply": "2025-09-18T23:36:32.713367Z"
    },
    "papermill": {
     "duration": 11.893683,
     "end_time": "2025-09-18T23:36:32.715740",
     "exception": false,
     "start_time": "2025-09-18T23:36:20.822057",
     "status": "completed"
    },
    "tags": []
   },
   "outputs": [],
   "source": [
    "defog_files = [f for f in os.listdir(defog) if f.endswith('.csv')]\n",
    "\n",
    "# List to store individual DataFrames\n",
    "defog_list = []\n",
    "\n",
    "for path in defog.glob(\"*.csv\"):\n",
    "    patient_id = path.stem  # removes .csv\n",
    "\n",
    "    df = pl.read_csv(path)\n",
    "    df = df.with_columns([\n",
    "        pl.lit(patient_id).alias(\"patient_id\")\n",
    "    ])\n",
    "    \n",
    "    defog_list.append(df)\n",
    "\n",
    "defog_df = pl.concat(defog_list)\n",
    "# for f in defog_files:\n",
    "#     file_path = os.path.join(defog, f)\n",
    "#     df = pl.read_csv(file_path)\n",
    "#     df = df.with_columns([\n",
    "#         pl.lit(f).alias('file')  # Add filename as identifier\n",
    "#     ])\n",
    "#     defog_list.append(df)\n",
    "\n",
    "# # Concatenate into one large DataFrame\n",
    "# defog_df = pl.concat(defog_list)"
   ]
  },
  {
   "cell_type": "code",
   "execution_count": 5,
   "id": "f2de87ac",
   "metadata": {
    "execution": {
     "iopub.execute_input": "2025-09-18T23:36:32.728162Z",
     "iopub.status.busy": "2025-09-18T23:36:32.727874Z",
     "iopub.status.idle": "2025-09-18T23:36:32.746170Z",
     "shell.execute_reply": "2025-09-18T23:36:32.745329Z"
    },
    "papermill": {
     "duration": 0.025865,
     "end_time": "2025-09-18T23:36:32.747446",
     "exception": false,
     "start_time": "2025-09-18T23:36:32.721581",
     "status": "completed"
    },
    "tags": []
   },
   "outputs": [
    {
     "data": {
      "text/html": [
       "<div><style>\n",
       ".dataframe > thead > tr,\n",
       ".dataframe > tbody > tr {\n",
       "  text-align: right;\n",
       "  white-space: pre-wrap;\n",
       "}\n",
       "</style>\n",
       "<small>shape: (5, 10)</small><table border=\"1\" class=\"dataframe\"><thead><tr><th>Time</th><th>AccV</th><th>AccML</th><th>AccAP</th><th>StartHesitation</th><th>Turn</th><th>Walking</th><th>Valid</th><th>Task</th><th>patient_id</th></tr><tr><td>i64</td><td>f64</td><td>f64</td><td>f64</td><td>i64</td><td>i64</td><td>i64</td><td>bool</td><td>bool</td><td>str</td></tr></thead><tbody><tr><td>0</td><td>-1.002697</td><td>0.022371</td><td>0.068304</td><td>0</td><td>0</td><td>0</td><td>false</td><td>false</td><td>&quot;be9d33541d&quot;</td></tr><tr><td>1</td><td>-1.002641</td><td>0.019173</td><td>0.066162</td><td>0</td><td>0</td><td>0</td><td>false</td><td>false</td><td>&quot;be9d33541d&quot;</td></tr><tr><td>2</td><td>-0.99982</td><td>0.019142</td><td>0.067536</td><td>0</td><td>0</td><td>0</td><td>false</td><td>false</td><td>&quot;be9d33541d&quot;</td></tr><tr><td>3</td><td>-0.998023</td><td>0.018378</td><td>0.068409</td><td>0</td><td>0</td><td>0</td><td>false</td><td>false</td><td>&quot;be9d33541d&quot;</td></tr><tr><td>4</td><td>-0.998359</td><td>0.016726</td><td>0.066448</td><td>0</td><td>0</td><td>0</td><td>false</td><td>false</td><td>&quot;be9d33541d&quot;</td></tr></tbody></table></div>"
      ],
      "text/plain": [
       "shape: (5, 10)\n",
       "┌──────┬───────────┬──────────┬──────────┬───┬─────────┬───────┬───────┬────────────┐\n",
       "│ Time ┆ AccV      ┆ AccML    ┆ AccAP    ┆ … ┆ Walking ┆ Valid ┆ Task  ┆ patient_id │\n",
       "│ ---  ┆ ---       ┆ ---      ┆ ---      ┆   ┆ ---     ┆ ---   ┆ ---   ┆ ---        │\n",
       "│ i64  ┆ f64       ┆ f64      ┆ f64      ┆   ┆ i64     ┆ bool  ┆ bool  ┆ str        │\n",
       "╞══════╪═══════════╪══════════╪══════════╪═══╪═════════╪═══════╪═══════╪════════════╡\n",
       "│ 0    ┆ -1.002697 ┆ 0.022371 ┆ 0.068304 ┆ … ┆ 0       ┆ false ┆ false ┆ be9d33541d │\n",
       "│ 1    ┆ -1.002641 ┆ 0.019173 ┆ 0.066162 ┆ … ┆ 0       ┆ false ┆ false ┆ be9d33541d │\n",
       "│ 2    ┆ -0.99982  ┆ 0.019142 ┆ 0.067536 ┆ … ┆ 0       ┆ false ┆ false ┆ be9d33541d │\n",
       "│ 3    ┆ -0.998023 ┆ 0.018378 ┆ 0.068409 ┆ … ┆ 0       ┆ false ┆ false ┆ be9d33541d │\n",
       "│ 4    ┆ -0.998359 ┆ 0.016726 ┆ 0.066448 ┆ … ┆ 0       ┆ false ┆ false ┆ be9d33541d │\n",
       "└──────┴───────────┴──────────┴──────────┴───┴─────────┴───────┴───────┴────────────┘"
      ]
     },
     "execution_count": 5,
     "metadata": {},
     "output_type": "execute_result"
    }
   ],
   "source": [
    "defog_df.head()"
   ]
  },
  {
   "cell_type": "markdown",
   "id": "18528242",
   "metadata": {
    "papermill": {
     "duration": 0.005625,
     "end_time": "2025-09-18T23:36:32.759604",
     "exception": false,
     "start_time": "2025-09-18T23:36:32.753979",
     "status": "completed"
    },
    "tags": []
   },
   "source": [
    "Load dataset"
   ]
  },
  {
   "cell_type": "code",
   "execution_count": 6,
   "id": "9b60f869",
   "metadata": {
    "execution": {
     "iopub.execute_input": "2025-09-18T23:36:32.772051Z",
     "iopub.status.busy": "2025-09-18T23:36:32.771757Z",
     "iopub.status.idle": "2025-09-18T23:36:41.857739Z",
     "shell.execute_reply": "2025-09-18T23:36:41.856766Z"
    },
    "papermill": {
     "duration": 9.09421,
     "end_time": "2025-09-18T23:36:41.859534",
     "exception": false,
     "start_time": "2025-09-18T23:36:32.765324",
     "status": "completed"
    },
    "tags": []
   },
   "outputs": [],
   "source": [
    "notype_files = [f for f in os.listdir(notype) if f.endswith('.csv')]\n",
    "\n",
    "# List to store individual DataFrames\n",
    "notype_list = []\n",
    "\n",
    "for path in notype.glob(\"*.csv\"):\n",
    "    patient_id = path.stem  # removes .csv\n",
    "\n",
    "    df = pl.read_csv(path)\n",
    "    df = df.with_columns([\n",
    "        pl.lit(patient_id).alias(\"patient_id\")\n",
    "    ])\n",
    "    \n",
    "    notype_list.append(df)\n",
    "\n",
    "notype_df = pl.concat(notype_list)"
   ]
  },
  {
   "cell_type": "code",
   "execution_count": 7,
   "id": "6bd57508",
   "metadata": {
    "execution": {
     "iopub.execute_input": "2025-09-18T23:36:41.872788Z",
     "iopub.status.busy": "2025-09-18T23:36:41.872521Z",
     "iopub.status.idle": "2025-09-18T23:36:41.878996Z",
     "shell.execute_reply": "2025-09-18T23:36:41.878151Z"
    },
    "papermill": {
     "duration": 0.014249,
     "end_time": "2025-09-18T23:36:41.880188",
     "exception": false,
     "start_time": "2025-09-18T23:36:41.865939",
     "status": "completed"
    },
    "tags": []
   },
   "outputs": [
    {
     "data": {
      "text/html": [
       "<div><style>\n",
       ".dataframe > thead > tr,\n",
       ".dataframe > tbody > tr {\n",
       "  text-align: right;\n",
       "  white-space: pre-wrap;\n",
       "}\n",
       "</style>\n",
       "<small>shape: (5, 8)</small><table border=\"1\" class=\"dataframe\"><thead><tr><th>Time</th><th>AccV</th><th>AccML</th><th>AccAP</th><th>Event</th><th>Valid</th><th>Task</th><th>patient_id</th></tr><tr><td>i64</td><td>f64</td><td>f64</td><td>f64</td><td>i64</td><td>bool</td><td>bool</td><td>str</td></tr></thead><tbody><tr><td>0</td><td>-0.991926</td><td>-0.119916</td><td>0.050087</td><td>0</td><td>false</td><td>false</td><td>&quot;1e8d55d48d&quot;</td></tr><tr><td>1</td><td>-0.994243</td><td>-0.118624</td><td>0.049909</td><td>0</td><td>false</td><td>false</td><td>&quot;1e8d55d48d&quot;</td></tr><tr><td>2</td><td>-0.99584</td><td>-0.118602</td><td>0.048774</td><td>0</td><td>false</td><td>false</td><td>&quot;1e8d55d48d&quot;</td></tr><tr><td>3</td><td>-0.995865</td><td>-0.121627</td><td>0.04809</td><td>0</td><td>false</td><td>false</td><td>&quot;1e8d55d48d&quot;</td></tr><tr><td>4</td><td>-0.99233</td><td>-0.122146</td><td>0.048878</td><td>0</td><td>false</td><td>false</td><td>&quot;1e8d55d48d&quot;</td></tr></tbody></table></div>"
      ],
      "text/plain": [
       "shape: (5, 8)\n",
       "┌──────┬───────────┬───────────┬──────────┬───────┬───────┬───────┬────────────┐\n",
       "│ Time ┆ AccV      ┆ AccML     ┆ AccAP    ┆ Event ┆ Valid ┆ Task  ┆ patient_id │\n",
       "│ ---  ┆ ---       ┆ ---       ┆ ---      ┆ ---   ┆ ---   ┆ ---   ┆ ---        │\n",
       "│ i64  ┆ f64       ┆ f64       ┆ f64      ┆ i64   ┆ bool  ┆ bool  ┆ str        │\n",
       "╞══════╪═══════════╪═══════════╪══════════╪═══════╪═══════╪═══════╪════════════╡\n",
       "│ 0    ┆ -0.991926 ┆ -0.119916 ┆ 0.050087 ┆ 0     ┆ false ┆ false ┆ 1e8d55d48d │\n",
       "│ 1    ┆ -0.994243 ┆ -0.118624 ┆ 0.049909 ┆ 0     ┆ false ┆ false ┆ 1e8d55d48d │\n",
       "│ 2    ┆ -0.99584  ┆ -0.118602 ┆ 0.048774 ┆ 0     ┆ false ┆ false ┆ 1e8d55d48d │\n",
       "│ 3    ┆ -0.995865 ┆ -0.121627 ┆ 0.04809  ┆ 0     ┆ false ┆ false ┆ 1e8d55d48d │\n",
       "│ 4    ┆ -0.99233  ┆ -0.122146 ┆ 0.048878 ┆ 0     ┆ false ┆ false ┆ 1e8d55d48d │\n",
       "└──────┴───────────┴───────────┴──────────┴───────┴───────┴───────┴────────────┘"
      ]
     },
     "execution_count": 7,
     "metadata": {},
     "output_type": "execute_result"
    }
   ],
   "source": [
    "notype_df.head()"
   ]
  },
  {
   "cell_type": "code",
   "execution_count": 8,
   "id": "dc9b9cfd",
   "metadata": {
    "execution": {
     "iopub.execute_input": "2025-09-18T23:36:41.893671Z",
     "iopub.status.busy": "2025-09-18T23:36:41.892843Z",
     "iopub.status.idle": "2025-09-18T23:36:54.703512Z",
     "shell.execute_reply": "2025-09-18T23:36:54.702696Z"
    },
    "papermill": {
     "duration": 12.818765,
     "end_time": "2025-09-18T23:36:54.705018",
     "exception": false,
     "start_time": "2025-09-18T23:36:41.886253",
     "status": "completed"
    },
    "tags": []
   },
   "outputs": [],
   "source": [
    "tdcsfog_files = [f for f in os.listdir(tdcsfog) if f.endswith('.csv')]\n",
    "\n",
    "# List to store individual DataFrames\n",
    "tdcsfog_list = []\n",
    "\n",
    "for path in tdcsfog.glob(\"*.csv\"):\n",
    "    patient_id = path.stem  # removes .csv\n",
    "\n",
    "    df = pl.read_csv(path)\n",
    "    df = df.with_columns([\n",
    "        pl.lit(patient_id).alias(\"patient_id\")\n",
    "    ])\n",
    "    \n",
    "    tdcsfog_list.append(df)\n",
    "\n",
    "tdcsfog_df = pl.concat(tdcsfog_list)"
   ]
  },
  {
   "cell_type": "code",
   "execution_count": 9,
   "id": "6434be08",
   "metadata": {
    "execution": {
     "iopub.execute_input": "2025-09-18T23:36:54.718517Z",
     "iopub.status.busy": "2025-09-18T23:36:54.718182Z",
     "iopub.status.idle": "2025-09-18T23:36:54.724331Z",
     "shell.execute_reply": "2025-09-18T23:36:54.723608Z"
    },
    "papermill": {
     "duration": 0.014356,
     "end_time": "2025-09-18T23:36:54.725471",
     "exception": false,
     "start_time": "2025-09-18T23:36:54.711115",
     "status": "completed"
    },
    "tags": []
   },
   "outputs": [
    {
     "data": {
      "text/html": [
       "<div><style>\n",
       ".dataframe > thead > tr,\n",
       ".dataframe > tbody > tr {\n",
       "  text-align: right;\n",
       "  white-space: pre-wrap;\n",
       "}\n",
       "</style>\n",
       "<small>shape: (5, 8)</small><table border=\"1\" class=\"dataframe\"><thead><tr><th>Time</th><th>AccV</th><th>AccML</th><th>AccAP</th><th>StartHesitation</th><th>Turn</th><th>Walking</th><th>patient_id</th></tr><tr><td>i64</td><td>f64</td><td>f64</td><td>f64</td><td>i64</td><td>i64</td><td>i64</td><td>str</td></tr></thead><tbody><tr><td>0</td><td>-9.66589</td><td>0.04255</td><td>0.184744</td><td>0</td><td>0</td><td>0</td><td>&quot;a171e61840&quot;</td></tr><tr><td>1</td><td>-9.672969</td><td>0.049217</td><td>0.184644</td><td>0</td><td>0</td><td>0</td><td>&quot;a171e61840&quot;</td></tr><tr><td>2</td><td>-9.67026</td><td>0.03362</td><td>0.19379</td><td>0</td><td>0</td><td>0</td><td>&quot;a171e61840&quot;</td></tr><tr><td>3</td><td>-9.673356</td><td>0.035159</td><td>0.184369</td><td>0</td><td>0</td><td>0</td><td>&quot;a171e61840&quot;</td></tr><tr><td>4</td><td>-9.671458</td><td>0.043913</td><td>0.197814</td><td>0</td><td>0</td><td>0</td><td>&quot;a171e61840&quot;</td></tr></tbody></table></div>"
      ],
      "text/plain": [
       "shape: (5, 8)\n",
       "┌──────┬───────────┬──────────┬──────────┬─────────────────┬──────┬─────────┬────────────┐\n",
       "│ Time ┆ AccV      ┆ AccML    ┆ AccAP    ┆ StartHesitation ┆ Turn ┆ Walking ┆ patient_id │\n",
       "│ ---  ┆ ---       ┆ ---      ┆ ---      ┆ ---             ┆ ---  ┆ ---     ┆ ---        │\n",
       "│ i64  ┆ f64       ┆ f64      ┆ f64      ┆ i64             ┆ i64  ┆ i64     ┆ str        │\n",
       "╞══════╪═══════════╪══════════╪══════════╪═════════════════╪══════╪═════════╪════════════╡\n",
       "│ 0    ┆ -9.66589  ┆ 0.04255  ┆ 0.184744 ┆ 0               ┆ 0    ┆ 0       ┆ a171e61840 │\n",
       "│ 1    ┆ -9.672969 ┆ 0.049217 ┆ 0.184644 ┆ 0               ┆ 0    ┆ 0       ┆ a171e61840 │\n",
       "│ 2    ┆ -9.67026  ┆ 0.03362  ┆ 0.19379  ┆ 0               ┆ 0    ┆ 0       ┆ a171e61840 │\n",
       "│ 3    ┆ -9.673356 ┆ 0.035159 ┆ 0.184369 ┆ 0               ┆ 0    ┆ 0       ┆ a171e61840 │\n",
       "│ 4    ┆ -9.671458 ┆ 0.043913 ┆ 0.197814 ┆ 0               ┆ 0    ┆ 0       ┆ a171e61840 │\n",
       "└──────┴───────────┴──────────┴──────────┴─────────────────┴──────┴─────────┴────────────┘"
      ]
     },
     "execution_count": 9,
     "metadata": {},
     "output_type": "execute_result"
    }
   ],
   "source": [
    "tdcsfog_df.head()"
   ]
  },
  {
   "cell_type": "markdown",
   "id": "c4264eeb",
   "metadata": {
    "papermill": {
     "duration": 0.005708,
     "end_time": "2025-09-18T23:36:54.737316",
     "exception": false,
     "start_time": "2025-09-18T23:36:54.731608",
     "status": "completed"
    },
    "tags": []
   },
   "source": [
    "Inspect Structure\n",
    "* What are the columns/features?\n",
    "* What do they represent (accelerometer, gyroscope, frequency, time)?\n",
    "* Are there multiple subjects? Sessions? Devices?\n",
    "* What is the sampling frequency?\n",
    "* How many rows per subject/session?\n",
    "* Distribution of target labels (e.g., freezing events)"
   ]
  },
  {
   "cell_type": "code",
   "execution_count": 10,
   "id": "50bd599c",
   "metadata": {
    "execution": {
     "iopub.execute_input": "2025-09-18T23:36:54.750201Z",
     "iopub.status.busy": "2025-09-18T23:36:54.749897Z",
     "iopub.status.idle": "2025-09-18T23:36:56.397547Z",
     "shell.execute_reply": "2025-09-18T23:36:56.396083Z"
    },
    "papermill": {
     "duration": 1.655805,
     "end_time": "2025-09-18T23:36:56.399015",
     "exception": false,
     "start_time": "2025-09-18T23:36:54.743210",
     "status": "completed"
    },
    "tags": []
   },
   "outputs": [
    {
     "name": "stdout",
     "output_type": "stream",
     "text": [
      "shape: (5, 10)\n",
      "┌──────┬───────────┬──────────┬──────────┬───┬─────────┬───────┬───────┬────────────┐\n",
      "│ Time ┆ AccV      ┆ AccML    ┆ AccAP    ┆ … ┆ Walking ┆ Valid ┆ Task  ┆ patient_id │\n",
      "│ ---  ┆ ---       ┆ ---      ┆ ---      ┆   ┆ ---     ┆ ---   ┆ ---   ┆ ---        │\n",
      "│ i64  ┆ f64       ┆ f64      ┆ f64      ┆   ┆ i64     ┆ bool  ┆ bool  ┆ str        │\n",
      "╞══════╪═══════════╪══════════╪══════════╪═══╪═════════╪═══════╪═══════╪════════════╡\n",
      "│ 0    ┆ -1.002697 ┆ 0.022371 ┆ 0.068304 ┆ … ┆ 0       ┆ false ┆ false ┆ be9d33541d │\n",
      "│ 1    ┆ -1.002641 ┆ 0.019173 ┆ 0.066162 ┆ … ┆ 0       ┆ false ┆ false ┆ be9d33541d │\n",
      "│ 2    ┆ -0.99982  ┆ 0.019142 ┆ 0.067536 ┆ … ┆ 0       ┆ false ┆ false ┆ be9d33541d │\n",
      "│ 3    ┆ -0.998023 ┆ 0.018378 ┆ 0.068409 ┆ … ┆ 0       ┆ false ┆ false ┆ be9d33541d │\n",
      "│ 4    ┆ -0.998359 ┆ 0.016726 ┆ 0.066448 ┆ … ┆ 0       ┆ false ┆ false ┆ be9d33541d │\n",
      "└──────┴───────────┴──────────┴──────────┴───┴─────────┴───────┴───────┴────────────┘\n",
      "shape: (9, 11)\n",
      "┌───────────┬───────────┬───────────┬───────────┬───┬───────────┬───────────┬───────────┬──────────┐\n",
      "│ statistic ┆ Time      ┆ AccV      ┆ AccML     ┆ … ┆ Walking   ┆ Valid     ┆ Task      ┆ patient_ │\n",
      "│ ---       ┆ ---       ┆ ---       ┆ ---       ┆   ┆ ---       ┆ ---       ┆ ---       ┆ id       │\n",
      "│ str       ┆ f64       ┆ f64       ┆ f64       ┆   ┆ f64       ┆ f64       ┆ f64       ┆ ---      │\n",
      "│           ┆           ┆           ┆           ┆   ┆           ┆           ┆           ┆ str      │\n",
      "╞═══════════╪═══════════╪═══════════╪═══════════╪═══╪═══════════╪═══════════╪═══════════╪══════════╡\n",
      "│ count     ┆ 1.3525702 ┆ 1.3525702 ┆ 1.3525702 ┆ … ┆ 1.3525702 ┆ 1.3525702 ┆ 1.3525702 ┆ 13525702 │\n",
      "│           ┆ e7        ┆ e7        ┆ e7        ┆   ┆ e7        ┆ e7        ┆ e7        ┆          │\n",
      "│ null_coun ┆ 0.0       ┆ 0.0       ┆ 0.0       ┆ … ┆ 0.0       ┆ 0.0       ┆ 0.0       ┆ 0        │\n",
      "│ t         ┆           ┆           ┆           ┆   ┆           ┆           ┆           ┆          │\n",
      "│ mean      ┆ 86611.589 ┆ -0.940173 ┆ 0.001173  ┆ … ┆ 0.007284  ┆ 0.302426  ┆ 0.306526  ┆ null     │\n",
      "│           ┆ 61        ┆           ┆           ┆   ┆           ┆           ┆           ┆          │\n",
      "│ std       ┆ 64791.572 ┆ 0.086065  ┆ 0.120008  ┆ … ┆ 0.085034  ┆ null      ┆ null      ┆ null     │\n",
      "│           ┆ 173       ┆           ┆           ┆   ┆           ┆           ┆           ┆          │\n",
      "│ min       ┆ 0.0       ┆ -6.024701 ┆ -4.059201 ┆ … ┆ 0.0       ┆ 0.0       ┆ 0.0       ┆ 02ea7826 │\n",
      "│           ┆           ┆           ┆           ┆   ┆           ┆           ┆           ┆ 81       │\n",
      "│ 25%       ┆ 37256.0   ┆ -0.986571 ┆ -0.0625   ┆ … ┆ 0.0       ┆ null      ┆ null      ┆ null     │\n",
      "│ 50%       ┆ 75149.0   ┆ -0.953125 ┆ 0.002385  ┆ … ┆ 0.0       ┆ null      ┆ null      ┆ null     │\n",
      "│ 75%       ┆ 121179.0  ┆ -0.90625  ┆ 0.078125  ┆ … ┆ 0.0       ┆ null      ┆ null      ┆ null     │\n",
      "│ max       ┆ 415387.0  ┆ 4.458365  ┆ 4.524038  ┆ … ┆ 1.0       ┆ 1.0       ┆ 1.0       ┆ f9fc61ce │\n",
      "│           ┆           ┆           ┆           ┆   ┆           ┆           ┆           ┆ 85       │\n",
      "└───────────┴───────────┴───────────┴───────────┴───┴───────────┴───────────┴───────────┴──────────┘\n",
      "(13525702, 10)\n",
      "['Time', 'AccV', 'AccML', 'AccAP', 'StartHesitation', 'Turn', 'Walking', 'Valid', 'Task', 'patient_id']\n",
      "[Int64, Float64, Float64, Float64, Int64, Int64, Int64, Boolean, Boolean, String]\n"
     ]
    }
   ],
   "source": [
    "print(defog_df.head())\n",
    "# print(defog_df.info())\n",
    "print(defog_df.describe())\n",
    "print(defog_df.shape)     # (rows, columns)\n",
    "print(defog_df.columns)   # list of column names\n",
    "print(defog_df.dtypes)    # list of column types"
   ]
  },
  {
   "cell_type": "code",
   "execution_count": 11,
   "id": "8a30c96d",
   "metadata": {
    "execution": {
     "iopub.execute_input": "2025-09-18T23:36:56.413309Z",
     "iopub.status.busy": "2025-09-18T23:36:56.413001Z",
     "iopub.status.idle": "2025-09-18T23:36:57.580835Z",
     "shell.execute_reply": "2025-09-18T23:36:57.579940Z"
    },
    "papermill": {
     "duration": 1.176701,
     "end_time": "2025-09-18T23:36:57.582427",
     "exception": false,
     "start_time": "2025-09-18T23:36:56.405726",
     "status": "completed"
    },
    "tags": []
   },
   "outputs": [
    {
     "name": "stdout",
     "output_type": "stream",
     "text": [
      "shape: (5, 8)\n",
      "┌──────┬───────────┬───────────┬──────────┬───────┬───────┬───────┬────────────┐\n",
      "│ Time ┆ AccV      ┆ AccML     ┆ AccAP    ┆ Event ┆ Valid ┆ Task  ┆ patient_id │\n",
      "│ ---  ┆ ---       ┆ ---       ┆ ---      ┆ ---   ┆ ---   ┆ ---   ┆ ---        │\n",
      "│ i64  ┆ f64       ┆ f64       ┆ f64      ┆ i64   ┆ bool  ┆ bool  ┆ str        │\n",
      "╞══════╪═══════════╪═══════════╪══════════╪═══════╪═══════╪═══════╪════════════╡\n",
      "│ 0    ┆ -0.991926 ┆ -0.119916 ┆ 0.050087 ┆ 0     ┆ false ┆ false ┆ 1e8d55d48d │\n",
      "│ 1    ┆ -0.994243 ┆ -0.118624 ┆ 0.049909 ┆ 0     ┆ false ┆ false ┆ 1e8d55d48d │\n",
      "│ 2    ┆ -0.99584  ┆ -0.118602 ┆ 0.048774 ┆ 0     ┆ false ┆ false ┆ 1e8d55d48d │\n",
      "│ 3    ┆ -0.995865 ┆ -0.121627 ┆ 0.04809  ┆ 0     ┆ false ┆ false ┆ 1e8d55d48d │\n",
      "│ 4    ┆ -0.99233  ┆ -0.122146 ┆ 0.048878 ┆ 0     ┆ false ┆ false ┆ 1e8d55d48d │\n",
      "└──────┴───────────┴───────────┴──────────┴───────┴───────┴───────┴────────────┘\n",
      "(10251114, 8)\n",
      "['Time', 'AccV', 'AccML', 'AccAP', 'Event', 'Valid', 'Task', 'patient_id']\n",
      "[Int64, Float64, Float64, Float64, Int64, Boolean, Boolean, String]\n",
      "shape: (9, 9)\n",
      "┌───────────┬───────────┬───────────┬───────────┬───┬───────────┬───────────┬───────────┬──────────┐\n",
      "│ statistic ┆ Time      ┆ AccV      ┆ AccML     ┆ … ┆ Event     ┆ Valid     ┆ Task      ┆ patient_ │\n",
      "│ ---       ┆ ---       ┆ ---       ┆ ---       ┆   ┆ ---       ┆ ---       ┆ ---       ┆ id       │\n",
      "│ str       ┆ f64       ┆ f64       ┆ f64       ┆   ┆ f64       ┆ f64       ┆ f64       ┆ ---      │\n",
      "│           ┆           ┆           ┆           ┆   ┆           ┆           ┆           ┆ str      │\n",
      "╞═══════════╪═══════════╪═══════════╪═══════════╪═══╪═══════════╪═══════════╪═══════════╪══════════╡\n",
      "│ count     ┆ 1.0251114 ┆ 1.0251114 ┆ 1.0251114 ┆ … ┆ 1.0251114 ┆ 1.0251114 ┆ 1.0251114 ┆ 10251114 │\n",
      "│           ┆ e7        ┆ e7        ┆ e7        ┆   ┆ e7        ┆ e7        ┆ e7        ┆          │\n",
      "│ null_coun ┆ 0.0       ┆ 0.0       ┆ 0.0       ┆ … ┆ 0.0       ┆ 0.0       ┆ 0.0       ┆ 0        │\n",
      "│ t         ┆           ┆           ┆           ┆   ┆           ┆           ┆           ┆          │\n",
      "│ mean      ┆ 123128.63 ┆ -0.932382 ┆ -0.07878  ┆ … ┆ 0.048702  ┆ 0.331116  ┆ 0.334288  ┆ null     │\n",
      "│           ┆ 4988      ┆           ┆           ┆   ┆           ┆           ┆           ┆          │\n",
      "│ std       ┆ 84077.542 ┆ 0.086195  ┆ 0.126094  ┆ … ┆ 0.215243  ┆ null      ┆ null      ┆ null     │\n",
      "│           ┆ 879       ┆           ┆           ┆   ┆           ┆           ┆           ┆          │\n",
      "│ min       ┆ 0.0       ┆ -5.738525 ┆ -3.625081 ┆ … ┆ 0.0       ┆ 0.0       ┆ 0.0       ┆ 02ab2351 │\n",
      "│           ┆           ┆           ┆           ┆   ┆           ┆           ┆           ┆ 46       │\n",
      "│ 25%       ┆ 55712.0   ┆ -0.979533 ┆ -0.15462  ┆ … ┆ 0.0       ┆ null      ┆ null      ┆ null     │\n",
      "│ 50%       ┆ 111533.0  ┆ -0.945709 ┆ -0.07047  ┆ … ┆ 0.0       ┆ null      ┆ null      ┆ null     │\n",
      "│ 75%       ┆ 175592.0  ┆ -0.890877 ┆ -0.006932 ┆ … ┆ 0.0       ┆ null      ┆ null      ┆ null     │\n",
      "│ max       ┆ 443495.0  ┆ 1.223533  ┆ 4.328019  ┆ … ┆ 1.0       ┆ 1.0       ┆ 1.0       ┆ e8e530a4 │\n",
      "│           ┆           ┆           ┆           ┆   ┆           ┆           ┆           ┆ f9       │\n",
      "└───────────┴───────────┴───────────┴───────────┴───┴───────────┴───────────┴───────────┴──────────┘\n"
     ]
    }
   ],
   "source": [
    "print(notype_df.head())\n",
    "# print(notype_df.info())\n",
    "print(notype_df.shape)     # (rows, columns)\n",
    "print(notype_df.columns)   # list of column names\n",
    "print(notype_df.dtypes) \n",
    "print(notype_df.describe())"
   ]
  },
  {
   "cell_type": "code",
   "execution_count": 12,
   "id": "f2b1f5a4",
   "metadata": {
    "execution": {
     "iopub.execute_input": "2025-09-18T23:36:57.596782Z",
     "iopub.status.busy": "2025-09-18T23:36:57.596027Z",
     "iopub.status.idle": "2025-09-18T23:36:58.467203Z",
     "shell.execute_reply": "2025-09-18T23:36:58.466120Z"
    },
    "papermill": {
     "duration": 0.879881,
     "end_time": "2025-09-18T23:36:58.468868",
     "exception": false,
     "start_time": "2025-09-18T23:36:57.588987",
     "status": "completed"
    },
    "tags": []
   },
   "outputs": [
    {
     "name": "stdout",
     "output_type": "stream",
     "text": [
      "shape: (5, 8)\n",
      "┌──────┬───────────┬──────────┬──────────┬─────────────────┬──────┬─────────┬────────────┐\n",
      "│ Time ┆ AccV      ┆ AccML    ┆ AccAP    ┆ StartHesitation ┆ Turn ┆ Walking ┆ patient_id │\n",
      "│ ---  ┆ ---       ┆ ---      ┆ ---      ┆ ---             ┆ ---  ┆ ---     ┆ ---        │\n",
      "│ i64  ┆ f64       ┆ f64      ┆ f64      ┆ i64             ┆ i64  ┆ i64     ┆ str        │\n",
      "╞══════╪═══════════╪══════════╪══════════╪═════════════════╪══════╪═════════╪════════════╡\n",
      "│ 0    ┆ -9.66589  ┆ 0.04255  ┆ 0.184744 ┆ 0               ┆ 0    ┆ 0       ┆ a171e61840 │\n",
      "│ 1    ┆ -9.672969 ┆ 0.049217 ┆ 0.184644 ┆ 0               ┆ 0    ┆ 0       ┆ a171e61840 │\n",
      "│ 2    ┆ -9.67026  ┆ 0.03362  ┆ 0.19379  ┆ 0               ┆ 0    ┆ 0       ┆ a171e61840 │\n",
      "│ 3    ┆ -9.673356 ┆ 0.035159 ┆ 0.184369 ┆ 0               ┆ 0    ┆ 0       ┆ a171e61840 │\n",
      "│ 4    ┆ -9.671458 ┆ 0.043913 ┆ 0.197814 ┆ 0               ┆ 0    ┆ 0       ┆ a171e61840 │\n",
      "└──────┴───────────┴──────────┴──────────┴─────────────────┴──────┴─────────┴────────────┘\n",
      "(7062672, 8)\n",
      "['Time', 'AccV', 'AccML', 'AccAP', 'StartHesitation', 'Turn', 'Walking', 'patient_id']\n",
      "[Int64, Float64, Float64, Float64, Int64, Int64, Int64, String]\n",
      "shape: (9, 9)\n",
      "┌───────────┬───────────┬───────────┬───────────┬───┬───────────┬───────────┬───────────┬──────────┐\n",
      "│ statistic ┆ Time      ┆ AccV      ┆ AccML     ┆ … ┆ StartHesi ┆ Turn      ┆ Walking   ┆ patient_ │\n",
      "│ ---       ┆ ---       ┆ ---       ┆ ---       ┆   ┆ tation    ┆ ---       ┆ ---       ┆ id       │\n",
      "│ str       ┆ f64       ┆ f64       ┆ f64       ┆   ┆ ---       ┆ f64       ┆ f64       ┆ ---      │\n",
      "│           ┆           ┆           ┆           ┆   ┆ f64       ┆           ┆           ┆ str      │\n",
      "╞═══════════╪═══════════╪═══════════╪═══════════╪═══╪═══════════╪═══════════╪═══════════╪══════════╡\n",
      "│ count     ┆ 7.062672e ┆ 7.062672e ┆ 7.062672e ┆ … ┆ 7.062672e ┆ 7.062672e ┆ 7.062672e ┆ 7062672  │\n",
      "│           ┆ 6         ┆ 6         ┆ 6         ┆   ┆ 6         ┆ 6         ┆ 6         ┆          │\n",
      "│ null_coun ┆ 0.0       ┆ 0.0       ┆ 0.0       ┆ … ┆ 0.0       ┆ 0.0       ┆ 0.0       ┆ 0        │\n",
      "│ t         ┆           ┆           ┆           ┆   ┆           ┆           ┆           ┆          │\n",
      "│ mean      ┆ 9289.4672 ┆ -9.306317 ┆ -0.201251 ┆ … ┆ 0.043155  ┆ 0.237698  ┆ 0.029428  ┆ null     │\n",
      "│           ┆ 97        ┆           ┆           ┆   ┆           ┆           ┆           ┆          │\n",
      "│ std       ┆ 13998.925 ┆ 1.080174  ┆ 1.269525  ┆ … ┆ 0.203206  ┆ 0.425673  ┆ 0.169002  ┆ null     │\n",
      "│           ┆ 696       ┆           ┆           ┆   ┆           ┆           ┆           ┆          │\n",
      "│ min       ┆ 0.0       ┆ -35.52111 ┆ -26.16439 ┆ … ┆ 0.0       ┆ 0.0       ┆ 0.0       ┆ 003f117e │\n",
      "│           ┆           ┆ 9         ┆ 8         ┆   ┆           ┆           ┆           ┆ 14       │\n",
      "│ 25%       ┆ 2119.0    ┆ -9.762402 ┆ -0.929545 ┆ … ┆ 0.0       ┆ 0.0       ┆ 0.0       ┆ null     │\n",
      "│ 50%       ┆ 4310.0    ┆ -9.363524 ┆ -0.172224 ┆ … ┆ 0.0       ┆ 0.0       ┆ 0.0       ┆ null     │\n",
      "│ 75%       ┆ 8433.0    ┆ -8.776815 ┆ 0.575211  ┆ … ┆ 0.0       ┆ 0.0       ┆ 0.0       ┆ null     │\n",
      "│ max       ┆ 97076.0   ┆ 20.906953 ┆ 27.484719 ┆ … ┆ 1.0       ┆ 1.0       ┆ 1.0       ┆ ffda8fad │\n",
      "│           ┆           ┆           ┆           ┆   ┆           ┆           ┆           ┆ fd       │\n",
      "└───────────┴───────────┴───────────┴───────────┴───┴───────────┴───────────┴───────────┴──────────┘\n"
     ]
    }
   ],
   "source": [
    "print(tdcsfog_df.head())\n",
    "# print(tdcsfog_df.info())\n",
    "print(tdcsfog_df.shape)     # (rows, columns)\n",
    "print(tdcsfog_df.columns)   # list of column names\n",
    "print(tdcsfog_df.dtypes) \n",
    "print(tdcsfog_df.describe())"
   ]
  },
  {
   "cell_type": "code",
   "execution_count": 13,
   "id": "465ea54b",
   "metadata": {
    "execution": {
     "iopub.execute_input": "2025-09-18T23:36:58.484220Z",
     "iopub.status.busy": "2025-09-18T23:36:58.483911Z",
     "iopub.status.idle": "2025-09-18T23:36:58.529998Z",
     "shell.execute_reply": "2025-09-18T23:36:58.529045Z"
    },
    "papermill": {
     "duration": 0.055826,
     "end_time": "2025-09-18T23:36:58.531435",
     "exception": false,
     "start_time": "2025-09-18T23:36:58.475609",
     "status": "completed"
    },
    "tags": []
   },
   "outputs": [
    {
     "name": "stdout",
     "output_type": "stream",
     "text": [
      "           Id      Init  Completion  Type  Kinetic\n",
      "0  003f117e14   8.61312     14.7731  Turn      1.0\n",
      "1  009ee11563  11.38470     41.1847  Turn      1.0\n",
      "2  009ee11563  54.66470     58.7847  Turn      1.0\n",
      "3  011322847a  28.09660     30.2966  Turn      1.0\n",
      "4  01d0fe7266  30.31840     31.8784  Turn      1.0\n",
      "(3544, 5)\n",
      "Index(['Id', 'Init', 'Completion', 'Type', 'Kinetic'], dtype='object')\n",
      "Id             object\n",
      "Init          float64\n",
      "Completion    float64\n",
      "Type           object\n",
      "Kinetic       float64\n",
      "dtype: object\n",
      "              Init   Completion      Kinetic\n",
      "count  3544.000000  3544.000000  2502.000000\n",
      "mean    956.298418   964.489046     0.817746\n",
      "std     946.357201   943.968560     0.386131\n",
      "min     -30.669000   -29.719000     0.000000\n",
      "25%      39.518175    48.610800     1.000000\n",
      "50%     768.656500   774.261000     1.000000\n",
      "75%    1570.300000  1576.697250     1.000000\n",
      "max    4381.217000  4392.745000     1.000000\n"
     ]
    }
   ],
   "source": [
    "events_df = pd.read_csv('/kaggle/input/tlvmc-parkinsons-freezing-gait-prediction/events.csv')\n",
    "print(events_df.head())\n",
    "print(events_df.shape)   \n",
    "print(events_df.columns)   \n",
    "print(events_df.dtypes) \n",
    "print(events_df.describe())"
   ]
  },
  {
   "cell_type": "code",
   "execution_count": 14,
   "id": "b9f62f19",
   "metadata": {
    "execution": {
     "iopub.execute_input": "2025-09-18T23:36:58.545916Z",
     "iopub.status.busy": "2025-09-18T23:36:58.545653Z",
     "iopub.status.idle": "2025-09-18T23:36:58.734129Z",
     "shell.execute_reply": "2025-09-18T23:36:58.733082Z"
    },
    "papermill": {
     "duration": 0.19724,
     "end_time": "2025-09-18T23:36:58.735498",
     "exception": false,
     "start_time": "2025-09-18T23:36:58.538258",
     "status": "completed"
    },
    "tags": []
   },
   "outputs": [
    {
     "name": "stdout",
     "output_type": "stream",
     "text": [
      "shape: (91,)\n",
      "Series: 'patient_id' [str]\n",
      "[\n",
      "\t\"7a467da4f3\"\n",
      "\t\"bf2fd0ff35\"\n",
      "\t\"2b6a1c294a\"\n",
      "\t\"d59b65430b\"\n",
      "\t\"5327e062c9\"\n",
      "\t…\n",
      "\t\"f40e8c6ebe\"\n",
      "\t\"7030643376\"\n",
      "\t\"c50f164e00\"\n",
      "\t\"02ea782681\"\n",
      "\t\"092b4c1819\"\n",
      "]\n"
     ]
    }
   ],
   "source": [
    "unique_defog_patients = defog_df[\"patient_id\"].unique()\n",
    "\n",
    "print(unique_defog_patients)"
   ]
  },
  {
   "cell_type": "markdown",
   "id": "b4ed27bd",
   "metadata": {
    "papermill": {
     "duration": 0.006386,
     "end_time": "2025-09-18T23:36:58.748768",
     "exception": false,
     "start_time": "2025-09-18T23:36:58.742382",
     "status": "completed"
    },
    "tags": []
   },
   "source": [
    "Columns/features: Time, Vertical acceleration, Mediolateral acceleration, Anterposterior accerleration, StartHesitation, Turn, Walking, Valid Task"
   ]
  },
  {
   "cell_type": "markdown",
   "id": "e74eb5e2",
   "metadata": {
    "papermill": {
     "duration": 0.006275,
     "end_time": "2025-09-18T23:36:58.761706",
     "exception": false,
     "start_time": "2025-09-18T23:36:58.755431",
     "status": "completed"
    },
    "tags": []
   },
   "source": [
    "Visualize sample data\n",
    "\n",
    "Recommended libraries: \n",
    "* matplotlib, seaborn\n",
    "* plotly\n",
    "* tsfel or tsfresh (time series visualization)\n",
    "\n",
    "Useful visualizations:\n",
    "* Distribution plots (sns.histplot)\n",
    "* Box plots for outliers\n",
    "* Heatmaps for correlation\n",
    "* Missing value heatmaps (sns.heatmap(df.isnull()))"
   ]
  },
  {
   "cell_type": "code",
   "execution_count": 15,
   "id": "b7472c41",
   "metadata": {
    "execution": {
     "iopub.execute_input": "2025-09-18T23:36:58.776321Z",
     "iopub.status.busy": "2025-09-18T23:36:58.775548Z",
     "iopub.status.idle": "2025-09-18T23:36:59.482784Z",
     "shell.execute_reply": "2025-09-18T23:36:59.481844Z"
    },
    "papermill": {
     "duration": 0.718259,
     "end_time": "2025-09-18T23:36:59.486504",
     "exception": false,
     "start_time": "2025-09-18T23:36:58.768245",
     "status": "completed"
    },
    "tags": []
   },
   "outputs": [
    {
     "data": {
      "image/png": "[encoded data removed]",
      "text/plain": [
       "<Figure size 1500x600 with 1 Axes>"
      ]
     },
     "metadata": {},
     "output_type": "display_data"
    }
   ],
   "source": [
    "# 1. Filter your Polars DF for a single patient and convert to pandas\n",
    "df = defog_df.filter(pl.col(\"patient_id\") == 'be9d33541d').to_pandas()\n",
    "\n",
    "# 2. Plot\n",
    "plt.figure(figsize=(15, 6))\n",
    "\n",
    "# Plot acceleration\n",
    "plt.plot(df['Time'], df['AccV'], label='AccV', alpha=0.7)\n",
    "plt.plot(df['Time'], df['AccML'], label='AccML', alpha=0.7)\n",
    "plt.plot(df['Time'], df['AccAP'], label='AccAP', alpha=0.7)\n",
    "\n",
    "# 3. Plot events\n",
    "plt.plot(df['Time'], df['StartHesitation'], label='StartHesitation', alpha=0.7)\n",
    "plt.plot(df['Time'], df['Turn'], label='Turn', alpha=0.7)\n",
    "plt.plot(df['Time'], df['Walking'], label='Walking', alpha=0.7)\n",
    "\n",
    "\n",
    "# 4. Final touches\n",
    "plt.xlabel(\"Time\")\n",
    "plt.ylabel(\"Acceleration (g)\")\n",
    "plt.title(f\"Patient: {patient_id} - Acceleration + FOG Events\")\n",
    "plt.legend(loc=\"upper right\")\n",
    "plt.grid(True)\n",
    "plt.tight_layout()\n",
    "plt.show()"
   ]
  },
  {
   "cell_type": "code",
   "execution_count": 16,
   "id": "3343fb87",
   "metadata": {
    "execution": {
     "iopub.execute_input": "2025-09-18T23:36:59.506222Z",
     "iopub.status.busy": "2025-09-18T23:36:59.505622Z",
     "iopub.status.idle": "2025-09-18T23:36:59.509335Z",
     "shell.execute_reply": "2025-09-18T23:36:59.508496Z"
    },
    "papermill": {
     "duration": 0.01472,
     "end_time": "2025-09-18T23:36:59.510652",
     "exception": false,
     "start_time": "2025-09-18T23:36:59.495932",
     "status": "completed"
    },
    "tags": []
   },
   "outputs": [],
   "source": [
    "# plt.plot(notype_df['Time'], notype_df['AccV'])\n",
    "# plt.title(\"AccV over Time\")\n",
    "# plt.xlabel(\"Time\")\n",
    "# plt.ylabel(\"AccV\")"
   ]
  },
  {
   "cell_type": "code",
   "execution_count": 17,
   "id": "90aed321",
   "metadata": {
    "execution": {
     "iopub.execute_input": "2025-09-18T23:36:59.529712Z",
     "iopub.status.busy": "2025-09-18T23:36:59.529165Z",
     "iopub.status.idle": "2025-09-18T23:36:59.532828Z",
     "shell.execute_reply": "2025-09-18T23:36:59.532096Z"
    },
    "papermill": {
     "duration": 0.014444,
     "end_time": "2025-09-18T23:36:59.534034",
     "exception": false,
     "start_time": "2025-09-18T23:36:59.519590",
     "status": "completed"
    },
    "tags": []
   },
   "outputs": [],
   "source": [
    "# plt.plot(df_tdcsfog['Time'], df_tdcsfog['AccV'])\n",
    "# plt.title(\"AccV over Time\")\n",
    "# plt.xlabel(\"Time\")\n",
    "# plt.ylabel(\"AccV\")"
   ]
  },
  {
   "cell_type": "code",
   "execution_count": 18,
   "id": "283540e0",
   "metadata": {
    "execution": {
     "iopub.execute_input": "2025-09-18T23:36:59.553428Z",
     "iopub.status.busy": "2025-09-18T23:36:59.552705Z",
     "iopub.status.idle": "2025-09-18T23:36:59.556239Z",
     "shell.execute_reply": "2025-09-18T23:36:59.555555Z"
    },
    "papermill": {
     "duration": 0.014469,
     "end_time": "2025-09-18T23:36:59.557497",
     "exception": false,
     "start_time": "2025-09-18T23:36:59.543028",
     "status": "completed"
    },
    "tags": []
   },
   "outputs": [],
   "source": [
    "# plt.figure(figsize=(10, 6))\n",
    "# sns.heatmap(df_defog.corr(), annot=True, cmap='coolwarm')\n",
    "# plt.title('Correlation Between Features and Task Labels')\n",
    "# plt.show()"
   ]
  },
  {
   "cell_type": "code",
   "execution_count": null,
   "id": "5daea8b7",
   "metadata": {
    "papermill": {
     "duration": 0.008391,
     "end_time": "2025-09-18T23:36:59.574871",
     "exception": false,
     "start_time": "2025-09-18T23:36:59.566480",
     "status": "completed"
    },
    "tags": []
   },
   "outputs": [],
   "source": []
  },
  {
   "cell_type": "markdown",
   "id": "c6c07802",
   "metadata": {
    "papermill": {
     "duration": 0.008348,
     "end_time": "2025-09-18T23:36:59.591937",
     "exception": false,
     "start_time": "2025-09-18T23:36:59.583589",
     "status": "completed"
    },
    "tags": []
   },
   "source": [
    "# Data Cleaning"
   ]
  },
  {
   "cell_type": "markdown",
   "id": "51ca4ff3",
   "metadata": {
    "papermill": {
     "duration": 0.008349,
     "end_time": "2025-09-18T23:36:59.609061",
     "exception": false,
     "start_time": "2025-09-18T23:36:59.600712",
     "status": "completed"
    },
    "tags": []
   },
   "source": [
    "Handle Missing Values\n",
    "* Check missingness\n",
    "* decide: drop columns or rows of too many missing values or impute (forward fill, backward fill, or interpolate)\n",
    "\n",
    "Detect and correct erroneous values\n",
    "* Spikes or dropouts in sensor readings\n",
    "* Duplicated timestamps\n",
    "* Values outside physical limits (e.g., g-force beyond ±16g if using IMUs)\n",
    "\n",
    "Check for:\n",
    "* Outliers: Z-score, IQR method\n",
    "* Signal gaps\n",
    "* Negative time values or duplicates\n",
    "\n",
    "Normalize or standardize data using StandardScaler or MinMaxScaler"
   ]
  },
  {
   "cell_type": "code",
   "execution_count": 19,
   "id": "5d09c9f9",
   "metadata": {
    "execution": {
     "iopub.execute_input": "2025-09-18T23:36:59.628131Z",
     "iopub.status.busy": "2025-09-18T23:36:59.627519Z",
     "iopub.status.idle": "2025-09-18T23:36:59.632375Z",
     "shell.execute_reply": "2025-09-18T23:36:59.631472Z"
    },
    "papermill": {
     "duration": 0.015876,
     "end_time": "2025-09-18T23:36:59.633614",
     "exception": false,
     "start_time": "2025-09-18T23:36:59.617738",
     "status": "completed"
    },
    "tags": []
   },
   "outputs": [
    {
     "name": "stdout",
     "output_type": "stream",
     "text": [
      "DEFOG DATA TYPES:\n",
      "[Int64, Float64, Float64, Float64, Int64, Int64, Int64, Boolean, Boolean, String]\n",
      "\n",
      "TDCSFOG DATA TYPES:\n",
      "[Int64, Float64, Float64, Float64, Int64, Int64, Int64, String]\n",
      "\n",
      "NOTYPE DATA TYPES:\n",
      "[Int64, Float64, Float64, Float64, Int64, Boolean, Boolean, String]\n",
      "\n"
     ]
    }
   ],
   "source": [
    "# Data types of features \n",
    "print(f'DEFOG DATA TYPES:\\n{defog_df.dtypes}\\n')\n",
    "print(f'TDCSFOG DATA TYPES:\\n{tdcsfog_df.dtypes}\\n')\n",
    "print(f'NOTYPE DATA TYPES:\\n{notype_df.dtypes}\\n')"
   ]
  },
  {
   "cell_type": "code",
   "execution_count": 20,
   "id": "8171febf",
   "metadata": {
    "execution": {
     "iopub.execute_input": "2025-09-18T23:36:59.653131Z",
     "iopub.status.busy": "2025-09-18T23:36:59.652835Z",
     "iopub.status.idle": "2025-09-18T23:36:59.657513Z",
     "shell.execute_reply": "2025-09-18T23:36:59.656612Z"
    },
    "papermill": {
     "duration": 0.016172,
     "end_time": "2025-09-18T23:36:59.658817",
     "exception": false,
     "start_time": "2025-09-18T23:36:59.642645",
     "status": "completed"
    },
    "tags": []
   },
   "outputs": [
    {
     "name": "stdout",
     "output_type": "stream",
     "text": [
      "shape: (1, 10)\n",
      "┌──────┬──────┬───────┬───────┬───┬─────────┬───────┬──────┬────────────┐\n",
      "│ Time ┆ AccV ┆ AccML ┆ AccAP ┆ … ┆ Walking ┆ Valid ┆ Task ┆ patient_id │\n",
      "│ ---  ┆ ---  ┆ ---   ┆ ---   ┆   ┆ ---     ┆ ---   ┆ ---  ┆ ---        │\n",
      "│ u32  ┆ u32  ┆ u32   ┆ u32   ┆   ┆ u32     ┆ u32   ┆ u32  ┆ u32        │\n",
      "╞══════╪══════╪═══════╪═══════╪═══╪═════════╪═══════╪══════╪════════════╡\n",
      "│ 0    ┆ 0    ┆ 0     ┆ 0     ┆ … ┆ 0       ┆ 0     ┆ 0    ┆ 0          │\n",
      "└──────┴──────┴───────┴───────┴───┴─────────┴───────┴──────┴────────────┘\n"
     ]
    }
   ],
   "source": [
    "print(defog_df.null_count())\n",
    "# missing_rows = defog_df[defog_df.isnull().any(axis=1)]\n",
    "# print(missing_rows)\n"
   ]
  },
  {
   "cell_type": "code",
   "execution_count": 21,
   "id": "7cd4ad94",
   "metadata": {
    "execution": {
     "iopub.execute_input": "2025-09-18T23:36:59.678556Z",
     "iopub.status.busy": "2025-09-18T23:36:59.678257Z",
     "iopub.status.idle": "2025-09-18T23:36:59.682357Z",
     "shell.execute_reply": "2025-09-18T23:36:59.681589Z"
    },
    "papermill": {
     "duration": 0.015884,
     "end_time": "2025-09-18T23:36:59.683739",
     "exception": false,
     "start_time": "2025-09-18T23:36:59.667855",
     "status": "completed"
    },
    "tags": []
   },
   "outputs": [
    {
     "name": "stdout",
     "output_type": "stream",
     "text": [
      "shape: (1, 8)\n",
      "┌──────┬──────┬───────┬───────┬───────┬───────┬──────┬────────────┐\n",
      "│ Time ┆ AccV ┆ AccML ┆ AccAP ┆ Event ┆ Valid ┆ Task ┆ patient_id │\n",
      "│ ---  ┆ ---  ┆ ---   ┆ ---   ┆ ---   ┆ ---   ┆ ---  ┆ ---        │\n",
      "│ u32  ┆ u32  ┆ u32   ┆ u32   ┆ u32   ┆ u32   ┆ u32  ┆ u32        │\n",
      "╞══════╪══════╪═══════╪═══════╪═══════╪═══════╪══════╪════════════╡\n",
      "│ 0    ┆ 0    ┆ 0     ┆ 0     ┆ 0     ┆ 0     ┆ 0    ┆ 0          │\n",
      "└──────┴──────┴───────┴───────┴───────┴───────┴──────┴────────────┘\n"
     ]
    }
   ],
   "source": [
    "print(notype_df.null_count())\n",
    "# print(notype_df.isnull().sum())\n",
    "# missing_rows = notype_df[notype_df.isnull().any(axis=1)]\n",
    "# print(missing_rows)"
   ]
  },
  {
   "cell_type": "code",
   "execution_count": 22,
   "id": "156c2e83",
   "metadata": {
    "execution": {
     "iopub.execute_input": "2025-09-18T23:36:59.703354Z",
     "iopub.status.busy": "2025-09-18T23:36:59.702690Z",
     "iopub.status.idle": "2025-09-18T23:36:59.707347Z",
     "shell.execute_reply": "2025-09-18T23:36:59.706395Z"
    },
    "papermill": {
     "duration": 0.015718,
     "end_time": "2025-09-18T23:36:59.708629",
     "exception": false,
     "start_time": "2025-09-18T23:36:59.692911",
     "status": "completed"
    },
    "tags": []
   },
   "outputs": [
    {
     "name": "stdout",
     "output_type": "stream",
     "text": [
      "shape: (1, 8)\n",
      "┌──────┬──────┬───────┬───────┬─────────────────┬──────┬─────────┬────────────┐\n",
      "│ Time ┆ AccV ┆ AccML ┆ AccAP ┆ StartHesitation ┆ Turn ┆ Walking ┆ patient_id │\n",
      "│ ---  ┆ ---  ┆ ---   ┆ ---   ┆ ---             ┆ ---  ┆ ---     ┆ ---        │\n",
      "│ u32  ┆ u32  ┆ u32   ┆ u32   ┆ u32             ┆ u32  ┆ u32     ┆ u32        │\n",
      "╞══════╪══════╪═══════╪═══════╪═════════════════╪══════╪═════════╪════════════╡\n",
      "│ 0    ┆ 0    ┆ 0     ┆ 0     ┆ 0               ┆ 0    ┆ 0       ┆ 0          │\n",
      "└──────┴──────┴───────┴───────┴─────────────────┴──────┴─────────┴────────────┘\n"
     ]
    }
   ],
   "source": [
    "print(tdcsfog_df.null_count())\n",
    "# print(tdcsfog_df.isnull().sum())\n",
    "# missing_rows = tdcsfog_df[tdcsfog_df.isnull().any(axis=1)]\n",
    "# print(missing_rows)"
   ]
  },
  {
   "cell_type": "code",
   "execution_count": 23,
   "id": "55460794",
   "metadata": {
    "execution": {
     "iopub.execute_input": "2025-09-18T23:36:59.730248Z",
     "iopub.status.busy": "2025-09-18T23:36:59.729531Z",
     "iopub.status.idle": "2025-09-18T23:37:00.554935Z",
     "shell.execute_reply": "2025-09-18T23:37:00.554109Z"
    },
    "papermill": {
     "duration": 0.838173,
     "end_time": "2025-09-18T23:37:00.556399",
     "exception": false,
     "start_time": "2025-09-18T23:36:59.718226",
     "status": "completed"
    },
    "tags": []
   },
   "outputs": [
    {
     "name": "stdout",
     "output_type": "stream",
     "text": [
      "shape: (13_525_702, 10)\n",
      "┌────────┬───────────┬──────────┬───────────┬───┬─────────┬───────┬───────┬────────────┐\n",
      "│ Time   ┆ AccV      ┆ AccML    ┆ AccAP     ┆ … ┆ Walking ┆ Valid ┆ Task  ┆ patient_id │\n",
      "│ ---    ┆ ---       ┆ ---      ┆ ---       ┆   ┆ ---     ┆ ---   ┆ ---   ┆ ---        │\n",
      "│ i64    ┆ f64       ┆ f64      ┆ f64       ┆   ┆ i64     ┆ bool  ┆ bool  ┆ str        │\n",
      "╞════════╪═══════════╪══════════╪═══════════╪═══╪═════════╪═══════╪═══════╪════════════╡\n",
      "│ 0      ┆ -9.833101 ┆ 0.219382 ┆ 0.669832  ┆ … ┆ 0       ┆ false ┆ false ┆ be9d33541d │\n",
      "│ 1      ┆ -9.832554 ┆ 0.188024 ┆ 0.648829  ┆ … ┆ 0       ┆ false ┆ false ┆ be9d33541d │\n",
      "│ 2      ┆ -9.804885 ┆ 0.187721 ┆ 0.662298  ┆ … ┆ 0       ┆ false ┆ false ┆ be9d33541d │\n",
      "│ 3      ┆ -9.787264 ┆ 0.180227 ┆ 0.670866  ┆ … ┆ 0       ┆ false ┆ false ┆ be9d33541d │\n",
      "│ 4      ┆ -9.790555 ┆ 0.164025 ┆ 0.651633  ┆ … ┆ 0       ┆ false ┆ false ┆ be9d33541d │\n",
      "│ …      ┆ …         ┆ …        ┆ …         ┆ … ┆ …       ┆ …     ┆ …     ┆ …          │\n",
      "│ 109120 ┆ -9.210807 ┆ 0.30954  ┆ -3.871049 ┆ … ┆ 0       ┆ false ┆ false ┆ 06414383cf │\n",
      "│ 109121 ┆ -9.228995 ┆ 0.309714 ┆ -3.850343 ┆ … ┆ 0       ┆ false ┆ false ┆ 06414383cf │\n",
      "│ 109122 ┆ -9.219534 ┆ 0.285297 ┆ -3.867594 ┆ … ┆ 0       ┆ false ┆ false ┆ 06414383cf │\n",
      "│ 109123 ┆ -9.216992 ┆ 0.27516  ┆ -3.909563 ┆ … ┆ 0       ┆ false ┆ false ┆ 06414383cf │\n",
      "│ 109124 ┆ -9.208502 ┆ 0.261129 ┆ -3.907498 ┆ … ┆ 0       ┆ false ┆ false ┆ 06414383cf │\n",
      "└────────┴───────────┴──────────┴───────────┴───┴─────────┴───────┴───────┴────────────┘\n",
      "shape: (10_251_114, 8)\n",
      "┌────────┬───────────┬───────────┬───────────┬───────┬───────┬───────┬────────────┐\n",
      "│ Time   ┆ AccV      ┆ AccML     ┆ AccAP     ┆ Event ┆ Valid ┆ Task  ┆ patient_id │\n",
      "│ ---    ┆ ---       ┆ ---       ┆ ---       ┆ ---   ┆ ---   ┆ ---   ┆ ---        │\n",
      "│ i64    ┆ f64       ┆ f64       ┆ f64       ┆ i64   ┆ bool  ┆ bool  ┆ str        │\n",
      "╞════════╪═══════════╪═══════════╪═══════════╪═══════╪═══════╪═══════╪════════════╡\n",
      "│ 0      ┆ -9.727468 ┆ -1.175975 ┆ 0.491184  ┆ 0     ┆ false ┆ false ┆ 1e8d55d48d │\n",
      "│ 1      ┆ -9.750189 ┆ -1.163302 ┆ 0.489444  ┆ 0     ┆ false ┆ false ┆ 1e8d55d48d │\n",
      "│ 2      ┆ -9.765857 ┆ -1.163087 ┆ 0.478313  ┆ 0     ┆ false ┆ false ┆ 1e8d55d48d │\n",
      "│ 3      ┆ -9.766098 ┆ -1.192753 ┆ 0.471599  ┆ 0     ┆ false ┆ false ┆ 1e8d55d48d │\n",
      "│ 4      ┆ -9.731436 ┆ -1.19784  ┆ 0.479333  ┆ 0     ┆ false ┆ false ┆ 1e8d55d48d │\n",
      "│ …      ┆ …         ┆ …         ┆ …         ┆ …     ┆ …     ┆ …     ┆ …          │\n",
      "│ 443491 ┆ -8.336771 ┆ -1.537457 ┆ -4.896186 ┆ 0     ┆ false ┆ false ┆ 434732a5e3 │\n",
      "│ 443492 ┆ -8.309133 ┆ -1.583071 ┆ -4.873271 ┆ 0     ┆ false ┆ false ┆ 434732a5e3 │\n",
      "│ 443493 ┆ -8.298749 ┆ -1.609258 ┆ -4.858621 ┆ 0     ┆ false ┆ false ┆ 434732a5e3 │\n",
      "│ 443494 ┆ -8.271171 ┆ -1.608903 ┆ -4.858399 ┆ 0     ┆ false ┆ false ┆ 434732a5e3 │\n",
      "│ 443495 ┆ -8.237273 ┆ -1.585128 ┆ -4.865256 ┆ 0     ┆ false ┆ false ┆ 434732a5e3 │\n",
      "└────────┴───────────┴───────────┴───────────┴───────┴───────┴───────┴────────────┘\n"
     ]
    }
   ],
   "source": [
    "# Convert accerlations in defog and notype to m/s^2\n",
    "G_CONVERSION = 9.80665\n",
    "defog_df[[\"AccV\", \"AccML\", \"AccAP\"]] *= G_CONVERSION\n",
    "notype_df[[\"AccV\", \"AccML\", \"AccAP\"]] *= G_CONVERSION\n",
    "print(defog_df)\n",
    "print(notype_df)"
   ]
  },
  {
   "cell_type": "code",
   "execution_count": 24,
   "id": "6e464735",
   "metadata": {
    "execution": {
     "iopub.execute_input": "2025-09-18T23:37:00.636289Z",
     "iopub.status.busy": "2025-09-18T23:37:00.635922Z",
     "iopub.status.idle": "2025-09-18T23:37:01.295108Z",
     "shell.execute_reply": "2025-09-18T23:37:01.294303Z"
    },
    "papermill": {
     "duration": 0.670938,
     "end_time": "2025-09-18T23:37:01.296520",
     "exception": false,
     "start_time": "2025-09-18T23:37:00.625582",
     "status": "completed"
    },
    "tags": []
   },
   "outputs": [
    {
     "name": "stdout",
     "output_type": "stream",
     "text": [
      "shape: (13_525_702, 10)\n",
      "┌────────┬───────────┬──────────┬───────────┬───┬─────────┬───────┬──────┬────────────┐\n",
      "│ Time   ┆ AccV      ┆ AccML    ┆ AccAP     ┆ … ┆ Walking ┆ Valid ┆ Task ┆ patient_id │\n",
      "│ ---    ┆ ---       ┆ ---      ┆ ---       ┆   ┆ ---     ┆ ---   ┆ ---  ┆ ---        │\n",
      "│ i64    ┆ f64       ┆ f64      ┆ f64       ┆   ┆ i64     ┆ i8    ┆ i8   ┆ str        │\n",
      "╞════════╪═══════════╪══════════╪═══════════╪═══╪═════════╪═══════╪══════╪════════════╡\n",
      "│ 0      ┆ -9.833101 ┆ 0.219382 ┆ 0.669832  ┆ … ┆ 0       ┆ 0     ┆ 0    ┆ be9d33541d │\n",
      "│ 1      ┆ -9.832554 ┆ 0.188024 ┆ 0.648829  ┆ … ┆ 0       ┆ 0     ┆ 0    ┆ be9d33541d │\n",
      "│ 2      ┆ -9.804885 ┆ 0.187721 ┆ 0.662298  ┆ … ┆ 0       ┆ 0     ┆ 0    ┆ be9d33541d │\n",
      "│ 3      ┆ -9.787264 ┆ 0.180227 ┆ 0.670866  ┆ … ┆ 0       ┆ 0     ┆ 0    ┆ be9d33541d │\n",
      "│ 4      ┆ -9.790555 ┆ 0.164025 ┆ 0.651633  ┆ … ┆ 0       ┆ 0     ┆ 0    ┆ be9d33541d │\n",
      "│ …      ┆ …         ┆ …        ┆ …         ┆ … ┆ …       ┆ …     ┆ …    ┆ …          │\n",
      "│ 109120 ┆ -9.210807 ┆ 0.30954  ┆ -3.871049 ┆ … ┆ 0       ┆ 0     ┆ 0    ┆ 06414383cf │\n",
      "│ 109121 ┆ -9.228995 ┆ 0.309714 ┆ -3.850343 ┆ … ┆ 0       ┆ 0     ┆ 0    ┆ 06414383cf │\n",
      "│ 109122 ┆ -9.219534 ┆ 0.285297 ┆ -3.867594 ┆ … ┆ 0       ┆ 0     ┆ 0    ┆ 06414383cf │\n",
      "│ 109123 ┆ -9.216992 ┆ 0.27516  ┆ -3.909563 ┆ … ┆ 0       ┆ 0     ┆ 0    ┆ 06414383cf │\n",
      "│ 109124 ┆ -9.208502 ┆ 0.261129 ┆ -3.907498 ┆ … ┆ 0       ┆ 0     ┆ 0    ┆ 06414383cf │\n",
      "└────────┴───────────┴──────────┴───────────┴───┴─────────┴───────┴──────┴────────────┘\n"
     ]
    }
   ],
   "source": [
    "# Convert the Valid and Task Columns to Integer Columns\n",
    "def convert_valid_and_t(df):\n",
    "    df = df.with_columns(\n",
    "        pl.col(\"Valid\").cast(pl.Int8).alias(\"Valid\")\n",
    "    )\n",
    "    \n",
    "    df = df.with_columns(\n",
    "        pl.col(\"Task\").cast(pl.Int8).alias(\"Task\")\n",
    "    )\n",
    "    return df\n",
    "defog_df = convert_valid_and_t(defog_df)\n",
    "notype_df = convert_valid_and_t(notype_df)\n",
    "# tdcsfog_df = convert_valid_and_t(tdcsfog_df)\n",
    "\n",
    "\n",
    "print(defog_df)\n"
   ]
  },
  {
   "cell_type": "code",
   "execution_count": 25,
   "id": "c8c2ce4a",
   "metadata": {
    "execution": {
     "iopub.execute_input": "2025-09-18T23:37:01.317177Z",
     "iopub.status.busy": "2025-09-18T23:37:01.316879Z",
     "iopub.status.idle": "2025-09-18T23:37:03.210615Z",
     "shell.execute_reply": "2025-09-18T23:37:03.209816Z"
    },
    "papermill": {
     "duration": 1.905962,
     "end_time": "2025-09-18T23:37:03.211985",
     "exception": false,
     "start_time": "2025-09-18T23:37:01.306023",
     "status": "completed"
    },
    "tags": []
   },
   "outputs": [
    {
     "data": {
      "text/html": [
       "<div><style>\n",
       ".dataframe > thead > tr,\n",
       ".dataframe > tbody > tr {\n",
       "  text-align: right;\n",
       "  white-space: pre-wrap;\n",
       "}\n",
       "</style>\n",
       "<small>shape: (7_062_672, 9)</small><table border=\"1\" class=\"dataframe\"><thead><tr><th>Time</th><th>AccV</th><th>AccML</th><th>AccAP</th><th>StartHesitation</th><th>Turn</th><th>Walking</th><th>patient_id</th><th>Acc_MAGNITUDE</th></tr><tr><td>i64</td><td>f64</td><td>f64</td><td>f64</td><td>i64</td><td>i64</td><td>i64</td><td>str</td><td>f64</td></tr></thead><tbody><tr><td>0</td><td>-9.66589</td><td>0.04255</td><td>0.184744</td><td>0</td><td>0</td><td>0</td><td>&quot;a171e61840&quot;</td><td>9.667749</td></tr><tr><td>1</td><td>-9.672969</td><td>0.049217</td><td>0.184644</td><td>0</td><td>0</td><td>0</td><td>&quot;a171e61840&quot;</td><td>9.674856</td></tr><tr><td>2</td><td>-9.67026</td><td>0.03362</td><td>0.19379</td><td>0</td><td>0</td><td>0</td><td>&quot;a171e61840&quot;</td><td>9.67226</td></tr><tr><td>3</td><td>-9.673356</td><td>0.035159</td><td>0.184369</td><td>0</td><td>0</td><td>0</td><td>&quot;a171e61840&quot;</td><td>9.675176</td></tr><tr><td>4</td><td>-9.671458</td><td>0.043913</td><td>0.197814</td><td>0</td><td>0</td><td>0</td><td>&quot;a171e61840&quot;</td><td>9.67358</td></tr><tr><td>&hellip;</td><td>&hellip;</td><td>&hellip;</td><td>&hellip;</td><td>&hellip;</td><td>&hellip;</td><td>&hellip;</td><td>&hellip;</td><td>&hellip;</td></tr><tr><td>5153</td><td>-9.91592</td><td>-0.105897</td><td>-1.123455</td><td>0</td><td>0</td><td>0</td><td>&quot;0506d9a39f&quot;</td><td>9.979921</td></tr><tr><td>5154</td><td>-9.693752</td><td>-0.066892</td><td>-1.114903</td><td>0</td><td>0</td><td>0</td><td>&quot;0506d9a39f&quot;</td><td>9.757885</td></tr><tr><td>5155</td><td>-9.548118</td><td>-0.098315</td><td>-1.112123</td><td>0</td><td>0</td><td>0</td><td>&quot;0506d9a39f&quot;</td><td>9.61317</td></tr><tr><td>5156</td><td>-9.469803</td><td>-0.111004</td><td>-1.130814</td><td>0</td><td>0</td><td>0</td><td>&quot;0506d9a39f&quot;</td><td>9.537727</td></tr><tr><td>5157</td><td>-9.566318</td><td>-0.113865</td><td>-1.103353</td><td>0</td><td>0</td><td>0</td><td>&quot;0506d9a39f&quot;</td><td>9.63041</td></tr></tbody></table></div>"
      ],
      "text/plain": [
       "shape: (7_062_672, 9)\n",
       "┌──────┬───────────┬───────────┬───────────┬───┬──────┬─────────┬────────────┬───────────────┐\n",
       "│ Time ┆ AccV      ┆ AccML     ┆ AccAP     ┆ … ┆ Turn ┆ Walking ┆ patient_id ┆ Acc_MAGNITUDE │\n",
       "│ ---  ┆ ---       ┆ ---       ┆ ---       ┆   ┆ ---  ┆ ---     ┆ ---        ┆ ---           │\n",
       "│ i64  ┆ f64       ┆ f64       ┆ f64       ┆   ┆ i64  ┆ i64     ┆ str        ┆ f64           │\n",
       "╞══════╪═══════════╪═══════════╪═══════════╪═══╪══════╪═════════╪════════════╪═══════════════╡\n",
       "│ 0    ┆ -9.66589  ┆ 0.04255   ┆ 0.184744  ┆ … ┆ 0    ┆ 0       ┆ a171e61840 ┆ 9.667749      │\n",
       "│ 1    ┆ -9.672969 ┆ 0.049217  ┆ 0.184644  ┆ … ┆ 0    ┆ 0       ┆ a171e61840 ┆ 9.674856      │\n",
       "│ 2    ┆ -9.67026  ┆ 0.03362   ┆ 0.19379   ┆ … ┆ 0    ┆ 0       ┆ a171e61840 ┆ 9.67226       │\n",
       "│ 3    ┆ -9.673356 ┆ 0.035159  ┆ 0.184369  ┆ … ┆ 0    ┆ 0       ┆ a171e61840 ┆ 9.675176      │\n",
       "│ 4    ┆ -9.671458 ┆ 0.043913  ┆ 0.197814  ┆ … ┆ 0    ┆ 0       ┆ a171e61840 ┆ 9.67358       │\n",
       "│ …    ┆ …         ┆ …         ┆ …         ┆ … ┆ …    ┆ …       ┆ …          ┆ …             │\n",
       "│ 5153 ┆ -9.91592  ┆ -0.105897 ┆ -1.123455 ┆ … ┆ 0    ┆ 0       ┆ 0506d9a39f ┆ 9.979921      │\n",
       "│ 5154 ┆ -9.693752 ┆ -0.066892 ┆ -1.114903 ┆ … ┆ 0    ┆ 0       ┆ 0506d9a39f ┆ 9.757885      │\n",
       "│ 5155 ┆ -9.548118 ┆ -0.098315 ┆ -1.112123 ┆ … ┆ 0    ┆ 0       ┆ 0506d9a39f ┆ 9.61317       │\n",
       "│ 5156 ┆ -9.469803 ┆ -0.111004 ┆ -1.130814 ┆ … ┆ 0    ┆ 0       ┆ 0506d9a39f ┆ 9.537727      │\n",
       "│ 5157 ┆ -9.566318 ┆ -0.113865 ┆ -1.103353 ┆ … ┆ 0    ┆ 0       ┆ 0506d9a39f ┆ 9.63041       │\n",
       "└──────┴───────────┴───────────┴───────────┴───┴──────┴─────────┴────────────┴───────────────┘"
      ]
     },
     "execution_count": 25,
     "metadata": {},
     "output_type": "execute_result"
    }
   ],
   "source": [
    "# Create a new column that contains the acceleration magnitude\n",
    "def acc_magnitude(df):\n",
    "    df = df.with_columns(\n",
    "        (\n",
    "            (pl.col(\"AccV\") ** 2 + pl.col(\"AccML\") ** 2 + pl.col(\"AccAP\") ** 2).sqrt()\n",
    "        ).alias(\"Acc_MAGNITUDE\")\n",
    "    )\n",
    "\n",
    "    return df\n",
    "\n",
    "tdcsfog_df = acc_magnitude(tdcsfog_df)\n",
    "defog_df = acc_magnitude(tdcsfog_df)\n",
    "notype_df = acc_magnitude(notype_df)\n",
    "defog_df"
   ]
  },
  {
   "cell_type": "code",
   "execution_count": 26,
   "id": "87afd410",
   "metadata": {
    "execution": {
     "iopub.execute_input": "2025-09-18T23:37:03.232859Z",
     "iopub.status.busy": "2025-09-18T23:37:03.232357Z",
     "iopub.status.idle": "2025-09-18T23:37:06.034639Z",
     "shell.execute_reply": "2025-09-18T23:37:06.033684Z"
    },
    "papermill": {
     "duration": 2.814168,
     "end_time": "2025-09-18T23:37:06.036085",
     "exception": false,
     "start_time": "2025-09-18T23:37:03.221917",
     "status": "completed"
    },
    "tags": []
   },
   "outputs": [
    {
     "name": "stdout",
     "output_type": "stream",
     "text": [
      "shape: (0, 10)\n",
      "┌──────┬──────┬───────┬───────┬───┬─────────┬────────────┬───────────────┬────────────────┐\n",
      "│ Time ┆ AccV ┆ AccML ┆ AccAP ┆ … ┆ Walking ┆ patient_id ┆ Acc_MAGNITUDE ┆ is_outlier_mag │\n",
      "│ ---  ┆ ---  ┆ ---   ┆ ---   ┆   ┆ ---     ┆ ---        ┆ ---           ┆ ---            │\n",
      "│ i64  ┆ f64  ┆ f64   ┆ f64   ┆   ┆ i64     ┆ str        ┆ f64           ┆ bool           │\n",
      "╞══════╪══════╪═══════╪═══════╪═══╪═════════╪════════════╪═══════════════╪════════════════╡\n",
      "└──────┴──────┴───────┴───────┴───┴─────────┴────────────┴───────────────┴────────────────┘\n",
      "shape: (0, 10)\n",
      "┌──────┬──────┬───────┬───────┬───┬─────────┬────────────┬───────────────┬────────────────┐\n",
      "│ Time ┆ AccV ┆ AccML ┆ AccAP ┆ … ┆ Walking ┆ patient_id ┆ Acc_MAGNITUDE ┆ is_outlier_mag │\n",
      "│ ---  ┆ ---  ┆ ---   ┆ ---   ┆   ┆ ---     ┆ ---        ┆ ---           ┆ ---            │\n",
      "│ i64  ┆ f64  ┆ f64   ┆ f64   ┆   ┆ i64     ┆ str        ┆ f64           ┆ bool           │\n",
      "╞══════╪══════╪═══════╪═══════╪═══╪═════════╪════════════╪═══════════════╪════════════════╡\n",
      "└──────┴──────┴───────┴───────┴───┴─────────┴────────────┴───────────────┴────────────────┘\n",
      "shape: (0, 10)\n",
      "┌──────┬──────┬───────┬───────┬───┬──────┬────────────┬───────────────┬────────────────┐\n",
      "│ Time ┆ AccV ┆ AccML ┆ AccAP ┆ … ┆ Task ┆ patient_id ┆ Acc_MAGNITUDE ┆ is_outlier_mag │\n",
      "│ ---  ┆ ---  ┆ ---   ┆ ---   ┆   ┆ ---  ┆ ---        ┆ ---           ┆ ---            │\n",
      "│ i64  ┆ f64  ┆ f64   ┆ f64   ┆   ┆ i8   ┆ str        ┆ f64           ┆ bool           │\n",
      "╞══════╪══════╪═══════╪═══════╪═══╪══════╪════════════╪═══════════════╪════════════════╡\n",
      "└──────┴──────┴───────┴───────┴───┴──────┴────────────┴───────────────┴────────────────┘\n"
     ]
    }
   ],
   "source": [
    "def outlier_acc_magnitude(df):\n",
    "    df_outlier = df.with_columns(\n",
    "        (pl.col('Acc_MAGNITUDE') > 30).alias('is_outlier_mag')\n",
    "    )\n",
    "    filtered_df = df_outlier.filter(pl.col(\"is_outlier_mag\") == \"True\")\n",
    "    return filtered_df\n",
    "print(outlier_acc_magnitude(defog_df))\n",
    "print(outlier_acc_magnitude(tdcsfog_df))\n",
    "print(outlier_acc_magnitude(notype_df))\n",
    "\n"
   ]
  },
  {
   "cell_type": "code",
   "execution_count": 27,
   "id": "3275f6b9",
   "metadata": {
    "execution": {
     "iopub.execute_input": "2025-09-18T23:37:06.057312Z",
     "iopub.status.busy": "2025-09-18T23:37:06.056988Z",
     "iopub.status.idle": "2025-09-18T23:37:12.017843Z",
     "shell.execute_reply": "2025-09-18T23:37:12.017091Z"
    },
    "papermill": {
     "duration": 5.972973,
     "end_time": "2025-09-18T23:37:12.019159",
     "exception": false,
     "start_time": "2025-09-18T23:37:06.046186",
     "status": "completed"
    },
    "tags": []
   },
   "outputs": [
    {
     "data": {
      "text/html": [
       "<div><style>\n",
       ".dataframe > thead > tr,\n",
       ".dataframe > tbody > tr {\n",
       "  text-align: right;\n",
       "  white-space: pre-wrap;\n",
       "}\n",
       "</style>\n",
       "<small>shape: (7_062_672, 9)</small><table border=\"1\" class=\"dataframe\"><thead><tr><th>Time</th><th>AccV</th><th>AccML</th><th>AccAP</th><th>StartHesitation</th><th>Turn</th><th>Walking</th><th>patient_id</th><th>Acc_MAGNITUDE</th></tr><tr><td>i64</td><td>f64</td><td>f64</td><td>f64</td><td>i64</td><td>i64</td><td>i64</td><td>str</td><td>f64</td></tr></thead><tbody><tr><td>0</td><td>-0.083911</td><td>0.203213</td><td>-0.67943</td><td>0</td><td>0</td><td>0</td><td>&quot;a171e61840&quot;</td><td>9.667749</td></tr><tr><td>1</td><td>-0.089146</td><td>0.208098</td><td>-0.679487</td><td>0</td><td>0</td><td>0</td><td>&quot;a171e61840&quot;</td><td>9.674856</td></tr><tr><td>2</td><td>-0.087143</td><td>0.196669</td><td>-0.674231</td><td>0</td><td>0</td><td>0</td><td>&quot;a171e61840&quot;</td><td>9.67226</td></tr><tr><td>3</td><td>-0.089432</td><td>0.197797</td><td>-0.679645</td><td>0</td><td>0</td><td>0</td><td>&quot;a171e61840&quot;</td><td>9.675176</td></tr><tr><td>4</td><td>-0.088028</td><td>0.204211</td><td>-0.671919</td><td>0</td><td>0</td><td>0</td><td>&quot;a171e61840&quot;</td><td>9.67358</td></tr><tr><td>&hellip;</td><td>&hellip;</td><td>&hellip;</td><td>&hellip;</td><td>&hellip;</td><td>&hellip;</td><td>&hellip;</td><td>&hellip;</td><td>&hellip;</td></tr><tr><td>5153</td><td>-0.463118</td><td>0.20755</td><td>-1.838585</td><td>0</td><td>0</td><td>0</td><td>&quot;0506d9a39f&quot;</td><td>9.979921</td></tr><tr><td>5154</td><td>-0.305387</td><td>0.236566</td><td>-1.834007</td><td>0</td><td>0</td><td>0</td><td>&quot;0506d9a39f&quot;</td><td>9.757885</td></tr><tr><td>5155</td><td>-0.201991</td><td>0.21319</td><td>-1.832518</td><td>0</td><td>0</td><td>0</td><td>&quot;0506d9a39f&quot;</td><td>9.61317</td></tr><tr><td>5156</td><td>-0.146391</td><td>0.203751</td><td>-1.842525</td><td>0</td><td>0</td><td>0</td><td>&quot;0506d9a39f&quot;</td><td>9.537727</td></tr><tr><td>5157</td><td>-0.214913</td><td>0.201623</td><td>-1.827823</td><td>0</td><td>0</td><td>0</td><td>&quot;0506d9a39f&quot;</td><td>9.63041</td></tr></tbody></table></div>"
      ],
      "text/plain": [
       "shape: (7_062_672, 9)\n",
       "┌──────┬───────────┬──────────┬───────────┬───┬──────┬─────────┬────────────┬───────────────┐\n",
       "│ Time ┆ AccV      ┆ AccML    ┆ AccAP     ┆ … ┆ Turn ┆ Walking ┆ patient_id ┆ Acc_MAGNITUDE │\n",
       "│ ---  ┆ ---       ┆ ---      ┆ ---       ┆   ┆ ---  ┆ ---     ┆ ---        ┆ ---           │\n",
       "│ i64  ┆ f64       ┆ f64      ┆ f64       ┆   ┆ i64  ┆ i64     ┆ str        ┆ f64           │\n",
       "╞══════╪═══════════╪══════════╪═══════════╪═══╪══════╪═════════╪════════════╪═══════════════╡\n",
       "│ 0    ┆ -0.083911 ┆ 0.203213 ┆ -0.67943  ┆ … ┆ 0    ┆ 0       ┆ a171e61840 ┆ 9.667749      │\n",
       "│ 1    ┆ -0.089146 ┆ 0.208098 ┆ -0.679487 ┆ … ┆ 0    ┆ 0       ┆ a171e61840 ┆ 9.674856      │\n",
       "│ 2    ┆ -0.087143 ┆ 0.196669 ┆ -0.674231 ┆ … ┆ 0    ┆ 0       ┆ a171e61840 ┆ 9.67226       │\n",
       "│ 3    ┆ -0.089432 ┆ 0.197797 ┆ -0.679645 ┆ … ┆ 0    ┆ 0       ┆ a171e61840 ┆ 9.675176      │\n",
       "│ 4    ┆ -0.088028 ┆ 0.204211 ┆ -0.671919 ┆ … ┆ 0    ┆ 0       ┆ a171e61840 ┆ 9.67358       │\n",
       "│ …    ┆ …         ┆ …        ┆ …         ┆ … ┆ …    ┆ …       ┆ …          ┆ …             │\n",
       "│ 5153 ┆ -0.463118 ┆ 0.20755  ┆ -1.838585 ┆ … ┆ 0    ┆ 0       ┆ 0506d9a39f ┆ 9.979921      │\n",
       "│ 5154 ┆ -0.305387 ┆ 0.236566 ┆ -1.834007 ┆ … ┆ 0    ┆ 0       ┆ 0506d9a39f ┆ 9.757885      │\n",
       "│ 5155 ┆ -0.201991 ┆ 0.21319  ┆ -1.832518 ┆ … ┆ 0    ┆ 0       ┆ 0506d9a39f ┆ 9.61317       │\n",
       "│ 5156 ┆ -0.146391 ┆ 0.203751 ┆ -1.842525 ┆ … ┆ 0    ┆ 0       ┆ 0506d9a39f ┆ 9.537727      │\n",
       "│ 5157 ┆ -0.214913 ┆ 0.201623 ┆ -1.827823 ┆ … ┆ 0    ┆ 0       ┆ 0506d9a39f ┆ 9.63041       │\n",
       "└──────┴───────────┴──────────┴───────────┴───┴──────┴─────────┴────────────┴───────────────┘"
      ]
     },
     "execution_count": 27,
     "metadata": {},
     "output_type": "execute_result"
    }
   ],
   "source": [
    "# Standardize acceleration per patient for each training dataframe\n",
    "def standardize_acc_by_patient(df: pl.DataFrame):\n",
    "    acc_cols = ['AccV', 'AccML', 'AccAP']\n",
    "    for col in acc_cols:\n",
    "        df = df.with_columns(\n",
    "            (\n",
    "                (pl.col(col) - pl.col(col).mean().over(\"patient_id\")) /\n",
    "                pl.col(col).std().over(\"patient_id\")\n",
    "            ).alias(col)  # overwrite original column\n",
    "        )\n",
    "    return df\n",
    "\n",
    "tdcsfog_df = standardize_acc_by_patient(tdcsfog_df)\n",
    "defog_df = standardize_acc_by_patient(defog_df)\n",
    "notype_df = standardize_acc_by_patient(notype_df)\n",
    "defog_df"
   ]
  },
  {
   "cell_type": "code",
   "execution_count": 28,
   "id": "5132ce6e",
   "metadata": {
    "execution": {
     "iopub.execute_input": "2025-09-18T23:37:12.040023Z",
     "iopub.status.busy": "2025-09-18T23:37:12.039733Z",
     "iopub.status.idle": "2025-09-18T23:37:12.606138Z",
     "shell.execute_reply": "2025-09-18T23:37:12.605339Z"
    },
    "papermill": {
     "duration": 0.578398,
     "end_time": "2025-09-18T23:37:12.607551",
     "exception": false,
     "start_time": "2025-09-18T23:37:12.029153",
     "status": "completed"
    },
    "tags": []
   },
   "outputs": [
    {
     "data": {
      "text/html": [
       "<div><style>\n",
       ".dataframe > thead > tr,\n",
       ".dataframe > tbody > tr {\n",
       "  text-align: right;\n",
       "  white-space: pre-wrap;\n",
       "}\n",
       "</style>\n",
       "<small>shape: (7_062_672, 10)</small><table border=\"1\" class=\"dataframe\"><thead><tr><th>Time</th><th>AccV</th><th>AccML</th><th>AccAP</th><th>StartHesitation</th><th>Turn</th><th>Walking</th><th>patient_id</th><th>Acc_MAGNITUDE</th><th>Time (seconds)</th></tr><tr><td>i64</td><td>f64</td><td>f64</td><td>f64</td><td>i64</td><td>i64</td><td>i64</td><td>str</td><td>f64</td><td>f64</td></tr></thead><tbody><tr><td>0</td><td>-0.083911</td><td>0.203213</td><td>-0.67943</td><td>0</td><td>0</td><td>0</td><td>&quot;a171e61840&quot;</td><td>9.667749</td><td>0.0</td></tr><tr><td>1</td><td>-0.089146</td><td>0.208098</td><td>-0.679487</td><td>0</td><td>0</td><td>0</td><td>&quot;a171e61840&quot;</td><td>9.674856</td><td>0.01</td></tr><tr><td>2</td><td>-0.087143</td><td>0.196669</td><td>-0.674231</td><td>0</td><td>0</td><td>0</td><td>&quot;a171e61840&quot;</td><td>9.67226</td><td>0.02</td></tr><tr><td>3</td><td>-0.089432</td><td>0.197797</td><td>-0.679645</td><td>0</td><td>0</td><td>0</td><td>&quot;a171e61840&quot;</td><td>9.675176</td><td>0.03</td></tr><tr><td>4</td><td>-0.088028</td><td>0.204211</td><td>-0.671919</td><td>0</td><td>0</td><td>0</td><td>&quot;a171e61840&quot;</td><td>9.67358</td><td>0.04</td></tr><tr><td>&hellip;</td><td>&hellip;</td><td>&hellip;</td><td>&hellip;</td><td>&hellip;</td><td>&hellip;</td><td>&hellip;</td><td>&hellip;</td><td>&hellip;</td><td>&hellip;</td></tr><tr><td>5153</td><td>-0.463118</td><td>0.20755</td><td>-1.838585</td><td>0</td><td>0</td><td>0</td><td>&quot;0506d9a39f&quot;</td><td>9.979921</td><td>51.53</td></tr><tr><td>5154</td><td>-0.305387</td><td>0.236566</td><td>-1.834007</td><td>0</td><td>0</td><td>0</td><td>&quot;0506d9a39f&quot;</td><td>9.757885</td><td>51.54</td></tr><tr><td>5155</td><td>-0.201991</td><td>0.21319</td><td>-1.832518</td><td>0</td><td>0</td><td>0</td><td>&quot;0506d9a39f&quot;</td><td>9.61317</td><td>51.55</td></tr><tr><td>5156</td><td>-0.146391</td><td>0.203751</td><td>-1.842525</td><td>0</td><td>0</td><td>0</td><td>&quot;0506d9a39f&quot;</td><td>9.537727</td><td>51.56</td></tr><tr><td>5157</td><td>-0.214913</td><td>0.201623</td><td>-1.827823</td><td>0</td><td>0</td><td>0</td><td>&quot;0506d9a39f&quot;</td><td>9.63041</td><td>51.57</td></tr></tbody></table></div>"
      ],
      "text/plain": [
       "shape: (7_062_672, 10)\n",
       "┌──────┬───────────┬──────────┬───────────┬───┬─────────┬────────────┬─────────────────┬───────────┐\n",
       "│ Time ┆ AccV      ┆ AccML    ┆ AccAP     ┆ … ┆ Walking ┆ patient_id ┆ Acc_MAGNITUDE   ┆ Time      │\n",
       "│ ---  ┆ ---       ┆ ---      ┆ ---       ┆   ┆ ---     ┆ ---        ┆ ---             ┆ (seconds) │\n",
       "│ i64  ┆ f64       ┆ f64      ┆ f64       ┆   ┆ i64     ┆ str        ┆ f64             ┆ ---       │\n",
       "│      ┆           ┆          ┆           ┆   ┆         ┆            ┆                 ┆ f64       │\n",
       "╞══════╪═══════════╪══════════╪═══════════╪═══╪═════════╪════════════╪═════════════════╪═══════════╡\n",
       "│ 0    ┆ -0.083911 ┆ 0.203213 ┆ -0.67943  ┆ … ┆ 0       ┆ a171e61840 ┆ 9.667749        ┆ 0.0       │\n",
       "│ 1    ┆ -0.089146 ┆ 0.208098 ┆ -0.679487 ┆ … ┆ 0       ┆ a171e61840 ┆ 9.674856        ┆ 0.01      │\n",
       "│ 2    ┆ -0.087143 ┆ 0.196669 ┆ -0.674231 ┆ … ┆ 0       ┆ a171e61840 ┆ 9.67226         ┆ 0.02      │\n",
       "│ 3    ┆ -0.089432 ┆ 0.197797 ┆ -0.679645 ┆ … ┆ 0       ┆ a171e61840 ┆ 9.675176        ┆ 0.03      │\n",
       "│ 4    ┆ -0.088028 ┆ 0.204211 ┆ -0.671919 ┆ … ┆ 0       ┆ a171e61840 ┆ 9.67358         ┆ 0.04      │\n",
       "│ …    ┆ …         ┆ …        ┆ …         ┆ … ┆ …       ┆ …          ┆ …               ┆ …         │\n",
       "│ 5153 ┆ -0.463118 ┆ 0.20755  ┆ -1.838585 ┆ … ┆ 0       ┆ 0506d9a39f ┆ 9.979921        ┆ 51.53     │\n",
       "│ 5154 ┆ -0.305387 ┆ 0.236566 ┆ -1.834007 ┆ … ┆ 0       ┆ 0506d9a39f ┆ 9.757885        ┆ 51.54     │\n",
       "│ 5155 ┆ -0.201991 ┆ 0.21319  ┆ -1.832518 ┆ … ┆ 0       ┆ 0506d9a39f ┆ 9.61317         ┆ 51.55     │\n",
       "│ 5156 ┆ -0.146391 ┆ 0.203751 ┆ -1.842525 ┆ … ┆ 0       ┆ 0506d9a39f ┆ 9.537727        ┆ 51.56     │\n",
       "│ 5157 ┆ -0.214913 ┆ 0.201623 ┆ -1.827823 ┆ … ┆ 0       ┆ 0506d9a39f ┆ 9.63041         ┆ 51.57     │\n",
       "└──────┴───────────┴──────────┴───────────┴───┴─────────┴────────────┴─────────────────┴───────────┘"
      ]
     },
     "execution_count": 28,
     "metadata": {},
     "output_type": "execute_result"
    }
   ],
   "source": [
    "# Create a new column that contains Time as seconds\n",
    "def time_to_seconds(df, hertz):\n",
    "    df = df.with_columns(\n",
    "        (\n",
    "            (pl.col(\"Time\") / hertz)\n",
    "        ).alias(\"Time (seconds)\")\n",
    "    )\n",
    "\n",
    "    return df\n",
    "\n",
    "tdcsfog_df = time_to_seconds(tdcsfog_df, 128)\n",
    "defog_df = time_to_seconds(tdcsfog_df, 100)\n",
    "notype_df = time_to_seconds(notype_df, 100)\n",
    "defog_df"
   ]
  },
  {
   "cell_type": "code",
   "execution_count": 29,
   "id": "8b339415",
   "metadata": {
    "execution": {
     "iopub.execute_input": "2025-09-18T23:37:12.630097Z",
     "iopub.status.busy": "2025-09-18T23:37:12.629770Z",
     "iopub.status.idle": "2025-09-18T23:37:12.875885Z",
     "shell.execute_reply": "2025-09-18T23:37:12.874940Z"
    },
    "papermill": {
     "duration": 0.258844,
     "end_time": "2025-09-18T23:37:12.877237",
     "exception": false,
     "start_time": "2025-09-18T23:37:12.618393",
     "status": "completed"
    },
    "tags": []
   },
   "outputs": [
    {
     "name": "stdout",
     "output_type": "stream",
     "text": [
      "shape: (92_179, 10)\n",
      "┌──────┬───────────┬───────────┬───────────┬───┬─────────┬────────────┬──────────────┬─────────────┐\n",
      "│ Time ┆ AccV      ┆ AccML     ┆ AccAP     ┆ … ┆ Walking ┆ patient_id ┆ Acc_MAGNITUD ┆ Time        │\n",
      "│ ---  ┆ ---       ┆ ---       ┆ ---       ┆   ┆ ---     ┆ ---        ┆ E            ┆ (seconds)   │\n",
      "│ i64  ┆ f64       ┆ f64       ┆ f64       ┆   ┆ i64     ┆ str        ┆ ---          ┆ ---         │\n",
      "│      ┆           ┆           ┆           ┆   ┆         ┆            ┆ f64          ┆ f64         │\n",
      "╞══════╪═══════════╪═══════════╪═══════════╪═══╪═════════╪════════════╪══════════════╪═════════════╡\n",
      "│ 1910 ┆ -1.290404 ┆ 1.618016  ┆ 3.612224  ┆ … ┆ 0       ┆ a171e61840 ┆ 13.787228    ┆ 19.1        │\n",
      "│ 1911 ┆ -2.917139 ┆ 2.923083  ┆ 3.496609  ┆ … ┆ 0       ┆ a171e61840 ┆ 15.868035    ┆ 19.11       │\n",
      "│ 1924 ┆ -2.735014 ┆ 0.30849   ┆ -3.010618 ┆ … ┆ 0       ┆ a171e61840 ┆ 13.806283    ┆ 19.24       │\n",
      "│ 1925 ┆ -3.089478 ┆ 0.467506  ┆ -3.192343 ┆ … ┆ 0       ┆ a171e61840 ┆ 14.360474    ┆ 19.25       │\n",
      "│ 2051 ┆ -0.467022 ┆ 0.874355  ┆ 3.114098  ┆ … ┆ 0       ┆ a171e61840 ┆ 12.275125    ┆ 20.51       │\n",
      "│ …    ┆ …         ┆ …         ┆ …         ┆ … ┆ …       ┆ …          ┆ …            ┆ …           │\n",
      "│ 4037 ┆ -3.766075 ┆ 1.134097  ┆ 4.893611  ┆ … ┆ 0       ┆ 0506d9a39f ┆ 18.565115    ┆ 40.37       │\n",
      "│ 4038 ┆ -7.190271 ┆ 2.329106  ┆ 3.234053  ┆ … ┆ 0       ┆ 0506d9a39f ┆ 21.291064    ┆ 40.38       │\n",
      "│ 5052 ┆ -0.708501 ┆ 0.227125  ┆ -3.142918 ┆ … ┆ 0       ┆ 0506d9a39f ┆ 10.861746    ┆ 50.52       │\n",
      "│ 5059 ┆ -0.778932 ┆ -0.051121 ┆ -5.33465  ┆ … ┆ 0       ┆ 0506d9a39f ┆ 12.889076    ┆ 50.59       │\n",
      "│ 5060 ┆ -1.290946 ┆ 0.196499  ┆ -5.18982  ┆ … ┆ 0       ┆ 0506d9a39f ┆ 13.316661    ┆ 50.6        │\n",
      "└──────┴───────────┴───────────┴───────────┴───┴─────────┴────────────┴──────────────┴─────────────┘\n",
      "shape: (92_179, 10)\n",
      "┌──────┬───────────┬───────────┬───────────┬───┬─────────┬────────────┬──────────────┬─────────────┐\n",
      "│ Time ┆ AccV      ┆ AccML     ┆ AccAP     ┆ … ┆ Walking ┆ patient_id ┆ Acc_MAGNITUD ┆ Time        │\n",
      "│ ---  ┆ ---       ┆ ---       ┆ ---       ┆   ┆ ---     ┆ ---        ┆ E            ┆ (seconds)   │\n",
      "│ i64  ┆ f64       ┆ f64       ┆ f64       ┆   ┆ i64     ┆ str        ┆ ---          ┆ ---         │\n",
      "│      ┆           ┆           ┆           ┆   ┆         ┆            ┆ f64          ┆ f64         │\n",
      "╞══════╪═══════════╪═══════════╪═══════════╪═══╪═════════╪════════════╪══════════════╪═════════════╡\n",
      "│ 1910 ┆ -1.290404 ┆ 1.618016  ┆ 3.612224  ┆ … ┆ 0       ┆ a171e61840 ┆ 13.787228    ┆ 14.921875   │\n",
      "│ 1911 ┆ -2.917139 ┆ 2.923083  ┆ 3.496609  ┆ … ┆ 0       ┆ a171e61840 ┆ 15.868035    ┆ 14.929688   │\n",
      "│ 1924 ┆ -2.735014 ┆ 0.30849   ┆ -3.010618 ┆ … ┆ 0       ┆ a171e61840 ┆ 13.806283    ┆ 15.03125    │\n",
      "│ 1925 ┆ -3.089478 ┆ 0.467506  ┆ -3.192343 ┆ … ┆ 0       ┆ a171e61840 ┆ 14.360474    ┆ 15.039062   │\n",
      "│ 2051 ┆ -0.467022 ┆ 0.874355  ┆ 3.114098  ┆ … ┆ 0       ┆ a171e61840 ┆ 12.275125    ┆ 16.023438   │\n",
      "│ …    ┆ …         ┆ …         ┆ …         ┆ … ┆ …       ┆ …          ┆ …            ┆ …           │\n",
      "│ 4037 ┆ -3.766075 ┆ 1.134097  ┆ 4.893611  ┆ … ┆ 0       ┆ 0506d9a39f ┆ 18.565115    ┆ 31.539062   │\n",
      "│ 4038 ┆ -7.190271 ┆ 2.329106  ┆ 3.234053  ┆ … ┆ 0       ┆ 0506d9a39f ┆ 21.291064    ┆ 31.546875   │\n",
      "│ 5052 ┆ -0.708501 ┆ 0.227125  ┆ -3.142918 ┆ … ┆ 0       ┆ 0506d9a39f ┆ 10.861746    ┆ 39.46875    │\n",
      "│ 5059 ┆ -0.778932 ┆ -0.051121 ┆ -5.33465  ┆ … ┆ 0       ┆ 0506d9a39f ┆ 12.889076    ┆ 39.523438   │\n",
      "│ 5060 ┆ -1.290946 ┆ 0.196499  ┆ -5.18982  ┆ … ┆ 0       ┆ 0506d9a39f ┆ 13.316661    ┆ 39.53125    │\n",
      "└──────┴───────────┴───────────┴───────────┴───┴─────────┴────────────┴──────────────┴─────────────┘\n",
      "shape: (37_797, 10)\n",
      "┌────────┬───────────┬───────────┬───────────┬───┬──────┬────────────┬─────────────────┬───────────┐\n",
      "│ Time   ┆ AccV      ┆ AccML     ┆ AccAP     ┆ … ┆ Task ┆ patient_id ┆ Acc_MAGNITUDE   ┆ Time      │\n",
      "│ ---    ┆ ---       ┆ ---       ┆ ---       ┆   ┆ ---  ┆ ---        ┆ ---             ┆ (seconds) │\n",
      "│ i64    ┆ f64       ┆ f64       ┆ f64       ┆   ┆ i8   ┆ str        ┆ f64             ┆ ---       │\n",
      "│        ┆           ┆           ┆           ┆   ┆      ┆            ┆                 ┆ f64       │\n",
      "╞════════╪═══════════╪═══════════╪═══════════╪═══╪══════╪════════════╪═════════════════╪═══════════╡\n",
      "│ 193    ┆ 2.231415  ┆ -1.680833 ┆ -3.000221 ┆ … ┆ 0    ┆ 1e8d55d48d ┆ 9.707306        ┆ 1.93      │\n",
      "│ 194    ┆ 2.212104  ┆ -1.828824 ┆ -3.005121 ┆ … ┆ 0    ┆ 1e8d55d48d ┆ 9.754485        ┆ 1.94      │\n",
      "│ 195    ┆ 2.115957  ┆ -1.972508 ┆ -3.020006 ┆ … ┆ 0    ┆ 1e8d55d48d ┆ 9.859613        ┆ 1.95      │\n",
      "│ 196    ┆ 1.991363  ┆ -2.1675   ┆ -3.061169 ┆ … ┆ 0    ┆ 1e8d55d48d ┆ 10.020413       ┆ 1.96      │\n",
      "│ 197    ┆ 1.854212  ┆ -2.398261 ┆ -3.08328  ┆ … ┆ 0    ┆ 1e8d55d48d ┆ 10.180147       ┆ 1.97      │\n",
      "│ …      ┆ …         ┆ …         ┆ …         ┆ … ┆ …    ┆ …          ┆ …               ┆ …         │\n",
      "│ 301368 ┆ -1.691967 ┆ 0.152443  ┆ 3.008757  ┆ … ┆ 0    ┆ 434732a5e3 ┆ 9.578449        ┆ 3013.68   │\n",
      "│ 301383 ┆ -1.722391 ┆ 0.126368  ┆ 3.00344   ┆ … ┆ 0    ┆ 434732a5e3 ┆ 9.596844        ┆ 3013.83   │\n",
      "│ 301427 ┆ -1.687849 ┆ 0.21006   ┆ 3.000633  ┆ … ┆ 0    ┆ 434732a5e3 ┆ 9.575547        ┆ 3014.27   │\n",
      "│ 301435 ┆ -1.700931 ┆ 0.11234   ┆ 3.000489  ┆ … ┆ 0    ┆ 434732a5e3 ┆ 9.584632        ┆ 3014.35   │\n",
      "│ 301436 ┆ -1.685739 ┆ 0.166417  ┆ 3.000064  ┆ … ┆ 0    ┆ 434732a5e3 ┆ 9.574936        ┆ 3014.36   │\n",
      "└────────┴───────────┴───────────┴───────────┴───┴──────┴────────────┴─────────────────┴───────────┘\n"
     ]
    }
   ],
   "source": [
    "# Check for outliers from acceleration\n",
    "def detect_outliers(df: pl.DataFrame):\n",
    "    acc_cols = ['AccV', 'AccML', 'AccAP']\n",
    "    for col in acc_cols: \n",
    "        z_col = col\n",
    "        outlier_df = df.filter(pl.col(z_col).abs() > 3.0)\n",
    "    return outlier_df\n",
    "print(detect_outliers(defog_df))\n",
    "print(detect_outliers(tdcsfog_df))\n",
    "print(detect_outliers(notype_df))\n",
    "\n",
    "# def detect_outliers(df):\n",
    "#     acc_cols = ['AccV', 'AccML', 'AccAP']\n",
    "#     subject_ids_with_outliers = set()\n",
    "\n",
    "#     for col in acc_cols:\n",
    "#         z_col = col  # Assuming the column already holds standardized z-scores\n",
    "\n",
    "#         # Detect rows where z-score > threshold\n",
    "#         outlier_df = df.filter(pl.col(z_col).abs() > 3.0)\n",
    "\n",
    "#         # Collect unique subject IDs with outliers\n",
    "#         if 'patient_id' in df.columns:\n",
    "#             outlier_subjects = outlier_df.select('patient_id').unique()\n",
    "#             subject_ids_with_outliers.update(outlier_subjects['patient_id'].to_list())\n",
    "#         elif 'subject_id' in df.columns:\n",
    "#             outlier_subjects = outlier_df.select('subject_id').unique()\n",
    "#             subject_ids_with_outliers.update(outlier_subjects['subject_id'].to_list())\n",
    "#         else:\n",
    "#             raise ValueError(\"Missing 'patient_id' or 'subject_id' column in DataFrame.\")\n",
    "\n",
    "#     return list(subject_ids_with_outliers)\n",
    "\n",
    "# tdcsfog_outlier_subjects = detect_outliers(tdcsfog_df)\n",
    "# defog_outlier_subjects = detect_outliers(defog_df)\n",
    "# notype_outlier_subjects = detect_outliers(notype_df)\n",
    "\n",
    "# print(\"Subjects with outliers in tdcsfog:\", tdcsfog_outlier_subjects)\n",
    "# print(\"Subjects with outliers in defog:\", defog_outlier_subjects)\n",
    "# print(\"Subjects with outliers in notype:\", notype_outlier_subjects)\n",
    "\n"
   ]
  }
 ],
 "metadata": {
  "kaggle": {
   "accelerator": "none",
   "dataSources": [
    {
     "databundleVersionId": 5677426,
     "sourceId": 41880,
     "sourceType": "competition"
    }
   ],
   "dockerImageVersionId": 31089,
   "isGpuEnabled": false,
   "isInternetEnabled": true,
   "language": "python",
   "sourceType": "notebook"
  },
  "kernelspec": {
   "display_name": "Python 3",
   "language": "python",
   "name": "python3"
  },
  "language_info": {
   "codemirror_mode": {
    "name": "ipython",
    "version": 3
   },
   "file_extension": ".py",
   "mimetype": "text/x-python",
   "name": "python",
   "nbconvert_exporter": "python",
   "pygments_lexer": "ipython3",
   "version": "3.11.13"
  },
  "papermill": {
   "default_parameters": {},
   "duration": 68.947232,
   "end_time": "2025-09-18T23:37:14.610591",
   "environment_variables": {},
   "exception": null,
   "input_path": "__notebook__.ipynb",
   "output_path": "__notebook__.ipynb",
   "parameters": {},
   "start_time": "2025-09-18T23:36:05.663359",
   "version": "2.6.0"
  }
 },
 "nbformat": 4,
 "nbformat_minor": 5
}
