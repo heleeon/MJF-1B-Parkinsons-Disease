{
 "cells": [
  {
   "cell_type": "code",
   "execution_count": 1,
   "id": "1c96be90",
   "metadata": {
    "_cell_guid": "b1076dfc-b9ad-4769-8c92-a6c4dae69d19",
    "_uuid": "8f2839f25d086af736a60e9eeb907d3b93b6e0e5",
    "execution": {
     "iopub.execute_input": "2025-09-12T17:22:05.235070Z",
     "iopub.status.busy": "2025-09-12T17:22:05.234735Z",
     "iopub.status.idle": "2025-09-12T17:22:17.171997Z",
     "shell.execute_reply": "2025-09-12T17:22:17.170886Z"
    },
    "papermill": {
     "duration": 11.946863,
     "end_time": "2025-09-12T17:22:17.173996",
     "exception": false,
     "start_time": "2025-09-12T17:22:05.227133",
     "status": "completed"
    },
    "tags": []
   },
   "outputs": [],
   "source": [
    "# This Python 3 environment comes with many helpful analytics libraries installed\n",
    "# It is defined by the kaggle/python Docker image: https://github.com/kaggle/docker-python\n",
    "# For example, here's several helpful packages to load\n",
    "\n",
    "import numpy as np # linear algebra\n",
    "import pandas as pd # data processing, CSV file I/O (e.g. pd.read_csv)\n",
    "import matplotlib.pyplot as plt\n",
    "import seaborn as sns   \n",
    "from scipy.signal import butter, filtfilt\n",
    "# import seglearn as sglearn        # For windowing and sequence modeling\n",
    "import tsfresh     \n",
    "import os\n",
    " \n",
    "# Input data files are available in the read-only \"../input/\" directory\n",
    "# For example, running this (by clicking run or pressing Shift+Enter) will list all files under the input directory\n",
    "\n",
    "# import os\n",
    "# for dirname, _, filenames in os.walk('/kaggle/input'):\n",
    "#     for filename in filenames:\n",
    "#         print(os.path.join(dirname, filename))\n",
    "\n",
    "# You can write up to 20GB to the current directory (/kaggle/working/) that gets preserved as output when you create a version using \"Save & Run All\" \n",
    "# You can also write temporary files to /kaggle/temp/, but they won't be saved outside of the current session"
   ]
  },
  {
   "cell_type": "code",
   "execution_count": 2,
   "id": "efdfda5c",
   "metadata": {
    "execution": {
     "iopub.execute_input": "2025-09-12T17:22:17.186543Z",
     "iopub.status.busy": "2025-09-12T17:22:17.185973Z",
     "iopub.status.idle": "2025-09-12T17:22:17.857682Z",
     "shell.execute_reply": "2025-09-12T17:22:17.856616Z"
    },
    "papermill": {
     "duration": 0.680137,
     "end_time": "2025-09-12T17:22:17.859615",
     "exception": false,
     "start_time": "2025-09-12T17:22:17.179478",
     "status": "completed"
    },
    "tags": []
   },
   "outputs": [],
   "source": [
    "import polars as pl\n",
    "import dask.dataframe as dd\n",
    "from pathlib import Path"
   ]
  },
  {
   "cell_type": "markdown",
   "id": "c193a3df",
   "metadata": {
    "papermill": {
     "duration": 0.00493,
     "end_time": "2025-09-12T17:22:17.869883",
     "exception": false,
     "start_time": "2025-09-12T17:22:17.864953",
     "status": "completed"
    },
    "tags": []
   },
   "source": [
    "# Data Exploration"
   ]
  },
  {
   "cell_type": "code",
   "execution_count": 3,
   "id": "c597c265",
   "metadata": {
    "execution": {
     "iopub.execute_input": "2025-09-12T17:22:17.881546Z",
     "iopub.status.busy": "2025-09-12T17:22:17.881170Z",
     "iopub.status.idle": "2025-09-12T17:22:17.887708Z",
     "shell.execute_reply": "2025-09-12T17:22:17.886621Z"
    },
    "papermill": {
     "duration": 0.014638,
     "end_time": "2025-09-12T17:22:17.889570",
     "exception": false,
     "start_time": "2025-09-12T17:22:17.874932",
     "status": "completed"
    },
    "tags": []
   },
   "outputs": [],
   "source": [
    "# File paths for three training datasets\n",
    "defog = Path('/kaggle/input/tlvmc-parkinsons-freezing-gait-prediction/train/defog')\n",
    "notype = Path('/kaggle/input/tlvmc-parkinsons-freezing-gait-prediction/train/notype')\n",
    "tdcsfog = Path('/kaggle/input/tlvmc-parkinsons-freezing-gait-prediction/train/tdcsfog')"
   ]
  },
  {
   "cell_type": "code",
   "execution_count": 4,
   "id": "8524fad3",
   "metadata": {
    "execution": {
     "iopub.execute_input": "2025-09-12T17:22:17.901418Z",
     "iopub.status.busy": "2025-09-12T17:22:17.900568Z",
     "iopub.status.idle": "2025-09-12T17:22:31.223817Z",
     "shell.execute_reply": "2025-09-12T17:22:31.222599Z"
    },
    "papermill": {
     "duration": 13.330898,
     "end_time": "2025-09-12T17:22:31.225634",
     "exception": false,
     "start_time": "2025-09-12T17:22:17.894736",
     "status": "completed"
    },
    "tags": []
   },
   "outputs": [],
   "source": [
    "defog_files = [f for f in os.listdir(defog) if f.endswith('.csv')]\n",
    "\n",
    "# List to store individual DataFrames\n",
    "defog_list = []\n",
    "\n",
    "for path in defog.glob(\"*.csv\"):\n",
    "    patient_id = path.stem  # removes .csv\n",
    "\n",
    "    df = pl.read_csv(path)\n",
    "    df = df.with_columns([\n",
    "        pl.lit(patient_id).alias(\"patient_id\")\n",
    "    ])\n",
    "    \n",
    "    defog_list.append(df)\n",
    "\n",
    "defog_df = pl.concat(defog_list)\n",
    "# for f in defog_files:\n",
    "#     file_path = os.path.join(defog, f)\n",
    "#     df = pl.read_csv(file_path)\n",
    "#     df = df.with_columns([\n",
    "#         pl.lit(f).alias('file')  # Add filename as identifier\n",
    "#     ])\n",
    "#     defog_list.append(df)\n",
    "\n",
    "# # Concatenate into one large DataFrame\n",
    "# defog_df = pl.concat(defog_list)"
   ]
  },
  {
   "cell_type": "code",
   "execution_count": 5,
   "id": "25c502c6",
   "metadata": {
    "execution": {
     "iopub.execute_input": "2025-09-12T17:22:31.236948Z",
     "iopub.status.busy": "2025-09-12T17:22:31.236611Z",
     "iopub.status.idle": "2025-09-12T17:22:31.255685Z",
     "shell.execute_reply": "2025-09-12T17:22:31.254564Z"
    },
    "papermill": {
     "duration": 0.026657,
     "end_time": "2025-09-12T17:22:31.257344",
     "exception": false,
     "start_time": "2025-09-12T17:22:31.230687",
     "status": "completed"
    },
    "tags": []
   },
   "outputs": [
    {
     "data": {
      "text/html": [
       "<div><style>\n",
       ".dataframe > thead > tr,\n",
       ".dataframe > tbody > tr {\n",
       "  text-align: right;\n",
       "  white-space: pre-wrap;\n",
       "}\n",
       "</style>\n",
       "<small>shape: (5, 10)</small><table border=\"1\" class=\"dataframe\"><thead><tr><th>Time</th><th>AccV</th><th>AccML</th><th>AccAP</th><th>StartHesitation</th><th>Turn</th><th>Walking</th><th>Valid</th><th>Task</th><th>patient_id</th></tr><tr><td>i64</td><td>f64</td><td>f64</td><td>f64</td><td>i64</td><td>i64</td><td>i64</td><td>bool</td><td>bool</td><td>str</td></tr></thead><tbody><tr><td>0</td><td>-1.002697</td><td>0.022371</td><td>0.068304</td><td>0</td><td>0</td><td>0</td><td>false</td><td>false</td><td>&quot;be9d33541d&quot;</td></tr><tr><td>1</td><td>-1.002641</td><td>0.019173</td><td>0.066162</td><td>0</td><td>0</td><td>0</td><td>false</td><td>false</td><td>&quot;be9d33541d&quot;</td></tr><tr><td>2</td><td>-0.99982</td><td>0.019142</td><td>0.067536</td><td>0</td><td>0</td><td>0</td><td>false</td><td>false</td><td>&quot;be9d33541d&quot;</td></tr><tr><td>3</td><td>-0.998023</td><td>0.018378</td><td>0.068409</td><td>0</td><td>0</td><td>0</td><td>false</td><td>false</td><td>&quot;be9d33541d&quot;</td></tr><tr><td>4</td><td>-0.998359</td><td>0.016726</td><td>0.066448</td><td>0</td><td>0</td><td>0</td><td>false</td><td>false</td><td>&quot;be9d33541d&quot;</td></tr></tbody></table></div>"
      ],
      "text/plain": [
       "shape: (5, 10)\n",
       "┌──────┬───────────┬──────────┬──────────┬───┬─────────┬───────┬───────┬────────────┐\n",
       "│ Time ┆ AccV      ┆ AccML    ┆ AccAP    ┆ … ┆ Walking ┆ Valid ┆ Task  ┆ patient_id │\n",
       "│ ---  ┆ ---       ┆ ---      ┆ ---      ┆   ┆ ---     ┆ ---   ┆ ---   ┆ ---        │\n",
       "│ i64  ┆ f64       ┆ f64      ┆ f64      ┆   ┆ i64     ┆ bool  ┆ bool  ┆ str        │\n",
       "╞══════╪═══════════╪══════════╪══════════╪═══╪═════════╪═══════╪═══════╪════════════╡\n",
       "│ 0    ┆ -1.002697 ┆ 0.022371 ┆ 0.068304 ┆ … ┆ 0       ┆ false ┆ false ┆ be9d33541d │\n",
       "│ 1    ┆ -1.002641 ┆ 0.019173 ┆ 0.066162 ┆ … ┆ 0       ┆ false ┆ false ┆ be9d33541d │\n",
       "│ 2    ┆ -0.99982  ┆ 0.019142 ┆ 0.067536 ┆ … ┆ 0       ┆ false ┆ false ┆ be9d33541d │\n",
       "│ 3    ┆ -0.998023 ┆ 0.018378 ┆ 0.068409 ┆ … ┆ 0       ┆ false ┆ false ┆ be9d33541d │\n",
       "│ 4    ┆ -0.998359 ┆ 0.016726 ┆ 0.066448 ┆ … ┆ 0       ┆ false ┆ false ┆ be9d33541d │\n",
       "└──────┴───────────┴──────────┴──────────┴───┴─────────┴───────┴───────┴────────────┘"
      ]
     },
     "execution_count": 5,
     "metadata": {},
     "output_type": "execute_result"
    }
   ],
   "source": [
    "defog_df.head()"
   ]
  },
  {
   "cell_type": "markdown",
   "id": "6c9d586f",
   "metadata": {
    "papermill": {
     "duration": 0.005891,
     "end_time": "2025-09-12T17:22:31.268841",
     "exception": false,
     "start_time": "2025-09-12T17:22:31.262950",
     "status": "completed"
    },
    "tags": []
   },
   "source": [
    "Load dataset"
   ]
  },
  {
   "cell_type": "code",
   "execution_count": 6,
   "id": "1b9b5400",
   "metadata": {
    "execution": {
     "iopub.execute_input": "2025-09-12T17:22:31.280445Z",
     "iopub.status.busy": "2025-09-12T17:22:31.280119Z",
     "iopub.status.idle": "2025-09-12T17:22:41.511001Z",
     "shell.execute_reply": "2025-09-12T17:22:41.510029Z"
    },
    "papermill": {
     "duration": 10.238823,
     "end_time": "2025-09-12T17:22:41.512834",
     "exception": false,
     "start_time": "2025-09-12T17:22:31.274011",
     "status": "completed"
    },
    "tags": []
   },
   "outputs": [],
   "source": [
    "notype_files = [f for f in os.listdir(notype) if f.endswith('.csv')]\n",
    "\n",
    "# List to store individual DataFrames\n",
    "notype_list = []\n",
    "\n",
    "for path in notype.glob(\"*.csv\"):\n",
    "    patient_id = path.stem  # removes .csv\n",
    "\n",
    "    df = pl.read_csv(path)\n",
    "    df = df.with_columns([\n",
    "        pl.lit(patient_id).alias(\"patient_id\")\n",
    "    ])\n",
    "    \n",
    "    notype_list.append(df)\n",
    "\n",
    "notype_df = pl.concat(notype_list)"
   ]
  },
  {
   "cell_type": "code",
   "execution_count": 7,
   "id": "ad803d6a",
   "metadata": {
    "execution": {
     "iopub.execute_input": "2025-09-12T17:22:41.525006Z",
     "iopub.status.busy": "2025-09-12T17:22:41.524670Z",
     "iopub.status.idle": "2025-09-12T17:22:41.531888Z",
     "shell.execute_reply": "2025-09-12T17:22:41.530992Z"
    },
    "papermill": {
     "duration": 0.014945,
     "end_time": "2025-09-12T17:22:41.533464",
     "exception": false,
     "start_time": "2025-09-12T17:22:41.518519",
     "status": "completed"
    },
    "tags": []
   },
   "outputs": [
    {
     "data": {
      "text/html": [
       "<div><style>\n",
       ".dataframe > thead > tr,\n",
       ".dataframe > tbody > tr {\n",
       "  text-align: right;\n",
       "  white-space: pre-wrap;\n",
       "}\n",
       "</style>\n",
       "<small>shape: (5, 8)</small><table border=\"1\" class=\"dataframe\"><thead><tr><th>Time</th><th>AccV</th><th>AccML</th><th>AccAP</th><th>Event</th><th>Valid</th><th>Task</th><th>patient_id</th></tr><tr><td>i64</td><td>f64</td><td>f64</td><td>f64</td><td>i64</td><td>bool</td><td>bool</td><td>str</td></tr></thead><tbody><tr><td>0</td><td>-0.991926</td><td>-0.119916</td><td>0.050087</td><td>0</td><td>false</td><td>false</td><td>&quot;1e8d55d48d&quot;</td></tr><tr><td>1</td><td>-0.994243</td><td>-0.118624</td><td>0.049909</td><td>0</td><td>false</td><td>false</td><td>&quot;1e8d55d48d&quot;</td></tr><tr><td>2</td><td>-0.99584</td><td>-0.118602</td><td>0.048774</td><td>0</td><td>false</td><td>false</td><td>&quot;1e8d55d48d&quot;</td></tr><tr><td>3</td><td>-0.995865</td><td>-0.121627</td><td>0.04809</td><td>0</td><td>false</td><td>false</td><td>&quot;1e8d55d48d&quot;</td></tr><tr><td>4</td><td>-0.99233</td><td>-0.122146</td><td>0.048878</td><td>0</td><td>false</td><td>false</td><td>&quot;1e8d55d48d&quot;</td></tr></tbody></table></div>"
      ],
      "text/plain": [
       "shape: (5, 8)\n",
       "┌──────┬───────────┬───────────┬──────────┬───────┬───────┬───────┬────────────┐\n",
       "│ Time ┆ AccV      ┆ AccML     ┆ AccAP    ┆ Event ┆ Valid ┆ Task  ┆ patient_id │\n",
       "│ ---  ┆ ---       ┆ ---       ┆ ---      ┆ ---   ┆ ---   ┆ ---   ┆ ---        │\n",
       "│ i64  ┆ f64       ┆ f64       ┆ f64      ┆ i64   ┆ bool  ┆ bool  ┆ str        │\n",
       "╞══════╪═══════════╪═══════════╪══════════╪═══════╪═══════╪═══════╪════════════╡\n",
       "│ 0    ┆ -0.991926 ┆ -0.119916 ┆ 0.050087 ┆ 0     ┆ false ┆ false ┆ 1e8d55d48d │\n",
       "│ 1    ┆ -0.994243 ┆ -0.118624 ┆ 0.049909 ┆ 0     ┆ false ┆ false ┆ 1e8d55d48d │\n",
       "│ 2    ┆ -0.99584  ┆ -0.118602 ┆ 0.048774 ┆ 0     ┆ false ┆ false ┆ 1e8d55d48d │\n",
       "│ 3    ┆ -0.995865 ┆ -0.121627 ┆ 0.04809  ┆ 0     ┆ false ┆ false ┆ 1e8d55d48d │\n",
       "│ 4    ┆ -0.99233  ┆ -0.122146 ┆ 0.048878 ┆ 0     ┆ false ┆ false ┆ 1e8d55d48d │\n",
       "└──────┴───────────┴───────────┴──────────┴───────┴───────┴───────┴────────────┘"
      ]
     },
     "execution_count": 7,
     "metadata": {},
     "output_type": "execute_result"
    }
   ],
   "source": [
    "notype_df.head()"
   ]
  },
  {
   "cell_type": "code",
   "execution_count": 8,
   "id": "e92617ca",
   "metadata": {
    "execution": {
     "iopub.execute_input": "2025-09-12T17:22:41.545696Z",
     "iopub.status.busy": "2025-09-12T17:22:41.545392Z",
     "iopub.status.idle": "2025-09-12T17:22:57.232687Z",
     "shell.execute_reply": "2025-09-12T17:22:57.231600Z"
    },
    "papermill": {
     "duration": 15.695446,
     "end_time": "2025-09-12T17:22:57.234496",
     "exception": false,
     "start_time": "2025-09-12T17:22:41.539050",
     "status": "completed"
    },
    "tags": []
   },
   "outputs": [],
   "source": [
    "tdcsfog_files = [f for f in os.listdir(tdcsfog) if f.endswith('.csv')]\n",
    "\n",
    "# List to store individual DataFrames\n",
    "tdcsfog_list = []\n",
    "\n",
    "for path in tdcsfog.glob(\"*.csv\"):\n",
    "    patient_id = path.stem  # removes .csv\n",
    "\n",
    "    df = pl.read_csv(path)\n",
    "    df = df.with_columns([\n",
    "        pl.lit(patient_id).alias(\"patient_id\")\n",
    "    ])\n",
    "    \n",
    "    tdcsfog_list.append(df)\n",
    "\n",
    "tdcsfog_df = pl.concat(tdcsfog_list)"
   ]
  },
  {
   "cell_type": "code",
   "execution_count": 9,
   "id": "a1442380",
   "metadata": {
    "execution": {
     "iopub.execute_input": "2025-09-12T17:22:57.247175Z",
     "iopub.status.busy": "2025-09-12T17:22:57.246880Z",
     "iopub.status.idle": "2025-09-12T17:22:57.254680Z",
     "shell.execute_reply": "2025-09-12T17:22:57.253636Z"
    },
    "papermill": {
     "duration": 0.016097,
     "end_time": "2025-09-12T17:22:57.256312",
     "exception": false,
     "start_time": "2025-09-12T17:22:57.240215",
     "status": "completed"
    },
    "tags": []
   },
   "outputs": [
    {
     "data": {
      "text/html": [
       "<div><style>\n",
       ".dataframe > thead > tr,\n",
       ".dataframe > tbody > tr {\n",
       "  text-align: right;\n",
       "  white-space: pre-wrap;\n",
       "}\n",
       "</style>\n",
       "<small>shape: (5, 8)</small><table border=\"1\" class=\"dataframe\"><thead><tr><th>Time</th><th>AccV</th><th>AccML</th><th>AccAP</th><th>StartHesitation</th><th>Turn</th><th>Walking</th><th>patient_id</th></tr><tr><td>i64</td><td>f64</td><td>f64</td><td>f64</td><td>i64</td><td>i64</td><td>i64</td><td>str</td></tr></thead><tbody><tr><td>0</td><td>-9.66589</td><td>0.04255</td><td>0.184744</td><td>0</td><td>0</td><td>0</td><td>&quot;a171e61840&quot;</td></tr><tr><td>1</td><td>-9.672969</td><td>0.049217</td><td>0.184644</td><td>0</td><td>0</td><td>0</td><td>&quot;a171e61840&quot;</td></tr><tr><td>2</td><td>-9.67026</td><td>0.03362</td><td>0.19379</td><td>0</td><td>0</td><td>0</td><td>&quot;a171e61840&quot;</td></tr><tr><td>3</td><td>-9.673356</td><td>0.035159</td><td>0.184369</td><td>0</td><td>0</td><td>0</td><td>&quot;a171e61840&quot;</td></tr><tr><td>4</td><td>-9.671458</td><td>0.043913</td><td>0.197814</td><td>0</td><td>0</td><td>0</td><td>&quot;a171e61840&quot;</td></tr></tbody></table></div>"
      ],
      "text/plain": [
       "shape: (5, 8)\n",
       "┌──────┬───────────┬──────────┬──────────┬─────────────────┬──────┬─────────┬────────────┐\n",
       "│ Time ┆ AccV      ┆ AccML    ┆ AccAP    ┆ StartHesitation ┆ Turn ┆ Walking ┆ patient_id │\n",
       "│ ---  ┆ ---       ┆ ---      ┆ ---      ┆ ---             ┆ ---  ┆ ---     ┆ ---        │\n",
       "│ i64  ┆ f64       ┆ f64      ┆ f64      ┆ i64             ┆ i64  ┆ i64     ┆ str        │\n",
       "╞══════╪═══════════╪══════════╪══════════╪═════════════════╪══════╪═════════╪════════════╡\n",
       "│ 0    ┆ -9.66589  ┆ 0.04255  ┆ 0.184744 ┆ 0               ┆ 0    ┆ 0       ┆ a171e61840 │\n",
       "│ 1    ┆ -9.672969 ┆ 0.049217 ┆ 0.184644 ┆ 0               ┆ 0    ┆ 0       ┆ a171e61840 │\n",
       "│ 2    ┆ -9.67026  ┆ 0.03362  ┆ 0.19379  ┆ 0               ┆ 0    ┆ 0       ┆ a171e61840 │\n",
       "│ 3    ┆ -9.673356 ┆ 0.035159 ┆ 0.184369 ┆ 0               ┆ 0    ┆ 0       ┆ a171e61840 │\n",
       "│ 4    ┆ -9.671458 ┆ 0.043913 ┆ 0.197814 ┆ 0               ┆ 0    ┆ 0       ┆ a171e61840 │\n",
       "└──────┴───────────┴──────────┴──────────┴─────────────────┴──────┴─────────┴────────────┘"
      ]
     },
     "execution_count": 9,
     "metadata": {},
     "output_type": "execute_result"
    }
   ],
   "source": [
    "tdcsfog_df.head()"
   ]
  },
  {
   "cell_type": "markdown",
   "id": "b7e38e74",
   "metadata": {
    "papermill": {
     "duration": 0.005139,
     "end_time": "2025-09-12T17:22:57.266924",
     "exception": false,
     "start_time": "2025-09-12T17:22:57.261785",
     "status": "completed"
    },
    "tags": []
   },
   "source": [
    "Inspect Structure\n",
    "* What are the columns/features?\n",
    "* What do they represent (accelerometer, gyroscope, frequency, time)?\n",
    "* Are there multiple subjects? Sessions? Devices?\n",
    "* What is the sampling frequency?\n",
    "* How many rows per subject/session?\n",
    "* Distribution of target labels (e.g., freezing events)"
   ]
  },
  {
   "cell_type": "code",
   "execution_count": 10,
   "id": "d84896f2",
   "metadata": {
    "execution": {
     "iopub.execute_input": "2025-09-12T17:22:57.278543Z",
     "iopub.status.busy": "2025-09-12T17:22:57.278255Z",
     "iopub.status.idle": "2025-09-12T17:22:59.065504Z",
     "shell.execute_reply": "2025-09-12T17:22:59.064305Z"
    },
    "papermill": {
     "duration": 1.794939,
     "end_time": "2025-09-12T17:22:59.067110",
     "exception": false,
     "start_time": "2025-09-12T17:22:57.272171",
     "status": "completed"
    },
    "tags": []
   },
   "outputs": [
    {
     "name": "stdout",
     "output_type": "stream",
     "text": [
      "shape: (5, 10)\n",
      "┌──────┬───────────┬──────────┬──────────┬───┬─────────┬───────┬───────┬────────────┐\n",
      "│ Time ┆ AccV      ┆ AccML    ┆ AccAP    ┆ … ┆ Walking ┆ Valid ┆ Task  ┆ patient_id │\n",
      "│ ---  ┆ ---       ┆ ---      ┆ ---      ┆   ┆ ---     ┆ ---   ┆ ---   ┆ ---        │\n",
      "│ i64  ┆ f64       ┆ f64      ┆ f64      ┆   ┆ i64     ┆ bool  ┆ bool  ┆ str        │\n",
      "╞══════╪═══════════╪══════════╪══════════╪═══╪═════════╪═══════╪═══════╪════════════╡\n",
      "│ 0    ┆ -1.002697 ┆ 0.022371 ┆ 0.068304 ┆ … ┆ 0       ┆ false ┆ false ┆ be9d33541d │\n",
      "│ 1    ┆ -1.002641 ┆ 0.019173 ┆ 0.066162 ┆ … ┆ 0       ┆ false ┆ false ┆ be9d33541d │\n",
      "│ 2    ┆ -0.99982  ┆ 0.019142 ┆ 0.067536 ┆ … ┆ 0       ┆ false ┆ false ┆ be9d33541d │\n",
      "│ 3    ┆ -0.998023 ┆ 0.018378 ┆ 0.068409 ┆ … ┆ 0       ┆ false ┆ false ┆ be9d33541d │\n",
      "│ 4    ┆ -0.998359 ┆ 0.016726 ┆ 0.066448 ┆ … ┆ 0       ┆ false ┆ false ┆ be9d33541d │\n",
      "└──────┴───────────┴──────────┴──────────┴───┴─────────┴───────┴───────┴────────────┘\n",
      "shape: (9, 11)\n",
      "┌───────────┬───────────┬───────────┬───────────┬───┬───────────┬───────────┬───────────┬──────────┐\n",
      "│ statistic ┆ Time      ┆ AccV      ┆ AccML     ┆ … ┆ Walking   ┆ Valid     ┆ Task      ┆ patient_ │\n",
      "│ ---       ┆ ---       ┆ ---       ┆ ---       ┆   ┆ ---       ┆ ---       ┆ ---       ┆ id       │\n",
      "│ str       ┆ f64       ┆ f64       ┆ f64       ┆   ┆ f64       ┆ f64       ┆ f64       ┆ ---      │\n",
      "│           ┆           ┆           ┆           ┆   ┆           ┆           ┆           ┆ str      │\n",
      "╞═══════════╪═══════════╪═══════════╪═══════════╪═══╪═══════════╪═══════════╪═══════════╪══════════╡\n",
      "│ count     ┆ 1.3525702 ┆ 1.3525702 ┆ 1.3525702 ┆ … ┆ 1.3525702 ┆ 1.3525702 ┆ 1.3525702 ┆ 13525702 │\n",
      "│           ┆ e7        ┆ e7        ┆ e7        ┆   ┆ e7        ┆ e7        ┆ e7        ┆          │\n",
      "│ null_coun ┆ 0.0       ┆ 0.0       ┆ 0.0       ┆ … ┆ 0.0       ┆ 0.0       ┆ 0.0       ┆ 0        │\n",
      "│ t         ┆           ┆           ┆           ┆   ┆           ┆           ┆           ┆          │\n",
      "│ mean      ┆ 86611.589 ┆ -0.940173 ┆ 0.001173  ┆ … ┆ 0.007284  ┆ 0.302426  ┆ 0.306526  ┆ null     │\n",
      "│           ┆ 61        ┆           ┆           ┆   ┆           ┆           ┆           ┆          │\n",
      "│ std       ┆ 64791.572 ┆ 0.086065  ┆ 0.120008  ┆ … ┆ 0.085034  ┆ null      ┆ null      ┆ null     │\n",
      "│           ┆ 173       ┆           ┆           ┆   ┆           ┆           ┆           ┆          │\n",
      "│ min       ┆ 0.0       ┆ -6.024701 ┆ -4.059201 ┆ … ┆ 0.0       ┆ 0.0       ┆ 0.0       ┆ 02ea7826 │\n",
      "│           ┆           ┆           ┆           ┆   ┆           ┆           ┆           ┆ 81       │\n",
      "│ 25%       ┆ 37256.0   ┆ -0.986571 ┆ -0.0625   ┆ … ┆ 0.0       ┆ null      ┆ null      ┆ null     │\n",
      "│ 50%       ┆ 75149.0   ┆ -0.953125 ┆ 0.002385  ┆ … ┆ 0.0       ┆ null      ┆ null      ┆ null     │\n",
      "│ 75%       ┆ 121179.0  ┆ -0.90625  ┆ 0.078125  ┆ … ┆ 0.0       ┆ null      ┆ null      ┆ null     │\n",
      "│ max       ┆ 415387.0  ┆ 4.458365  ┆ 4.524038  ┆ … ┆ 1.0       ┆ 1.0       ┆ 1.0       ┆ f9fc61ce │\n",
      "│           ┆           ┆           ┆           ┆   ┆           ┆           ┆           ┆ 85       │\n",
      "└───────────┴───────────┴───────────┴───────────┴───┴───────────┴───────────┴───────────┴──────────┘\n",
      "(13525702, 10)\n",
      "['Time', 'AccV', 'AccML', 'AccAP', 'StartHesitation', 'Turn', 'Walking', 'Valid', 'Task', 'patient_id']\n",
      "[Int64, Float64, Float64, Float64, Int64, Int64, Int64, Boolean, Boolean, String]\n"
     ]
    }
   ],
   "source": [
    "print(defog_df.head())\n",
    "# print(defog_df.info())\n",
    "print(defog_df.describe())\n",
    "print(defog_df.shape)     # (rows, columns)\n",
    "print(defog_df.columns)   # list of column names\n",
    "print(defog_df.dtypes)    # list of column types"
   ]
  },
  {
   "cell_type": "code",
   "execution_count": 11,
   "id": "c07f4f55",
   "metadata": {
    "execution": {
     "iopub.execute_input": "2025-09-12T17:22:59.079819Z",
     "iopub.status.busy": "2025-09-12T17:22:59.079519Z",
     "iopub.status.idle": "2025-09-12T17:23:00.312252Z",
     "shell.execute_reply": "2025-09-12T17:23:00.311157Z"
    },
    "papermill": {
     "duration": 1.240891,
     "end_time": "2025-09-12T17:23:00.313944",
     "exception": false,
     "start_time": "2025-09-12T17:22:59.073053",
     "status": "completed"
    },
    "tags": []
   },
   "outputs": [
    {
     "name": "stdout",
     "output_type": "stream",
     "text": [
      "shape: (5, 8)\n",
      "┌──────┬───────────┬───────────┬──────────┬───────┬───────┬───────┬────────────┐\n",
      "│ Time ┆ AccV      ┆ AccML     ┆ AccAP    ┆ Event ┆ Valid ┆ Task  ┆ patient_id │\n",
      "│ ---  ┆ ---       ┆ ---       ┆ ---      ┆ ---   ┆ ---   ┆ ---   ┆ ---        │\n",
      "│ i64  ┆ f64       ┆ f64       ┆ f64      ┆ i64   ┆ bool  ┆ bool  ┆ str        │\n",
      "╞══════╪═══════════╪═══════════╪══════════╪═══════╪═══════╪═══════╪════════════╡\n",
      "│ 0    ┆ -0.991926 ┆ -0.119916 ┆ 0.050087 ┆ 0     ┆ false ┆ false ┆ 1e8d55d48d │\n",
      "│ 1    ┆ -0.994243 ┆ -0.118624 ┆ 0.049909 ┆ 0     ┆ false ┆ false ┆ 1e8d55d48d │\n",
      "│ 2    ┆ -0.99584  ┆ -0.118602 ┆ 0.048774 ┆ 0     ┆ false ┆ false ┆ 1e8d55d48d │\n",
      "│ 3    ┆ -0.995865 ┆ -0.121627 ┆ 0.04809  ┆ 0     ┆ false ┆ false ┆ 1e8d55d48d │\n",
      "│ 4    ┆ -0.99233  ┆ -0.122146 ┆ 0.048878 ┆ 0     ┆ false ┆ false ┆ 1e8d55d48d │\n",
      "└──────┴───────────┴───────────┴──────────┴───────┴───────┴───────┴────────────┘\n",
      "(10251114, 8)\n",
      "['Time', 'AccV', 'AccML', 'AccAP', 'Event', 'Valid', 'Task', 'patient_id']\n",
      "[Int64, Float64, Float64, Float64, Int64, Boolean, Boolean, String]\n",
      "shape: (9, 9)\n",
      "┌───────────┬───────────┬───────────┬───────────┬───┬───────────┬───────────┬───────────┬──────────┐\n",
      "│ statistic ┆ Time      ┆ AccV      ┆ AccML     ┆ … ┆ Event     ┆ Valid     ┆ Task      ┆ patient_ │\n",
      "│ ---       ┆ ---       ┆ ---       ┆ ---       ┆   ┆ ---       ┆ ---       ┆ ---       ┆ id       │\n",
      "│ str       ┆ f64       ┆ f64       ┆ f64       ┆   ┆ f64       ┆ f64       ┆ f64       ┆ ---      │\n",
      "│           ┆           ┆           ┆           ┆   ┆           ┆           ┆           ┆ str      │\n",
      "╞═══════════╪═══════════╪═══════════╪═══════════╪═══╪═══════════╪═══════════╪═══════════╪══════════╡\n",
      "│ count     ┆ 1.0251114 ┆ 1.0251114 ┆ 1.0251114 ┆ … ┆ 1.0251114 ┆ 1.0251114 ┆ 1.0251114 ┆ 10251114 │\n",
      "│           ┆ e7        ┆ e7        ┆ e7        ┆   ┆ e7        ┆ e7        ┆ e7        ┆          │\n",
      "│ null_coun ┆ 0.0       ┆ 0.0       ┆ 0.0       ┆ … ┆ 0.0       ┆ 0.0       ┆ 0.0       ┆ 0        │\n",
      "│ t         ┆           ┆           ┆           ┆   ┆           ┆           ┆           ┆          │\n",
      "│ mean      ┆ 123128.63 ┆ -0.932382 ┆ -0.07878  ┆ … ┆ 0.048702  ┆ 0.331116  ┆ 0.334288  ┆ null     │\n",
      "│           ┆ 4988      ┆           ┆           ┆   ┆           ┆           ┆           ┆          │\n",
      "│ std       ┆ 84077.542 ┆ 0.086195  ┆ 0.126094  ┆ … ┆ 0.215243  ┆ null      ┆ null      ┆ null     │\n",
      "│           ┆ 879       ┆           ┆           ┆   ┆           ┆           ┆           ┆          │\n",
      "│ min       ┆ 0.0       ┆ -5.738525 ┆ -3.625081 ┆ … ┆ 0.0       ┆ 0.0       ┆ 0.0       ┆ 02ab2351 │\n",
      "│           ┆           ┆           ┆           ┆   ┆           ┆           ┆           ┆ 46       │\n",
      "│ 25%       ┆ 55712.0   ┆ -0.979533 ┆ -0.15462  ┆ … ┆ 0.0       ┆ null      ┆ null      ┆ null     │\n",
      "│ 50%       ┆ 111533.0  ┆ -0.945709 ┆ -0.07047  ┆ … ┆ 0.0       ┆ null      ┆ null      ┆ null     │\n",
      "│ 75%       ┆ 175592.0  ┆ -0.890877 ┆ -0.006932 ┆ … ┆ 0.0       ┆ null      ┆ null      ┆ null     │\n",
      "│ max       ┆ 443495.0  ┆ 1.223533  ┆ 4.328019  ┆ … ┆ 1.0       ┆ 1.0       ┆ 1.0       ┆ e8e530a4 │\n",
      "│           ┆           ┆           ┆           ┆   ┆           ┆           ┆           ┆ f9       │\n",
      "└───────────┴───────────┴───────────┴───────────┴───┴───────────┴───────────┴───────────┴──────────┘\n"
     ]
    }
   ],
   "source": [
    "print(notype_df.head())\n",
    "# print(notype_df.info())\n",
    "print(notype_df.shape)     # (rows, columns)\n",
    "print(notype_df.columns)   # list of column names\n",
    "print(notype_df.dtypes) \n",
    "print(notype_df.describe())"
   ]
  },
  {
   "cell_type": "code",
   "execution_count": 12,
   "id": "0c32abd7",
   "metadata": {
    "execution": {
     "iopub.execute_input": "2025-09-12T17:23:00.328189Z",
     "iopub.status.busy": "2025-09-12T17:23:00.327791Z",
     "iopub.status.idle": "2025-09-12T17:23:01.273129Z",
     "shell.execute_reply": "2025-09-12T17:23:01.271978Z"
    },
    "papermill": {
     "duration": 0.954448,
     "end_time": "2025-09-12T17:23:01.274729",
     "exception": false,
     "start_time": "2025-09-12T17:23:00.320281",
     "status": "completed"
    },
    "tags": []
   },
   "outputs": [
    {
     "name": "stdout",
     "output_type": "stream",
     "text": [
      "shape: (5, 8)\n",
      "┌──────┬───────────┬──────────┬──────────┬─────────────────┬──────┬─────────┬────────────┐\n",
      "│ Time ┆ AccV      ┆ AccML    ┆ AccAP    ┆ StartHesitation ┆ Turn ┆ Walking ┆ patient_id │\n",
      "│ ---  ┆ ---       ┆ ---      ┆ ---      ┆ ---             ┆ ---  ┆ ---     ┆ ---        │\n",
      "│ i64  ┆ f64       ┆ f64      ┆ f64      ┆ i64             ┆ i64  ┆ i64     ┆ str        │\n",
      "╞══════╪═══════════╪══════════╪══════════╪═════════════════╪══════╪═════════╪════════════╡\n",
      "│ 0    ┆ -9.66589  ┆ 0.04255  ┆ 0.184744 ┆ 0               ┆ 0    ┆ 0       ┆ a171e61840 │\n",
      "│ 1    ┆ -9.672969 ┆ 0.049217 ┆ 0.184644 ┆ 0               ┆ 0    ┆ 0       ┆ a171e61840 │\n",
      "│ 2    ┆ -9.67026  ┆ 0.03362  ┆ 0.19379  ┆ 0               ┆ 0    ┆ 0       ┆ a171e61840 │\n",
      "│ 3    ┆ -9.673356 ┆ 0.035159 ┆ 0.184369 ┆ 0               ┆ 0    ┆ 0       ┆ a171e61840 │\n",
      "│ 4    ┆ -9.671458 ┆ 0.043913 ┆ 0.197814 ┆ 0               ┆ 0    ┆ 0       ┆ a171e61840 │\n",
      "└──────┴───────────┴──────────┴──────────┴─────────────────┴──────┴─────────┴────────────┘\n",
      "(7062672, 8)\n",
      "['Time', 'AccV', 'AccML', 'AccAP', 'StartHesitation', 'Turn', 'Walking', 'patient_id']\n",
      "[Int64, Float64, Float64, Float64, Int64, Int64, Int64, String]\n",
      "shape: (9, 9)\n",
      "┌───────────┬───────────┬───────────┬───────────┬───┬───────────┬───────────┬───────────┬──────────┐\n",
      "│ statistic ┆ Time      ┆ AccV      ┆ AccML     ┆ … ┆ StartHesi ┆ Turn      ┆ Walking   ┆ patient_ │\n",
      "│ ---       ┆ ---       ┆ ---       ┆ ---       ┆   ┆ tation    ┆ ---       ┆ ---       ┆ id       │\n",
      "│ str       ┆ f64       ┆ f64       ┆ f64       ┆   ┆ ---       ┆ f64       ┆ f64       ┆ ---      │\n",
      "│           ┆           ┆           ┆           ┆   ┆ f64       ┆           ┆           ┆ str      │\n",
      "╞═══════════╪═══════════╪═══════════╪═══════════╪═══╪═══════════╪═══════════╪═══════════╪══════════╡\n",
      "│ count     ┆ 7.062672e ┆ 7.062672e ┆ 7.062672e ┆ … ┆ 7.062672e ┆ 7.062672e ┆ 7.062672e ┆ 7062672  │\n",
      "│           ┆ 6         ┆ 6         ┆ 6         ┆   ┆ 6         ┆ 6         ┆ 6         ┆          │\n",
      "│ null_coun ┆ 0.0       ┆ 0.0       ┆ 0.0       ┆ … ┆ 0.0       ┆ 0.0       ┆ 0.0       ┆ 0        │\n",
      "│ t         ┆           ┆           ┆           ┆   ┆           ┆           ┆           ┆          │\n",
      "│ mean      ┆ 9289.4672 ┆ -9.306317 ┆ -0.201251 ┆ … ┆ 0.043155  ┆ 0.237698  ┆ 0.029428  ┆ null     │\n",
      "│           ┆ 97        ┆           ┆           ┆   ┆           ┆           ┆           ┆          │\n",
      "│ std       ┆ 13998.925 ┆ 1.080174  ┆ 1.269525  ┆ … ┆ 0.203206  ┆ 0.425673  ┆ 0.169002  ┆ null     │\n",
      "│           ┆ 696       ┆           ┆           ┆   ┆           ┆           ┆           ┆          │\n",
      "│ min       ┆ 0.0       ┆ -35.52111 ┆ -26.16439 ┆ … ┆ 0.0       ┆ 0.0       ┆ 0.0       ┆ 003f117e │\n",
      "│           ┆           ┆ 9         ┆ 8         ┆   ┆           ┆           ┆           ┆ 14       │\n",
      "│ 25%       ┆ 2119.0    ┆ -9.762402 ┆ -0.929545 ┆ … ┆ 0.0       ┆ 0.0       ┆ 0.0       ┆ null     │\n",
      "│ 50%       ┆ 4310.0    ┆ -9.363524 ┆ -0.172224 ┆ … ┆ 0.0       ┆ 0.0       ┆ 0.0       ┆ null     │\n",
      "│ 75%       ┆ 8433.0    ┆ -8.776815 ┆ 0.575211  ┆ … ┆ 0.0       ┆ 0.0       ┆ 0.0       ┆ null     │\n",
      "│ max       ┆ 97076.0   ┆ 20.906953 ┆ 27.484719 ┆ … ┆ 1.0       ┆ 1.0       ┆ 1.0       ┆ ffda8fad │\n",
      "│           ┆           ┆           ┆           ┆   ┆           ┆           ┆           ┆ fd       │\n",
      "└───────────┴───────────┴───────────┴───────────┴───┴───────────┴───────────┴───────────┴──────────┘\n"
     ]
    }
   ],
   "source": [
    "print(tdcsfog_df.head())\n",
    "# print(tdcsfog_df.info())\n",
    "print(tdcsfog_df.shape)     # (rows, columns)\n",
    "print(tdcsfog_df.columns)   # list of column names\n",
    "print(tdcsfog_df.dtypes) \n",
    "print(tdcsfog_df.describe())"
   ]
  },
  {
   "cell_type": "code",
   "execution_count": null,
   "id": "7398a74f",
   "metadata": {
    "execution": {
     "iopub.execute_input": "2025-09-11T17:35:30.089567Z",
     "iopub.status.busy": "2025-09-11T17:35:30.089151Z",
     "iopub.status.idle": "2025-09-11T17:35:30.119810Z",
     "shell.execute_reply": "2025-09-11T17:35:30.118542Z",
     "shell.execute_reply.started": "2025-09-11T17:35:30.089540Z"
    },
    "papermill": {
     "duration": 0.005533,
     "end_time": "2025-09-12T17:23:01.286293",
     "exception": false,
     "start_time": "2025-09-12T17:23:01.280760",
     "status": "completed"
    },
    "tags": []
   },
   "outputs": [],
   "source": []
  },
  {
   "cell_type": "markdown",
   "id": "c56eb405",
   "metadata": {
    "papermill": {
     "duration": 0.005601,
     "end_time": "2025-09-12T17:23:01.298755",
     "exception": false,
     "start_time": "2025-09-12T17:23:01.293154",
     "status": "completed"
    },
    "tags": []
   },
   "source": [
    "Columns/features: Time, Vertical acceleration, Mediolateral acceleration, Anterposterior accerleration, StartHesitation, Turn, Walking, Valid Task"
   ]
  },
  {
   "cell_type": "markdown",
   "id": "6f0a3dae",
   "metadata": {
    "papermill": {
     "duration": 0.005681,
     "end_time": "2025-09-12T17:23:01.310197",
     "exception": false,
     "start_time": "2025-09-12T17:23:01.304516",
     "status": "completed"
    },
    "tags": []
   },
   "source": [
    "Visualize sample data\n",
    "\n",
    "Recommended libraries: \n",
    "* matplotlib, seaborn\n",
    "* plotly\n",
    "* tsfel or tsfresh (time series visualization)\n",
    "\n",
    "Useful visualizations:\n",
    "* Distribution plots (sns.histplot)\n",
    "* Box plots for outliers\n",
    "* Heatmaps for correlation\n",
    "* Missing value heatmaps (sns.heatmap(df.isnull()))"
   ]
  },
  {
   "cell_type": "code",
   "execution_count": 13,
   "id": "d5bcfa24",
   "metadata": {
    "execution": {
     "iopub.execute_input": "2025-09-12T17:23:01.323617Z",
     "iopub.status.busy": "2025-09-12T17:23:01.322771Z",
     "iopub.status.idle": "2025-09-12T17:23:01.327923Z",
     "shell.execute_reply": "2025-09-12T17:23:01.326987Z"
    },
    "papermill": {
     "duration": 0.013625,
     "end_time": "2025-09-12T17:23:01.329606",
     "exception": false,
     "start_time": "2025-09-12T17:23:01.315981",
     "status": "completed"
    },
    "tags": []
   },
   "outputs": [],
   "source": [
    "# plt.plot(df_defog['Time'], df_defog['AccV'])\n",
    "# plt.title(\"AccV over Time\")\n",
    "# plt.xlabel(\"Time\")\n",
    "# plt.ylabel(\"AccV\")"
   ]
  },
  {
   "cell_type": "code",
   "execution_count": 14,
   "id": "ba6d984e",
   "metadata": {
    "execution": {
     "iopub.execute_input": "2025-09-12T17:23:01.342812Z",
     "iopub.status.busy": "2025-09-12T17:23:01.342503Z",
     "iopub.status.idle": "2025-09-12T17:23:01.347967Z",
     "shell.execute_reply": "2025-09-12T17:23:01.346965Z"
    },
    "papermill": {
     "duration": 0.013855,
     "end_time": "2025-09-12T17:23:01.349567",
     "exception": false,
     "start_time": "2025-09-12T17:23:01.335712",
     "status": "completed"
    },
    "tags": []
   },
   "outputs": [],
   "source": [
    "# plt.plot(df_notype['Time'], df_notype['AccV'])\n",
    "# plt.title(\"AccV over Time\")\n",
    "# plt.xlabel(\"Time\")\n",
    "# plt.ylabel(\"AccV\")"
   ]
  },
  {
   "cell_type": "code",
   "execution_count": 15,
   "id": "31891e49",
   "metadata": {
    "execution": {
     "iopub.execute_input": "2025-09-12T17:23:01.362892Z",
     "iopub.status.busy": "2025-09-12T17:23:01.362511Z",
     "iopub.status.idle": "2025-09-12T17:23:01.367084Z",
     "shell.execute_reply": "2025-09-12T17:23:01.365946Z"
    },
    "papermill": {
     "duration": 0.012995,
     "end_time": "2025-09-12T17:23:01.368642",
     "exception": false,
     "start_time": "2025-09-12T17:23:01.355647",
     "status": "completed"
    },
    "tags": []
   },
   "outputs": [],
   "source": [
    "# plt.plot(df_tdcsfog['Time'], df_tdcsfog['AccV'])\n",
    "# plt.title(\"AccV over Time\")\n",
    "# plt.xlabel(\"Time\")\n",
    "# plt.ylabel(\"AccV\")"
   ]
  },
  {
   "cell_type": "code",
   "execution_count": 16,
   "id": "0562c975",
   "metadata": {
    "execution": {
     "iopub.execute_input": "2025-09-12T17:23:01.382284Z",
     "iopub.status.busy": "2025-09-12T17:23:01.381982Z",
     "iopub.status.idle": "2025-09-12T17:23:01.387225Z",
     "shell.execute_reply": "2025-09-12T17:23:01.386000Z"
    },
    "papermill": {
     "duration": 0.014043,
     "end_time": "2025-09-12T17:23:01.388993",
     "exception": false,
     "start_time": "2025-09-12T17:23:01.374950",
     "status": "completed"
    },
    "tags": []
   },
   "outputs": [],
   "source": [
    "# plt.figure(figsize=(10, 6))\n",
    "# sns.heatmap(df_defog.corr(), annot=True, cmap='coolwarm')\n",
    "# plt.title('Correlation Between Features and Task Labels')\n",
    "# plt.show()"
   ]
  },
  {
   "cell_type": "code",
   "execution_count": null,
   "id": "2e96510a",
   "metadata": {
    "papermill": {
     "duration": 0.005719,
     "end_time": "2025-09-12T17:23:01.401039",
     "exception": false,
     "start_time": "2025-09-12T17:23:01.395320",
     "status": "completed"
    },
    "tags": []
   },
   "outputs": [],
   "source": []
  },
  {
   "cell_type": "markdown",
   "id": "62255ac3",
   "metadata": {
    "papermill": {
     "duration": 0.005834,
     "end_time": "2025-09-12T17:23:01.412696",
     "exception": false,
     "start_time": "2025-09-12T17:23:01.406862",
     "status": "completed"
    },
    "tags": []
   },
   "source": [
    "# Data Cleaning"
   ]
  },
  {
   "cell_type": "markdown",
   "id": "d7c54902",
   "metadata": {
    "papermill": {
     "duration": 0.005808,
     "end_time": "2025-09-12T17:23:01.425072",
     "exception": false,
     "start_time": "2025-09-12T17:23:01.419264",
     "status": "completed"
    },
    "tags": []
   },
   "source": [
    "Handle Missing Values\n",
    "* Check missingness\n",
    "* decide: drop columns or rows of too many missing values or impute (forward fill, backward fill, or interpolate)\n",
    "\n",
    "Detect and correct erroneous values\n",
    "* Spikes or dropouts in sensor readings\n",
    "* Duplicated timestamps\n",
    "* Values outside physical limits (e.g., g-force beyond ±16g if using IMUs)\n",
    "\n",
    "Check for:\n",
    "* Outliers: Z-score, IQR method\n",
    "* Signal gaps\n",
    "* Negative time values or duplicates\n",
    "\n",
    "Normalize or standardize data using StandardScaler or MinMaxScaler"
   ]
  },
  {
   "cell_type": "code",
   "execution_count": 17,
   "id": "75e66b53",
   "metadata": {
    "execution": {
     "iopub.execute_input": "2025-09-12T17:23:01.438731Z",
     "iopub.status.busy": "2025-09-12T17:23:01.438448Z",
     "iopub.status.idle": "2025-09-12T17:23:01.445074Z",
     "shell.execute_reply": "2025-09-12T17:23:01.443964Z"
    },
    "papermill": {
     "duration": 0.015226,
     "end_time": "2025-09-12T17:23:01.446636",
     "exception": false,
     "start_time": "2025-09-12T17:23:01.431410",
     "status": "completed"
    },
    "tags": []
   },
   "outputs": [
    {
     "name": "stdout",
     "output_type": "stream",
     "text": [
      "shape: (1, 10)\n",
      "┌──────┬──────┬───────┬───────┬───┬─────────┬───────┬──────┬────────────┐\n",
      "│ Time ┆ AccV ┆ AccML ┆ AccAP ┆ … ┆ Walking ┆ Valid ┆ Task ┆ patient_id │\n",
      "│ ---  ┆ ---  ┆ ---   ┆ ---   ┆   ┆ ---     ┆ ---   ┆ ---  ┆ ---        │\n",
      "│ u32  ┆ u32  ┆ u32   ┆ u32   ┆   ┆ u32     ┆ u32   ┆ u32  ┆ u32        │\n",
      "╞══════╪══════╪═══════╪═══════╪═══╪═════════╪═══════╪══════╪════════════╡\n",
      "│ 0    ┆ 0    ┆ 0     ┆ 0     ┆ … ┆ 0       ┆ 0     ┆ 0    ┆ 0          │\n",
      "└──────┴──────┴───────┴───────┴───┴─────────┴───────┴──────┴────────────┘\n"
     ]
    }
   ],
   "source": [
    "print(defog_df.null_count())\n",
    "# missing_rows = defog_df[defog_df.isnull().any(axis=1)]\n",
    "# print(missing_rows)\n"
   ]
  },
  {
   "cell_type": "code",
   "execution_count": 18,
   "id": "a77319f1",
   "metadata": {
    "execution": {
     "iopub.execute_input": "2025-09-12T17:23:01.462327Z",
     "iopub.status.busy": "2025-09-12T17:23:01.461816Z",
     "iopub.status.idle": "2025-09-12T17:23:01.468863Z",
     "shell.execute_reply": "2025-09-12T17:23:01.468017Z"
    },
    "papermill": {
     "duration": 0.017043,
     "end_time": "2025-09-12T17:23:01.470492",
     "exception": false,
     "start_time": "2025-09-12T17:23:01.453449",
     "status": "completed"
    },
    "tags": []
   },
   "outputs": [
    {
     "name": "stdout",
     "output_type": "stream",
     "text": [
      "shape: (1, 8)\n",
      "┌──────┬──────┬───────┬───────┬───────┬───────┬──────┬────────────┐\n",
      "│ Time ┆ AccV ┆ AccML ┆ AccAP ┆ Event ┆ Valid ┆ Task ┆ patient_id │\n",
      "│ ---  ┆ ---  ┆ ---   ┆ ---   ┆ ---   ┆ ---   ┆ ---  ┆ ---        │\n",
      "│ u32  ┆ u32  ┆ u32   ┆ u32   ┆ u32   ┆ u32   ┆ u32  ┆ u32        │\n",
      "╞══════╪══════╪═══════╪═══════╪═══════╪═══════╪══════╪════════════╡\n",
      "│ 0    ┆ 0    ┆ 0     ┆ 0     ┆ 0     ┆ 0     ┆ 0    ┆ 0          │\n",
      "└──────┴──────┴───────┴───────┴───────┴───────┴──────┴────────────┘\n"
     ]
    }
   ],
   "source": [
    "print(notype_df.null_count())\n",
    "# print(notype_df.isnull().sum())\n",
    "# missing_rows = notype_df[notype_df.isnull().any(axis=1)]\n",
    "# print(missing_rows)"
   ]
  },
  {
   "cell_type": "code",
   "execution_count": 19,
   "id": "42baf271",
   "metadata": {
    "execution": {
     "iopub.execute_input": "2025-09-12T17:23:01.485047Z",
     "iopub.status.busy": "2025-09-12T17:23:01.484616Z",
     "iopub.status.idle": "2025-09-12T17:23:01.490987Z",
     "shell.execute_reply": "2025-09-12T17:23:01.490027Z"
    },
    "papermill": {
     "duration": 0.01544,
     "end_time": "2025-09-12T17:23:01.492519",
     "exception": false,
     "start_time": "2025-09-12T17:23:01.477079",
     "status": "completed"
    },
    "tags": []
   },
   "outputs": [
    {
     "name": "stdout",
     "output_type": "stream",
     "text": [
      "shape: (1, 8)\n",
      "┌──────┬──────┬───────┬───────┬─────────────────┬──────┬─────────┬────────────┐\n",
      "│ Time ┆ AccV ┆ AccML ┆ AccAP ┆ StartHesitation ┆ Turn ┆ Walking ┆ patient_id │\n",
      "│ ---  ┆ ---  ┆ ---   ┆ ---   ┆ ---             ┆ ---  ┆ ---     ┆ ---        │\n",
      "│ u32  ┆ u32  ┆ u32   ┆ u32   ┆ u32             ┆ u32  ┆ u32     ┆ u32        │\n",
      "╞══════╪══════╪═══════╪═══════╪═════════════════╪══════╪═════════╪════════════╡\n",
      "│ 0    ┆ 0    ┆ 0     ┆ 0     ┆ 0               ┆ 0    ┆ 0       ┆ 0          │\n",
      "└──────┴──────┴───────┴───────┴─────────────────┴──────┴─────────┴────────────┘\n"
     ]
    }
   ],
   "source": [
    "print(tdcsfog_df.null_count())\n",
    "# print(tdcsfog_df.isnull().sum())\n",
    "# missing_rows = tdcsfog_df[tdcsfog_df.isnull().any(axis=1)]\n",
    "# print(missing_rows)"
   ]
  },
  {
   "cell_type": "code",
   "execution_count": 20,
   "id": "6ddf90e6",
   "metadata": {
    "execution": {
     "iopub.execute_input": "2025-09-12T17:23:01.506593Z",
     "iopub.status.busy": "2025-09-12T17:23:01.506298Z",
     "iopub.status.idle": "2025-09-12T17:23:02.380491Z",
     "shell.execute_reply": "2025-09-12T17:23:02.378938Z"
    },
    "papermill": {
     "duration": 0.883517,
     "end_time": "2025-09-12T17:23:02.382761",
     "exception": false,
     "start_time": "2025-09-12T17:23:01.499244",
     "status": "completed"
    },
    "tags": []
   },
   "outputs": [
    {
     "name": "stdout",
     "output_type": "stream",
     "text": [
      "shape: (7_062_672, 11)\n",
      "┌──────┬───────────┬───────────┬───────────┬───┬────────────┬───────────┬───────────┬───────────┐\n",
      "│ Time ┆ AccV      ┆ AccML     ┆ AccAP     ┆ … ┆ patient_id ┆ AccV_g    ┆ AccML_g   ┆ AccAP_g   │\n",
      "│ ---  ┆ ---       ┆ ---       ┆ ---       ┆   ┆ ---        ┆ ---       ┆ ---       ┆ ---       │\n",
      "│ i64  ┆ f64       ┆ f64       ┆ f64       ┆   ┆ str        ┆ f64       ┆ f64       ┆ f64       │\n",
      "╞══════╪═══════════╪═══════════╪═══════════╪═══╪════════════╪═══════════╪═══════════╪═══════════╡\n",
      "│ 0    ┆ -9.66589  ┆ 0.04255   ┆ 0.184744  ┆ … ┆ a171e61840 ┆ -0.985646 ┆ 0.004339  ┆ 0.018839  │\n",
      "│ 1    ┆ -9.672969 ┆ 0.049217  ┆ 0.184644  ┆ … ┆ a171e61840 ┆ -0.986368 ┆ 0.005019  ┆ 0.018828  │\n",
      "│ 2    ┆ -9.67026  ┆ 0.03362   ┆ 0.19379   ┆ … ┆ a171e61840 ┆ -0.986092 ┆ 0.003428  ┆ 0.019761  │\n",
      "│ 3    ┆ -9.673356 ┆ 0.035159  ┆ 0.184369  ┆ … ┆ a171e61840 ┆ -0.986408 ┆ 0.003585  ┆ 0.0188    │\n",
      "│ 4    ┆ -9.671458 ┆ 0.043913  ┆ 0.197814  ┆ … ┆ a171e61840 ┆ -0.986214 ┆ 0.004478  ┆ 0.020171  │\n",
      "│ …    ┆ …         ┆ …         ┆ …         ┆ … ┆ …          ┆ …         ┆ …         ┆ …         │\n",
      "│ 5153 ┆ -9.91592  ┆ -0.105897 ┆ -1.123455 ┆ … ┆ 0506d9a39f ┆ -1.011142 ┆ -0.010798 ┆ -0.114561 │\n",
      "│ 5154 ┆ -9.693752 ┆ -0.066892 ┆ -1.114903 ┆ … ┆ 0506d9a39f ┆ -0.988488 ┆ -0.006821 ┆ -0.113689 │\n",
      "│ 5155 ┆ -9.548118 ┆ -0.098315 ┆ -1.112123 ┆ … ┆ 0506d9a39f ┆ -0.973637 ┆ -0.010025 ┆ -0.113405 │\n",
      "│ 5156 ┆ -9.469803 ┆ -0.111004 ┆ -1.130814 ┆ … ┆ 0506d9a39f ┆ -0.965651 ┆ -0.011319 ┆ -0.115311 │\n",
      "│ 5157 ┆ -9.566318 ┆ -0.113865 ┆ -1.103353 ┆ … ┆ 0506d9a39f ┆ -0.975493 ┆ -0.011611 ┆ -0.112511 │\n",
      "└──────┴───────────┴───────────┴───────────┴───┴────────────┴───────────┴───────────┴───────────┘\n"
     ]
    }
   ],
   "source": [
    "G_CONVERSION = 9.80665\n",
    "\n",
    "# Convert Acceleration columns to 'g' units\n",
    "df_converted = tdcsfog_df.with_columns([\n",
    "    (pl.col(\"AccV\") / G_CONVERSION).alias(\"AccV_g\"),\n",
    "    (pl.col(\"AccML\") / G_CONVERSION).alias(\"AccML_g\"),\n",
    "    (pl.col(\"AccAP\") / G_CONVERSION).alias(\"AccAP_g\")\n",
    "])\n",
    "\n",
    "print(df_converted)\n"
   ]
  },
  {
   "cell_type": "code",
   "execution_count": null,
   "id": "22f988e7",
   "metadata": {
    "papermill": {
     "duration": 0.006777,
     "end_time": "2025-09-12T17:23:02.397168",
     "exception": false,
     "start_time": "2025-09-12T17:23:02.390391",
     "status": "completed"
    },
    "tags": []
   },
   "outputs": [],
   "source": []
  }
 ],
 "metadata": {
  "kaggle": {
   "accelerator": "none",
   "dataSources": [
    {
     "databundleVersionId": 5677426,
     "sourceId": 41880,
     "sourceType": "competition"
    }
   ],
   "dockerImageVersionId": 31089,
   "isGpuEnabled": false,
   "isInternetEnabled": true,
   "language": "python",
   "sourceType": "notebook"
  },
  "kernelspec": {
   "display_name": "Python 3",
   "language": "python",
   "name": "python3"
  },
  "language_info": {
   "codemirror_mode": {
    "name": "ipython",
    "version": 3
   },
   "file_extension": ".py",
   "mimetype": "text/x-python",
   "name": "python",
   "nbconvert_exporter": "python",
   "pygments_lexer": "ipython3",
   "version": "3.11.13"
  },
  "papermill": {
   "default_parameters": {},
   "duration": 65.388592,
   "end_time": "2025-09-12T17:23:04.442230",
   "environment_variables": {},
   "exception": null,
   "input_path": "__notebook__.ipynb",
   "output_path": "__notebook__.ipynb",
   "parameters": {},
   "start_time": "2025-09-12T17:21:59.053638",
   "version": "2.6.0"
  }
 },
 "nbformat": 4,
 "nbformat_minor": 5
}
