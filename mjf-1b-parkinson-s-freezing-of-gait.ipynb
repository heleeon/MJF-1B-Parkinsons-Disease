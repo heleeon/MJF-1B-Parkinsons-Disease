{
 "cells": [
  {
   "cell_type": "markdown",
   "id": "8b03d139",
   "metadata": {
    "papermill": {
     "duration": 0.003473,
     "end_time": "2025-09-06T17:51:55.594356",
     "exception": false,
     "start_time": "2025-09-06T17:51:55.590883",
     "status": "completed"
    },
    "tags": []
   },
   "source": [
    "# MJF-1B: Parkinson's Freezing of Gait \n",
    "Link to kaggle competition dataset and info: \n",
    "- https://www.kaggle.com/competitions/tlvmc-parkinsons-freezing-gait-prediction/data\n",
    "## Objective:\n",
    "- To detect the start and stop of each freezing episode and the occurrence in these series of three types of freezing of gait events:\n",
    "  - Start Hesitation\n",
    "  - Turn\n",
    "  - Walking\n",
    "\n",
    "## File and Field Description\n",
    "- train/ Folder containing the data series in the training set within three subfolders: tdcsfog/, defog/, and notype/.\n",
    "- Series in the notype folder are from the defog dataset but lack event-type annotations.\n",
    "- The fields present in these series vary by folder.\n",
    "  - Time An integer timestep. Series from the tdcsfog dataset are recorded at 128Hz (128 timesteps per second), while series from the defog and daily series are recorded at 100Hz (100 timesteps per second).\n",
    "  - AccV, AccML, and AccAP Acceleration from a lower-back sensor on three axes: V - vertical, ML - mediolateral, AP - anteroposterior. Data is in units of m/s^2 for tdcsfog/ and g for defog/ and notype/.\n",
    "  - StartHesitation, Turn, Walking Indicator variables for the occurrence of each of the event types.\n",
    "  - Event Indicator variable for the occurrence of any FOG-type event. Present only in the notype series, which lack type-level annotations.\n",
    "  - Valid There were cases during the video annotation that were hard for the annotator to decide if there was an Akinetic (i.e., essentially no movement) FoG or the subject stopped voluntarily. Only event annotations where the series is marked true should be considered as unambiguous.\n",
    "  - Task Series were only annotated where this value is true. Portions marked false should be considered unannotated.\n",
    "    \n",
    "- Note that the Valid and Task fields are only present in the defog dataset. They are not relevant for the tdcsfog data."
   ]
  },
  {
   "cell_type": "code",
   "execution_count": 1,
   "id": "c0436b83",
   "metadata": {
    "_cell_guid": "b1076dfc-b9ad-4769-8c92-a6c4dae69d19",
    "_uuid": "8f2839f25d086af736a60e9eeb907d3b93b6e0e5",
    "execution": {
     "iopub.execute_input": "2025-09-06T17:51:55.604564Z",
     "iopub.status.busy": "2025-09-06T17:51:55.604015Z",
     "iopub.status.idle": "2025-09-06T17:51:59.214458Z",
     "shell.execute_reply": "2025-09-06T17:51:59.213551Z"
    },
    "papermill": {
     "duration": 3.617439,
     "end_time": "2025-09-06T17:51:59.216294",
     "exception": false,
     "start_time": "2025-09-06T17:51:55.598855",
     "status": "completed"
    },
    "tags": []
   },
   "outputs": [],
   "source": [
    "# Import necessary Python libraries\n",
    "import os\n",
    "import pandas as pd\n",
    "import numpy as np\n",
    "import matplotlib.pylab as plt\n",
    "import seaborn as sns"
   ]
  },
  {
   "cell_type": "code",
   "execution_count": 2,
   "id": "c9cb075c",
   "metadata": {
    "execution": {
     "iopub.execute_input": "2025-09-06T17:51:59.222962Z",
     "iopub.status.busy": "2025-09-06T17:51:59.222560Z",
     "iopub.status.idle": "2025-09-06T17:51:59.252794Z",
     "shell.execute_reply": "2025-09-06T17:51:59.251580Z"
    },
    "papermill": {
     "duration": 0.03535,
     "end_time": "2025-09-06T17:51:59.254433",
     "exception": false,
     "start_time": "2025-09-06T17:51:59.219083",
     "status": "completed"
    },
    "tags": []
   },
   "outputs": [
    {
     "name": "stdout",
     "output_type": "stream",
     "text": [
      "All competition datasets:\n",
      "['sample_submission.csv', 'unlabeled', 'subjects.csv', 'tasks.csv', 'defog_metadata.csv', 'daily_metadata.csv', 'test', 'events.csv', 'tdcsfog_metadata.csv', 'train']\n",
      "\n",
      "Folders in train:\n",
      "['defog', 'tdcsfog', 'notype']\n",
      "\n",
      "Files in defog:\n",
      "['be9d33541d.csv', '4c3aa8ea6e.csv', '18e7abc37e.csv', '6a20935af5.csv', 'e642d9ea5f.csv', '3f3b08f78d.csv', '68e7e02a47.csv', 'f17eacf7d8.csv', '3f970065e5.csv', '7030643376.csv']... plus 81 more remaining csv files\n",
      "\n",
      "Files in tdcsfog:\n",
      "['a171e61840.csv', '4171ea3a0c.csv', '0f985a8440.csv', '5d320ade20.csv', 'ae8c67086b.csv', 'b7214cbf21.csv', 'e18fcafee8.csv', '79568b8e25.csv', 'feba449e1a.csv', '7ebad45aec.csv']... plus 823 more remaining csv files\n"
     ]
    }
   ],
   "source": [
    "# List all relevant files, folders, and subfolders \n",
    "all_files = os.listdir('../input/tlvmc-parkinsons-freezing-gait-prediction')\n",
    "print('All competition datasets:')\n",
    "print(all_files)\n",
    "\n",
    "train_files = os.listdir('../input/tlvmc-parkinsons-freezing-gait-prediction/train')\n",
    "print('\\nFolders in train:')\n",
    "print(train_files)\n",
    "\n",
    "defog_path = '../input/tlvmc-parkinsons-freezing-gait-prediction/train/defog'\n",
    "defog_files = os.listdir(defog_path)\n",
    "print('\\nFiles in defog:')\n",
    "print(f'{defog_files[:10]}... plus {len(defog_files)-10} more remaining csv files')\n",
    "\n",
    "tdcsfog_path = '../input/tlvmc-parkinsons-freezing-gait-prediction/train/tdcsfog'\n",
    "tdcsfog_files = os.listdir(tdcsfog_path)\n",
    "print('\\nFiles in tdcsfog:')\n",
    "print(f'{tdcsfog_files[:10]}... plus {len(tdcsfog_files)-10} more remaining csv files')\n"
   ]
  },
  {
   "cell_type": "code",
   "execution_count": 3,
   "id": "b6ce7593",
   "metadata": {
    "execution": {
     "iopub.execute_input": "2025-09-06T17:51:59.260923Z",
     "iopub.status.busy": "2025-09-06T17:51:59.260645Z",
     "iopub.status.idle": "2025-09-06T17:52:35.355821Z",
     "shell.execute_reply": "2025-09-06T17:52:35.354840Z"
    },
    "papermill": {
     "duration": 36.101795,
     "end_time": "2025-09-06T17:52:35.359028",
     "exception": false,
     "start_time": "2025-09-06T17:51:59.257233",
     "status": "completed"
    },
    "tags": []
   },
   "outputs": [
    {
     "name": "stdout",
     "output_type": "stream",
     "text": [
      "\n",
      "Combined defog shape: (13525702, 9)\n",
      "\n",
      "Combined tdcsfog shape: (7062672, 7)\n"
     ]
    }
   ],
   "source": [
    "# Function to read all csv files in folder\n",
    "def read_dataset(files, folder):\n",
    "    for fname in files:\n",
    "        yield pd.read_csv(os.path.join(folder, fname))\n",
    "\n",
    "# Combine CSVs in defog into one dataframe \n",
    "df_defog = pd.concat(read_dataset(defog_files, defog_path))\n",
    "print(\"\\nCombined defog shape:\", df_defog.shape)\n",
    "\n",
    "# Combine CSVs in tdcsfog into one dataframe\n",
    "df_tdcsfog = pd.concat(read_dataset(tdcsfog_files, tdcsfog_path))\n",
    "print(\"\\nCombined tdcsfog shape:\", df_tdcsfog.shape)"
   ]
  },
  {
   "cell_type": "code",
   "execution_count": 4,
   "id": "c75a22ad",
   "metadata": {
    "execution": {
     "iopub.execute_input": "2025-09-06T17:52:35.365904Z",
     "iopub.status.busy": "2025-09-06T17:52:35.365566Z",
     "iopub.status.idle": "2025-09-06T17:52:35.394791Z",
     "shell.execute_reply": "2025-09-06T17:52:35.393842Z"
    },
    "papermill": {
     "duration": 0.034404,
     "end_time": "2025-09-06T17:52:35.396288",
     "exception": false,
     "start_time": "2025-09-06T17:52:35.361884",
     "status": "completed"
    },
    "tags": []
   },
   "outputs": [
    {
     "data": {
      "text/html": [
       "<div>\n",
       "<style scoped>\n",
       "    .dataframe tbody tr th:only-of-type {\n",
       "        vertical-align: middle;\n",
       "    }\n",
       "\n",
       "    .dataframe tbody tr th {\n",
       "        vertical-align: top;\n",
       "    }\n",
       "\n",
       "    .dataframe thead th {\n",
       "        text-align: right;\n",
       "    }\n",
       "</style>\n",
       "<table border=\"1\" class=\"dataframe\">\n",
       "  <thead>\n",
       "    <tr style=\"text-align: right;\">\n",
       "      <th></th>\n",
       "      <th>Time</th>\n",
       "      <th>AccV</th>\n",
       "      <th>AccML</th>\n",
       "      <th>AccAP</th>\n",
       "      <th>StartHesitation</th>\n",
       "      <th>Turn</th>\n",
       "      <th>Walking</th>\n",
       "      <th>Valid</th>\n",
       "      <th>Task</th>\n",
       "    </tr>\n",
       "  </thead>\n",
       "  <tbody>\n",
       "    <tr>\n",
       "      <th>0</th>\n",
       "      <td>0</td>\n",
       "      <td>-1.002697</td>\n",
       "      <td>0.022371</td>\n",
       "      <td>0.068304</td>\n",
       "      <td>0</td>\n",
       "      <td>0</td>\n",
       "      <td>0</td>\n",
       "      <td>False</td>\n",
       "      <td>False</td>\n",
       "    </tr>\n",
       "    <tr>\n",
       "      <th>1</th>\n",
       "      <td>1</td>\n",
       "      <td>-1.002641</td>\n",
       "      <td>0.019173</td>\n",
       "      <td>0.066162</td>\n",
       "      <td>0</td>\n",
       "      <td>0</td>\n",
       "      <td>0</td>\n",
       "      <td>False</td>\n",
       "      <td>False</td>\n",
       "    </tr>\n",
       "    <tr>\n",
       "      <th>2</th>\n",
       "      <td>2</td>\n",
       "      <td>-0.999820</td>\n",
       "      <td>0.019142</td>\n",
       "      <td>0.067536</td>\n",
       "      <td>0</td>\n",
       "      <td>0</td>\n",
       "      <td>0</td>\n",
       "      <td>False</td>\n",
       "      <td>False</td>\n",
       "    </tr>\n",
       "    <tr>\n",
       "      <th>3</th>\n",
       "      <td>3</td>\n",
       "      <td>-0.998023</td>\n",
       "      <td>0.018378</td>\n",
       "      <td>0.068409</td>\n",
       "      <td>0</td>\n",
       "      <td>0</td>\n",
       "      <td>0</td>\n",
       "      <td>False</td>\n",
       "      <td>False</td>\n",
       "    </tr>\n",
       "    <tr>\n",
       "      <th>4</th>\n",
       "      <td>4</td>\n",
       "      <td>-0.998359</td>\n",
       "      <td>0.016726</td>\n",
       "      <td>0.066448</td>\n",
       "      <td>0</td>\n",
       "      <td>0</td>\n",
       "      <td>0</td>\n",
       "      <td>False</td>\n",
       "      <td>False</td>\n",
       "    </tr>\n",
       "    <tr>\n",
       "      <th>5</th>\n",
       "      <td>5</td>\n",
       "      <td>-1.002969</td>\n",
       "      <td>0.016203</td>\n",
       "      <td>0.065118</td>\n",
       "      <td>0</td>\n",
       "      <td>0</td>\n",
       "      <td>0</td>\n",
       "      <td>False</td>\n",
       "      <td>False</td>\n",
       "    </tr>\n",
       "    <tr>\n",
       "      <th>6</th>\n",
       "      <td>6</td>\n",
       "      <td>-1.010631</td>\n",
       "      <td>0.014523</td>\n",
       "      <td>0.062518</td>\n",
       "      <td>0</td>\n",
       "      <td>0</td>\n",
       "      <td>0</td>\n",
       "      <td>False</td>\n",
       "      <td>False</td>\n",
       "    </tr>\n",
       "    <tr>\n",
       "      <th>7</th>\n",
       "      <td>7</td>\n",
       "      <td>-1.015932</td>\n",
       "      <td>0.014735</td>\n",
       "      <td>0.056944</td>\n",
       "      <td>0</td>\n",
       "      <td>0</td>\n",
       "      <td>0</td>\n",
       "      <td>False</td>\n",
       "      <td>False</td>\n",
       "    </tr>\n",
       "    <tr>\n",
       "      <th>8</th>\n",
       "      <td>8</td>\n",
       "      <td>-1.016709</td>\n",
       "      <td>0.020147</td>\n",
       "      <td>0.054147</td>\n",
       "      <td>0</td>\n",
       "      <td>0</td>\n",
       "      <td>0</td>\n",
       "      <td>False</td>\n",
       "      <td>False</td>\n",
       "    </tr>\n",
       "    <tr>\n",
       "      <th>9</th>\n",
       "      <td>9</td>\n",
       "      <td>-1.016231</td>\n",
       "      <td>0.022617</td>\n",
       "      <td>0.055152</td>\n",
       "      <td>0</td>\n",
       "      <td>0</td>\n",
       "      <td>0</td>\n",
       "      <td>False</td>\n",
       "      <td>False</td>\n",
       "    </tr>\n",
       "  </tbody>\n",
       "</table>\n",
       "</div>"
      ],
      "text/plain": [
       "   Time      AccV     AccML     AccAP  StartHesitation  Turn  Walking  Valid  \\\n",
       "0     0 -1.002697  0.022371  0.068304                0     0        0  False   \n",
       "1     1 -1.002641  0.019173  0.066162                0     0        0  False   \n",
       "2     2 -0.999820  0.019142  0.067536                0     0        0  False   \n",
       "3     3 -0.998023  0.018378  0.068409                0     0        0  False   \n",
       "4     4 -0.998359  0.016726  0.066448                0     0        0  False   \n",
       "5     5 -1.002969  0.016203  0.065118                0     0        0  False   \n",
       "6     6 -1.010631  0.014523  0.062518                0     0        0  False   \n",
       "7     7 -1.015932  0.014735  0.056944                0     0        0  False   \n",
       "8     8 -1.016709  0.020147  0.054147                0     0        0  False   \n",
       "9     9 -1.016231  0.022617  0.055152                0     0        0  False   \n",
       "\n",
       "    Task  \n",
       "0  False  \n",
       "1  False  \n",
       "2  False  \n",
       "3  False  \n",
       "4  False  \n",
       "5  False  \n",
       "6  False  \n",
       "7  False  \n",
       "8  False  \n",
       "9  False  "
      ]
     },
     "execution_count": 4,
     "metadata": {},
     "output_type": "execute_result"
    }
   ],
   "source": [
    "# Preview of defog data\n",
    "df_defog.head(10)"
   ]
  },
  {
   "cell_type": "code",
   "execution_count": 5,
   "id": "11b77826",
   "metadata": {
    "execution": {
     "iopub.execute_input": "2025-09-06T17:52:35.403586Z",
     "iopub.status.busy": "2025-09-06T17:52:35.403248Z",
     "iopub.status.idle": "2025-09-06T17:52:35.415932Z",
     "shell.execute_reply": "2025-09-06T17:52:35.414990Z"
    },
    "papermill": {
     "duration": 0.01787,
     "end_time": "2025-09-06T17:52:35.417327",
     "exception": false,
     "start_time": "2025-09-06T17:52:35.399457",
     "status": "completed"
    },
    "tags": []
   },
   "outputs": [
    {
     "data": {
      "text/html": [
       "<div>\n",
       "<style scoped>\n",
       "    .dataframe tbody tr th:only-of-type {\n",
       "        vertical-align: middle;\n",
       "    }\n",
       "\n",
       "    .dataframe tbody tr th {\n",
       "        vertical-align: top;\n",
       "    }\n",
       "\n",
       "    .dataframe thead th {\n",
       "        text-align: right;\n",
       "    }\n",
       "</style>\n",
       "<table border=\"1\" class=\"dataframe\">\n",
       "  <thead>\n",
       "    <tr style=\"text-align: right;\">\n",
       "      <th></th>\n",
       "      <th>Time</th>\n",
       "      <th>AccV</th>\n",
       "      <th>AccML</th>\n",
       "      <th>AccAP</th>\n",
       "      <th>StartHesitation</th>\n",
       "      <th>Turn</th>\n",
       "      <th>Walking</th>\n",
       "    </tr>\n",
       "  </thead>\n",
       "  <tbody>\n",
       "    <tr>\n",
       "      <th>0</th>\n",
       "      <td>0</td>\n",
       "      <td>-9.665890</td>\n",
       "      <td>0.042550</td>\n",
       "      <td>0.184744</td>\n",
       "      <td>0</td>\n",
       "      <td>0</td>\n",
       "      <td>0</td>\n",
       "    </tr>\n",
       "    <tr>\n",
       "      <th>1</th>\n",
       "      <td>1</td>\n",
       "      <td>-9.672969</td>\n",
       "      <td>0.049217</td>\n",
       "      <td>0.184644</td>\n",
       "      <td>0</td>\n",
       "      <td>0</td>\n",
       "      <td>0</td>\n",
       "    </tr>\n",
       "    <tr>\n",
       "      <th>2</th>\n",
       "      <td>2</td>\n",
       "      <td>-9.670260</td>\n",
       "      <td>0.033620</td>\n",
       "      <td>0.193790</td>\n",
       "      <td>0</td>\n",
       "      <td>0</td>\n",
       "      <td>0</td>\n",
       "    </tr>\n",
       "    <tr>\n",
       "      <th>3</th>\n",
       "      <td>3</td>\n",
       "      <td>-9.673356</td>\n",
       "      <td>0.035159</td>\n",
       "      <td>0.184369</td>\n",
       "      <td>0</td>\n",
       "      <td>0</td>\n",
       "      <td>0</td>\n",
       "    </tr>\n",
       "    <tr>\n",
       "      <th>4</th>\n",
       "      <td>4</td>\n",
       "      <td>-9.671458</td>\n",
       "      <td>0.043913</td>\n",
       "      <td>0.197814</td>\n",
       "      <td>0</td>\n",
       "      <td>0</td>\n",
       "      <td>0</td>\n",
       "    </tr>\n",
       "    <tr>\n",
       "      <th>5</th>\n",
       "      <td>5</td>\n",
       "      <td>-9.668620</td>\n",
       "      <td>0.033002</td>\n",
       "      <td>0.207051</td>\n",
       "      <td>0</td>\n",
       "      <td>0</td>\n",
       "      <td>0</td>\n",
       "    </tr>\n",
       "    <tr>\n",
       "      <th>6</th>\n",
       "      <td>6</td>\n",
       "      <td>-9.667810</td>\n",
       "      <td>0.033760</td>\n",
       "      <td>0.205178</td>\n",
       "      <td>0</td>\n",
       "      <td>0</td>\n",
       "      <td>0</td>\n",
       "    </tr>\n",
       "    <tr>\n",
       "      <th>7</th>\n",
       "      <td>7</td>\n",
       "      <td>-9.668493</td>\n",
       "      <td>0.037686</td>\n",
       "      <td>0.209401</td>\n",
       "      <td>0</td>\n",
       "      <td>0</td>\n",
       "      <td>0</td>\n",
       "    </tr>\n",
       "    <tr>\n",
       "      <th>8</th>\n",
       "      <td>8</td>\n",
       "      <td>-9.664340</td>\n",
       "      <td>0.035000</td>\n",
       "      <td>0.195657</td>\n",
       "      <td>0</td>\n",
       "      <td>0</td>\n",
       "      <td>0</td>\n",
       "    </tr>\n",
       "    <tr>\n",
       "      <th>9</th>\n",
       "      <td>9</td>\n",
       "      <td>-9.677481</td>\n",
       "      <td>0.024179</td>\n",
       "      <td>0.184481</td>\n",
       "      <td>0</td>\n",
       "      <td>0</td>\n",
       "      <td>0</td>\n",
       "    </tr>\n",
       "  </tbody>\n",
       "</table>\n",
       "</div>"
      ],
      "text/plain": [
       "   Time      AccV     AccML     AccAP  StartHesitation  Turn  Walking\n",
       "0     0 -9.665890  0.042550  0.184744                0     0        0\n",
       "1     1 -9.672969  0.049217  0.184644                0     0        0\n",
       "2     2 -9.670260  0.033620  0.193790                0     0        0\n",
       "3     3 -9.673356  0.035159  0.184369                0     0        0\n",
       "4     4 -9.671458  0.043913  0.197814                0     0        0\n",
       "5     5 -9.668620  0.033002  0.207051                0     0        0\n",
       "6     6 -9.667810  0.033760  0.205178                0     0        0\n",
       "7     7 -9.668493  0.037686  0.209401                0     0        0\n",
       "8     8 -9.664340  0.035000  0.195657                0     0        0\n",
       "9     9 -9.677481  0.024179  0.184481                0     0        0"
      ]
     },
     "execution_count": 5,
     "metadata": {},
     "output_type": "execute_result"
    }
   ],
   "source": [
    "# Preview of tdcsfog data\n",
    "df_tdcsfog.head(10)"
   ]
  },
  {
   "cell_type": "code",
   "execution_count": 6,
   "id": "51ddba5e",
   "metadata": {
    "execution": {
     "iopub.execute_input": "2025-09-06T17:52:35.426752Z",
     "iopub.status.busy": "2025-09-06T17:52:35.426282Z",
     "iopub.status.idle": "2025-09-06T17:52:35.433715Z",
     "shell.execute_reply": "2025-09-06T17:52:35.432479Z"
    },
    "papermill": {
     "duration": 0.013925,
     "end_time": "2025-09-06T17:52:35.435743",
     "exception": false,
     "start_time": "2025-09-06T17:52:35.421818",
     "status": "completed"
    },
    "tags": []
   },
   "outputs": [
    {
     "name": "stdout",
     "output_type": "stream",
     "text": [
      "Time                 int64\n",
      "AccV               float64\n",
      "AccML              float64\n",
      "AccAP              float64\n",
      "StartHesitation      int64\n",
      "Turn                 int64\n",
      "Walking              int64\n",
      "Valid                 bool\n",
      "Task                  bool\n",
      "dtype: object\n"
     ]
    }
   ],
   "source": [
    "# Feature data types in defog dataset\n",
    "print(df_defog.dtypes)"
   ]
  },
  {
   "cell_type": "code",
   "execution_count": 7,
   "id": "fa2fe6cb",
   "metadata": {
    "execution": {
     "iopub.execute_input": "2025-09-06T17:52:35.444291Z",
     "iopub.status.busy": "2025-09-06T17:52:35.443989Z",
     "iopub.status.idle": "2025-09-06T17:52:35.450343Z",
     "shell.execute_reply": "2025-09-06T17:52:35.449023Z"
    },
    "papermill": {
     "duration": 0.012656,
     "end_time": "2025-09-06T17:52:35.452122",
     "exception": false,
     "start_time": "2025-09-06T17:52:35.439466",
     "status": "completed"
    },
    "tags": []
   },
   "outputs": [
    {
     "name": "stdout",
     "output_type": "stream",
     "text": [
      "Time                 int64\n",
      "AccV               float64\n",
      "AccML              float64\n",
      "AccAP              float64\n",
      "StartHesitation      int64\n",
      "Turn                 int64\n",
      "Walking              int64\n",
      "dtype: object\n"
     ]
    }
   ],
   "source": [
    "# Feature data types in tdcsfog dataset\n",
    "print(df_tdcsfog.dtypes)"
   ]
  },
  {
   "cell_type": "code",
   "execution_count": 8,
   "id": "ca7c09fa",
   "metadata": {
    "execution": {
     "iopub.execute_input": "2025-09-06T17:52:35.460313Z",
     "iopub.status.busy": "2025-09-06T17:52:35.459966Z",
     "iopub.status.idle": "2025-09-06T17:52:35.464206Z",
     "shell.execute_reply": "2025-09-06T17:52:35.463436Z"
    },
    "papermill": {
     "duration": 0.010426,
     "end_time": "2025-09-06T17:52:35.466150",
     "exception": false,
     "start_time": "2025-09-06T17:52:35.455724",
     "status": "completed"
    },
    "tags": []
   },
   "outputs": [],
   "source": [
    "# plt.figure(figsize=(12, 6))\n",
    "\n",
    "# plt.plot(df_defog_cleaned[\"Time\"], df_defog_cleaned[\"AccV\"], label=\"AccV (up-down)\")\n",
    "# plt.plot(df_defog_cleaned[\"Time\"], df_defog_cleaned[\"AccML\"], label=\"AccML (side-to-side)\")\n",
    "# plt.plot(df_defog_cleaned[\"Time\"], df_defog_cleaned[\"AccAP\"], label=\"AccAP (front-to-back)\")\n",
    "\n",
    "# plt.xlabel(\"Time (s)\")\n",
    "# plt.ylabel(\"Acceleration (m/s^2)\")\n",
    "# plt.title(\"Acceleration Signals Over Time\")\n",
    "# plt.legend()\n",
    "# plt.show()"
   ]
  }
 ],
 "metadata": {
  "kaggle": {
   "accelerator": "none",
   "dataSources": [
    {
     "databundleVersionId": 5677426,
     "sourceId": 41880,
     "sourceType": "competition"
    }
   ],
   "dockerImageVersionId": 31089,
   "isGpuEnabled": false,
   "isInternetEnabled": true,
   "language": "python",
   "sourceType": "notebook"
  },
  "kernelspec": {
   "display_name": "Python 3",
   "language": "python",
   "name": "python3"
  },
  "language_info": {
   "codemirror_mode": {
    "name": "ipython",
    "version": 3
   },
   "file_extension": ".py",
   "mimetype": "text/x-python",
   "name": "python",
   "nbconvert_exporter": "python",
   "pygments_lexer": "ipython3",
   "version": "3.11.13"
  },
  "papermill": {
   "default_parameters": {},
   "duration": 45.754423,
   "end_time": "2025-09-06T17:52:36.089914",
   "environment_variables": {},
   "exception": null,
   "input_path": "__notebook__.ipynb",
   "output_path": "__notebook__.ipynb",
   "parameters": {},
   "start_time": "2025-09-06T17:51:50.335491",
   "version": "2.6.0"
  }
 },
 "nbformat": 4,
 "nbformat_minor": 5
}
